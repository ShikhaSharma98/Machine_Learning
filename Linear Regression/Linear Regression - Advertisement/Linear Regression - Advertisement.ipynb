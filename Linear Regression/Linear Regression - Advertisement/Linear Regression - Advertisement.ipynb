{
 "cells": [
  {
   "cell_type": "markdown",
   "metadata": {},
   "source": [
    "### The adverstiting dataset captures sales revenue generated with respect to advertisement spends across multiple channles like radio, tv and newspaper."
   ]
  },
  {
   "cell_type": "markdown",
   "metadata": {},
   "source": [
    "##### Attribution Descriptions\n",
    "##### TV - Spend on TV Advertisements\n",
    "##### Radio - Spend on radio Advertisements\n",
    "##### Newspaper - Spend on newspaper Advertisements\n",
    "##### Sales - Sales revenue generated\n",
    "##### Note: The amounts are in different units"
   ]
  },
  {
   "cell_type": "code",
   "execution_count": 1,
   "metadata": {},
   "outputs": [],
   "source": [
    "#Importing libraries\n",
    "import pandas as pd\n",
    "import numpy as np\n",
    "import seaborn as sns\n",
    "import matplotlib.pyplot as plt\n",
    "%matplotlib inline"
   ]
  },
  {
   "cell_type": "code",
   "execution_count": 2,
   "metadata": {},
   "outputs": [],
   "source": [
    "#Importing the dataset\n",
    "advt=pd.read_csv(\"Advertising.csv\")"
   ]
  },
  {
   "cell_type": "code",
   "execution_count": 3,
   "metadata": {},
   "outputs": [
    {
     "name": "stdout",
     "output_type": "stream",
     "text": [
      "<class 'pandas.core.frame.DataFrame'>\n",
      "RangeIndex: 200 entries, 0 to 199\n",
      "Data columns (total 5 columns):\n",
      "Unnamed: 0    200 non-null int64\n",
      "TV            200 non-null float64\n",
      "Radio         200 non-null float64\n",
      "Newspaper     200 non-null float64\n",
      "Sales         200 non-null float64\n",
      "dtypes: float64(4), int64(1)\n",
      "memory usage: 7.9 KB\n"
     ]
    }
   ],
   "source": [
    "advt.info()"
   ]
  },
  {
   "cell_type": "code",
   "execution_count": 4,
   "metadata": {},
   "outputs": [
    {
     "data": {
      "text/html": [
       "<div>\n",
       "<style scoped>\n",
       "    .dataframe tbody tr th:only-of-type {\n",
       "        vertical-align: middle;\n",
       "    }\n",
       "\n",
       "    .dataframe tbody tr th {\n",
       "        vertical-align: top;\n",
       "    }\n",
       "\n",
       "    .dataframe thead th {\n",
       "        text-align: right;\n",
       "    }\n",
       "</style>\n",
       "<table border=\"1\" class=\"dataframe\">\n",
       "  <thead>\n",
       "    <tr style=\"text-align: right;\">\n",
       "      <th></th>\n",
       "      <th>Unnamed: 0</th>\n",
       "      <th>TV</th>\n",
       "      <th>Radio</th>\n",
       "      <th>Newspaper</th>\n",
       "      <th>Sales</th>\n",
       "    </tr>\n",
       "  </thead>\n",
       "  <tbody>\n",
       "    <tr>\n",
       "      <th>0</th>\n",
       "      <td>1</td>\n",
       "      <td>230.1</td>\n",
       "      <td>37.8</td>\n",
       "      <td>69.2</td>\n",
       "      <td>22.1</td>\n",
       "    </tr>\n",
       "    <tr>\n",
       "      <th>1</th>\n",
       "      <td>2</td>\n",
       "      <td>44.5</td>\n",
       "      <td>39.3</td>\n",
       "      <td>45.1</td>\n",
       "      <td>10.4</td>\n",
       "    </tr>\n",
       "    <tr>\n",
       "      <th>2</th>\n",
       "      <td>3</td>\n",
       "      <td>17.2</td>\n",
       "      <td>45.9</td>\n",
       "      <td>69.3</td>\n",
       "      <td>9.3</td>\n",
       "    </tr>\n",
       "    <tr>\n",
       "      <th>3</th>\n",
       "      <td>4</td>\n",
       "      <td>151.5</td>\n",
       "      <td>41.3</td>\n",
       "      <td>58.5</td>\n",
       "      <td>18.5</td>\n",
       "    </tr>\n",
       "    <tr>\n",
       "      <th>4</th>\n",
       "      <td>5</td>\n",
       "      <td>180.8</td>\n",
       "      <td>10.8</td>\n",
       "      <td>58.4</td>\n",
       "      <td>12.9</td>\n",
       "    </tr>\n",
       "  </tbody>\n",
       "</table>\n",
       "</div>"
      ],
      "text/plain": [
       "   Unnamed: 0     TV  Radio  Newspaper  Sales\n",
       "0           1  230.1   37.8       69.2   22.1\n",
       "1           2   44.5   39.3       45.1   10.4\n",
       "2           3   17.2   45.9       69.3    9.3\n",
       "3           4  151.5   41.3       58.5   18.5\n",
       "4           5  180.8   10.8       58.4   12.9"
      ]
     },
     "execution_count": 4,
     "metadata": {},
     "output_type": "execute_result"
    }
   ],
   "source": [
    "advt.head()"
   ]
  },
  {
   "cell_type": "code",
   "execution_count": 5,
   "metadata": {},
   "outputs": [],
   "source": [
    "advt=advt[['TV','Radio','Newspaper','Sales']]"
   ]
  },
  {
   "cell_type": "code",
   "execution_count": 6,
   "metadata": {},
   "outputs": [
    {
     "data": {
      "text/html": [
       "<meta charset=\"UTF-8\">\n",
       "\n",
       "<style>\n",
       "\n",
       "        .variablerow {\n",
       "            border: 1px solid #e1e1e8;\n",
       "            border-top: hidden;\n",
       "            padding-top: 2em;\n",
       "            padding-bottom: 2em;\n",
       "            padding-left: 1em;\n",
       "            padding-right: 1em;\n",
       "        }\n",
       "\n",
       "        .headerrow {\n",
       "            border: 1px solid #e1e1e8;\n",
       "            background-color: #f5f5f5;\n",
       "            padding: 2em;\n",
       "        }\n",
       "        .namecol {\n",
       "            margin-top: -1em;\n",
       "            overflow-x: auto;\n",
       "        }\n",
       "\n",
       "        .dl-horizontal dt {\n",
       "            text-align: left;\n",
       "            padding-right: 1em;\n",
       "            white-space: normal;\n",
       "        }\n",
       "\n",
       "        .dl-horizontal dd {\n",
       "            margin-left: 0;\n",
       "        }\n",
       "\n",
       "        .ignore {\n",
       "            opacity: 0.4;\n",
       "        }\n",
       "\n",
       "        .container.pandas-profiling {\n",
       "            max-width:975px;\n",
       "        }\n",
       "\n",
       "        .col-md-12 {\n",
       "            padding-left: 2em;\n",
       "        }\n",
       "\n",
       "        .indent {\n",
       "            margin-left: 1em;\n",
       "        }\n",
       "\n",
       "        .center-img {\n",
       "            margin-left: auto !important;\n",
       "            margin-right: auto !important;\n",
       "            display: block;\n",
       "        }\n",
       "\n",
       "        /* Table example_values */\n",
       "            table.example_values {\n",
       "                border: 0;\n",
       "            }\n",
       "\n",
       "            .example_values th {\n",
       "                border: 0;\n",
       "                padding: 0 ;\n",
       "                color: #555;\n",
       "                font-weight: 600;\n",
       "            }\n",
       "\n",
       "            .example_values tr, .example_values td{\n",
       "                border: 0;\n",
       "                padding: 0;\n",
       "                color: #555;\n",
       "            }\n",
       "\n",
       "        /* STATS */\n",
       "            table.stats {\n",
       "                border: 0;\n",
       "            }\n",
       "\n",
       "            .stats th {\n",
       "                border: 0;\n",
       "                padding: 0 2em 0 0;\n",
       "                color: #555;\n",
       "                font-weight: 600;\n",
       "            }\n",
       "\n",
       "            .stats tr {\n",
       "                border: 0;\n",
       "            }\n",
       "\n",
       "            .stats td{\n",
       "                color: #555;\n",
       "                padding: 1px;\n",
       "                border: 0;\n",
       "            }\n",
       "\n",
       "\n",
       "        /* Sample table */\n",
       "            table.sample {\n",
       "                border: 0;\n",
       "                margin-bottom: 2em;\n",
       "                margin-left:1em;\n",
       "            }\n",
       "            .sample tr {\n",
       "                border:0;\n",
       "            }\n",
       "            .sample td, .sample th{\n",
       "                padding: 0.5em;\n",
       "                white-space: nowrap;\n",
       "                border: none;\n",
       "\n",
       "            }\n",
       "\n",
       "            .sample thead {\n",
       "                border-top: 0;\n",
       "                border-bottom: 2px solid #ddd;\n",
       "            }\n",
       "\n",
       "            .sample td {\n",
       "                width:100%;\n",
       "            }\n",
       "\n",
       "\n",
       "        /* There is no good solution available to make the divs equal height and then center ... */\n",
       "            .histogram {\n",
       "                margin-top: 3em;\n",
       "            }\n",
       "        /* Freq table */\n",
       "\n",
       "            table.freq {\n",
       "                margin-bottom: 2em;\n",
       "                border: 0;\n",
       "            }\n",
       "            table.freq th, table.freq tr, table.freq td {\n",
       "                border: 0;\n",
       "                padding: 0;\n",
       "            }\n",
       "\n",
       "            .freq thead {\n",
       "                font-weight: 600;\n",
       "                white-space: nowrap;\n",
       "                overflow: hidden;\n",
       "                text-overflow: ellipsis;\n",
       "\n",
       "            }\n",
       "\n",
       "            td.fillremaining{\n",
       "                width:auto;\n",
       "                max-width: none;\n",
       "            }\n",
       "\n",
       "            td.number, th.number {\n",
       "                text-align:right ;\n",
       "            }\n",
       "\n",
       "        /* Freq mini */\n",
       "            .freq.mini td{\n",
       "                width: 50%;\n",
       "                padding: 1px;\n",
       "                font-size: 12px;\n",
       "\n",
       "            }\n",
       "            table.freq.mini {\n",
       "                 width:100%;\n",
       "            }\n",
       "            .freq.mini th {\n",
       "                overflow: hidden;\n",
       "                text-overflow: ellipsis;\n",
       "                white-space: nowrap;\n",
       "                max-width: 5em;\n",
       "                font-weight: 400;\n",
       "                text-align:right;\n",
       "                padding-right: 0.5em;\n",
       "            }\n",
       "\n",
       "            .missing {\n",
       "                color: #a94442;\n",
       "            }\n",
       "            .alert, .alert > th, .alert > td {\n",
       "                color: #a94442;\n",
       "            }\n",
       "\n",
       "\n",
       "        /* Bars in tables */\n",
       "            .freq .bar{\n",
       "                float: left;\n",
       "                width: 0;\n",
       "                height: 100%;\n",
       "                line-height: 20px;\n",
       "                color: #fff;\n",
       "                text-align: center;\n",
       "                background-color: #337ab7;\n",
       "                border-radius: 3px;\n",
       "                margin-right: 4px;\n",
       "            }\n",
       "            .other .bar {\n",
       "                background-color: #999;\n",
       "            }\n",
       "            .missing .bar{\n",
       "                background-color: #a94442;\n",
       "            }\n",
       "            .tooltip-inner {\n",
       "                width: 100%;\n",
       "                white-space: nowrap;\n",
       "                text-align:left;\n",
       "            }\n",
       "\n",
       "            .extrapadding{\n",
       "                padding: 2em;\n",
       "            }\n",
       "\n",
       "            .pp-anchor{\n",
       "\n",
       "            }\n",
       "\n",
       "</style>\n",
       "\n",
       "<div class=\"container pandas-profiling\">\n",
       "    <div class=\"row headerrow highlight\">\n",
       "        <h1>Overview</h1>\n",
       "    </div>\n",
       "    <div class=\"row variablerow\">\n",
       "    <div class=\"col-md-6 namecol\">\n",
       "        <p class=\"h4\">Dataset info</p>\n",
       "        <table class=\"stats\" style=\"margin-left: 1em;\">\n",
       "            <tbody>\n",
       "            <tr>\n",
       "                <th>Number of variables</th>\n",
       "                <td>4 </td>\n",
       "            </tr>\n",
       "            <tr>\n",
       "                <th>Number of observations</th>\n",
       "                <td>200 </td>\n",
       "            </tr>\n",
       "            <tr>\n",
       "                <th>Total Missing (%)</th>\n",
       "                <td>0.0% </td>\n",
       "            </tr>\n",
       "            <tr>\n",
       "                <th>Total size in memory</th>\n",
       "                <td>6.3 KiB </td>\n",
       "            </tr>\n",
       "            <tr>\n",
       "                <th>Average record size in memory</th>\n",
       "                <td>32.4 B </td>\n",
       "            </tr>\n",
       "            </tbody>\n",
       "        </table>\n",
       "    </div>\n",
       "    <div class=\"col-md-6 namecol\">\n",
       "        <p class=\"h4\">Variables types</p>\n",
       "        <table class=\"stats\" style=\"margin-left: 1em;\">\n",
       "            <tbody>\n",
       "            <tr>\n",
       "                <th>Numeric</th>\n",
       "                <td>4 </td>\n",
       "            </tr>\n",
       "            <tr>\n",
       "                <th>Categorical</th>\n",
       "                <td>0 </td>\n",
       "            </tr>\n",
       "            <tr>\n",
       "                <th>Boolean</th>\n",
       "                <td>0 </td>\n",
       "            </tr>\n",
       "            <tr>\n",
       "                <th>Date</th>\n",
       "                <td>0 </td>\n",
       "            </tr>\n",
       "            <tr>\n",
       "                <th>Text (Unique)</th>\n",
       "                <td>0 </td>\n",
       "            </tr>\n",
       "            <tr>\n",
       "                <th>Rejected</th>\n",
       "                <td>0 </td>\n",
       "            </tr>\n",
       "            <tr>\n",
       "                <th>Unsupported</th>\n",
       "                <td>0 </td>\n",
       "            </tr>\n",
       "            </tbody>\n",
       "        </table>\n",
       "    </div>\n",
       "</div>\n",
       "    <div class=\"row headerrow highlight\">\n",
       "        <h1>Variables</h1>\n",
       "    </div>\n",
       "    <div class=\"row variablerow\">\n",
       "    <div class=\"col-md-3 namecol\">\n",
       "        <p class=\"h4 pp-anchor\" id=\"pp_var_Newspaper\">Newspaper<br/>\n",
       "            <small>Numeric</small>\n",
       "        </p>\n",
       "    </div><div class=\"col-md-6\">\n",
       "    <div class=\"row\">\n",
       "        <div class=\"col-sm-6\">\n",
       "            <table class=\"stats \">\n",
       "                <tr>\n",
       "                    <th>Distinct count</th>\n",
       "                    <td>172</td>\n",
       "                </tr>\n",
       "                <tr>\n",
       "                    <th>Unique (%)</th>\n",
       "                    <td>86.0%</td>\n",
       "                </tr>\n",
       "                <tr class=\"ignore\">\n",
       "                    <th>Missing (%)</th>\n",
       "                    <td>0.0%</td>\n",
       "                </tr>\n",
       "                <tr class=\"ignore\">\n",
       "                    <th>Missing (n)</th>\n",
       "                    <td>0</td>\n",
       "                </tr>\n",
       "                <tr class=\"ignore\">\n",
       "                    <th>Infinite (%)</th>\n",
       "                    <td>0.0%</td>\n",
       "                </tr>\n",
       "                <tr class=\"ignore\">\n",
       "                    <th>Infinite (n)</th>\n",
       "                    <td>0</td>\n",
       "                </tr>\n",
       "            </table>\n",
       "\n",
       "        </div>\n",
       "        <div class=\"col-sm-6\">\n",
       "            <table class=\"stats \">\n",
       "\n",
       "                <tr>\n",
       "                    <th>Mean</th>\n",
       "                    <td>30.554</td>\n",
       "                </tr>\n",
       "                <tr>\n",
       "                    <th>Minimum</th>\n",
       "                    <td>0.3</td>\n",
       "                </tr>\n",
       "                <tr>\n",
       "                    <th>Maximum</th>\n",
       "                    <td>114</td>\n",
       "                </tr>\n",
       "                <tr class=\"ignore\">\n",
       "                    <th>Zeros (%)</th>\n",
       "                    <td>0.0%</td>\n",
       "                </tr>\n",
       "            </table>\n",
       "        </div>\n",
       "    </div>\n",
       "</div>\n",
       "<div class=\"col-md-3 collapse in\" id=\"minihistogram-8597346934446186790\">\n",
       "    <img src=\"data:image/png;base64,iVBORw0KGgoAAAANSUhEUgAAAMgAAABLCAYAAAA1fMjoAAAABHNCSVQICAgIfAhkiAAAAAlwSFlzAAAPYQAAD2EBqD%2BnaQAAADl0RVh0U29mdHdhcmUAbWF0cGxvdGxpYiB2ZXJzaW9uIDMuMC4yLCBodHRwOi8vbWF0cGxvdGxpYi5vcmcvOIA7rQAAAd9JREFUeJzt3DGO00AYhuHfEW2SPooPgcQVkDgQHRIdJUehp6XnFolygFgUFMQUEJqIT9nVZhzvPk8ZSxlHmlejGVvpxnEcq7H9fl9937celpnb7Xa13W6bjvmq6Wh/LZfLqvrzg1er1RS3wIwcj8fq%2B/7fvGlpkkC6rquqqtVqdRHImw9fH/x93z%2B9e5L74r6d501Li%2BYjwowIBAKBQCAQCAQCwSSnWE/NyRe3YgWBQCAQCAQCgUAgEAiexSnWYzj54hpWEAgEAoFAIBAIBC92k/4YD93Y29TPnxUEAoFAIBAIBAKBQCAQCAQCgUAgEHhQeEPeGJ4/KwgEAoFAIBAIBAKBQCAQCAQCgecgd8azk/tiBYFAIBAIBAJ7kGfAn0ncjhUEAoFAIBAIBAKBQCAQCASOeV8gr7Ncb5JAxnGsqqrj8Xhx7dfPH61vhyu8fv%2BlyTjfPr69%2BOw8T87zpqVJAhmGoaqq%2Br6fYnju2Prz/68Nw1Dr9brdzVRVN06Q5el0qsPhUMvlsrquaz08MzOOYw3DUJvNphaLttvmSQKBuXCKBYFAIBAIBAKBQCAQCAQCgUAgEAgEAoFAIBAIBAKBQCAQCAQCgUAgEAgEAoFAIBAIBAKBQCAQCAQCgUDwG0Q4VX802wGeAAAAAElFTkSuQmCC\">\n",
       "\n",
       "</div>\n",
       "<div class=\"col-md-12 text-right\">\n",
       "    <a role=\"button\" data-toggle=\"collapse\" data-target=\"#descriptives-8597346934446186790,#minihistogram-8597346934446186790\"\n",
       "       aria-expanded=\"false\" aria-controls=\"collapseExample\">\n",
       "        Toggle details\n",
       "    </a>\n",
       "</div>\n",
       "<div class=\"row collapse col-md-12\" id=\"descriptives-8597346934446186790\">\n",
       "    <ul class=\"nav nav-tabs\" role=\"tablist\">\n",
       "        <li role=\"presentation\" class=\"active\"><a href=\"#quantiles-8597346934446186790\"\n",
       "                                                  aria-controls=\"quantiles-8597346934446186790\" role=\"tab\"\n",
       "                                                  data-toggle=\"tab\">Statistics</a></li>\n",
       "        <li role=\"presentation\"><a href=\"#histogram-8597346934446186790\" aria-controls=\"histogram-8597346934446186790\"\n",
       "                                   role=\"tab\" data-toggle=\"tab\">Histogram</a></li>\n",
       "        <li role=\"presentation\"><a href=\"#common-8597346934446186790\" aria-controls=\"common-8597346934446186790\"\n",
       "                                   role=\"tab\" data-toggle=\"tab\">Common Values</a></li>\n",
       "        <li role=\"presentation\"><a href=\"#extreme-8597346934446186790\" aria-controls=\"extreme-8597346934446186790\"\n",
       "                                   role=\"tab\" data-toggle=\"tab\">Extreme Values</a></li>\n",
       "\n",
       "    </ul>\n",
       "\n",
       "    <div class=\"tab-content\">\n",
       "        <div role=\"tabpanel\" class=\"tab-pane active row\" id=\"quantiles-8597346934446186790\">\n",
       "            <div class=\"col-md-4 col-md-offset-1\">\n",
       "                <p class=\"h4\">Quantile statistics</p>\n",
       "                <table class=\"stats indent\">\n",
       "                    <tr>\n",
       "                        <th>Minimum</th>\n",
       "                        <td>0.3</td>\n",
       "                    </tr>\n",
       "                    <tr>\n",
       "                        <th>5-th percentile</th>\n",
       "                        <td>3.6</td>\n",
       "                    </tr>\n",
       "                    <tr>\n",
       "                        <th>Q1</th>\n",
       "                        <td>12.75</td>\n",
       "                    </tr>\n",
       "                    <tr>\n",
       "                        <th>Median</th>\n",
       "                        <td>25.75</td>\n",
       "                    </tr>\n",
       "                    <tr>\n",
       "                        <th>Q3</th>\n",
       "                        <td>45.1</td>\n",
       "                    </tr>\n",
       "                    <tr>\n",
       "                        <th>95-th percentile</th>\n",
       "                        <td>71.825</td>\n",
       "                    </tr>\n",
       "                    <tr>\n",
       "                        <th>Maximum</th>\n",
       "                        <td>114</td>\n",
       "                    </tr>\n",
       "                    <tr>\n",
       "                        <th>Range</th>\n",
       "                        <td>113.7</td>\n",
       "                    </tr>\n",
       "                    <tr>\n",
       "                        <th>Interquartile range</th>\n",
       "                        <td>32.35</td>\n",
       "                    </tr>\n",
       "                </table>\n",
       "            </div>\n",
       "            <div class=\"col-md-4 col-md-offset-2\">\n",
       "                <p class=\"h4\">Descriptive statistics</p>\n",
       "                <table class=\"stats indent\">\n",
       "                    <tr>\n",
       "                        <th>Standard deviation</th>\n",
       "                        <td>21.779</td>\n",
       "                    </tr>\n",
       "                    <tr>\n",
       "                        <th>Coef of variation</th>\n",
       "                        <td>0.71279</td>\n",
       "                    </tr>\n",
       "                    <tr>\n",
       "                        <th>Kurtosis</th>\n",
       "                        <td>0.6495</td>\n",
       "                    </tr>\n",
       "                    <tr>\n",
       "                        <th>Mean</th>\n",
       "                        <td>30.554</td>\n",
       "                    </tr>\n",
       "                    <tr>\n",
       "                        <th>MAD</th>\n",
       "                        <td>17.635</td>\n",
       "                    </tr>\n",
       "                    <tr class=\"\">\n",
       "                        <th>Skewness</th>\n",
       "                        <td>0.89472</td>\n",
       "                    </tr>\n",
       "                    <tr>\n",
       "                        <th>Sum</th>\n",
       "                        <td>6110.8</td>\n",
       "                    </tr>\n",
       "                    <tr>\n",
       "                        <th>Variance</th>\n",
       "                        <td>474.31</td>\n",
       "                    </tr>\n",
       "                    <tr>\n",
       "                        <th>Memory size</th>\n",
       "                        <td>1.6 KiB</td>\n",
       "                    </tr>\n",
       "                </table>\n",
       "            </div>\n",
       "        </div>\n",
       "        <div role=\"tabpanel\" class=\"tab-pane col-md-8 col-md-offset-2\" id=\"histogram-8597346934446186790\">\n",
       "            <img src=\"data:image/png;base64,iVBORw0KGgoAAAANSUhEUgAAAlgAAAGQCAYAAAByNR6YAAAABHNCSVQICAgIfAhkiAAAAAlwSFlzAAAPYQAAD2EBqD%2BnaQAAADl0RVh0U29mdHdhcmUAbWF0cGxvdGxpYiB2ZXJzaW9uIDMuMC4yLCBodHRwOi8vbWF0cGxvdGxpYi5vcmcvOIA7rQAAIABJREFUeJzt3X9QVXX%2Bx/EX8VMNbirKlaCGWlst1DVwS7MyNcw0t3VaK5WwrM1WSVLzR7Rlu6O4llpm2eqWNlmLNaNlu2WhGeqgKSj5q7W2LDFBtCV%2BmILC5/uH3%2B52QxO3jxyO9/mYuTN7zzkc3nx2iKfnHi5BxhgjAAAAWHOe0wMAAACcawgsAAAAywgsAAAAywgsAAAAywgsAAAAywgsAAAAywgsAAAAywgsAAAAywgsAAAAywgsAAAAywgsAAAAywgsAAAAywgsAAAAywgsAAAAywgsAAAAywgsAAAAywgsAAAAywgsAAAAywgsAAAAywgsAAAAywgsAAAAywgsAAAAywgsAAAAywgsAAAAywgsAAAAywgsAAAAywgsAAAAywgsAAAAywgsAAAAywgsAAAAywgsAAAAywgsAAAAywgsAAAAywgsAAAAywgsAAAAywgsAAAAywgsAAAAywgsAAAAy0KcHiAQ1NXVaf/%2B/YqMjFRQUJDT4wAAEBCMMaqsrFRsbKzOO69xrykRWI1g//79io%2BPd3oMAAACUlFRkeLi4hr1cxJYjSAyMlLSif%2BDo6KiHJ4GAIDAUFFRofj4eN/P4cZEYDWC718WjIqKIrAAAGhkTtyew03uAAAAlhFYAAAAlhFYAAAAlhFYAAAAlhFYAAAAlhFYAAAAlhFYAAAAlhFYAAAAlhFYAAAAlhFYAAAAlhFYAAAAlhFYAAAAlvHHnl0uOXOl0yM0WP60m5weAQCARsEVLAAAAMsILAAAAMsILAAAAMsILAAAAMsILAAAAMsILAAAAMsILAAAAMsILAAAAMsILAAAAMsILAAAAMsILAAAAMsILAAAAMsILAAAAMsILAAAAMsILAAAAMsILAAAAMsILAAAAMsILAAAAMsILAAAAMsILAAAAMsILAAAAMsILAAAAMsILAAAAMsILAAAAMsILAAAAMsILAAAAMsILAAAAMsILAAAAMsILAAAAMsILAAAAMsILAAAAMsILAAAAMsILAAAAMsILAAAAMsILAAAAMsILAAAAMsILAAAAMsILAAAAMtCnB4AgSM5c6XTI5yR/Gk3OT0CAMCluIIFAABgGYH1A1lZWQoKClJGRoZvW3V1tdLT0xUdHa0WLVpo0KBB2rdvn4NTAgCApo7A%2Bn%2BbN2/WggUL1LlzZ7/tGRkZWr58ubKzs7V%2B/XpVVVVp4MCBqq2tdWhSAADQ1BFYkqqqqjRs2DAtXLhQLVu29G0vLy/Xiy%2B%2BqFmzZqlv377q2rWrlixZou3bt2vVqlUOTgwAAJoyAkvS6NGjNWDAAPXt29dve0FBgY4dO6aUlBTfttjYWCUmJiovL6%2BxxwQAAC4R8L9FmJ2drYKCAuXn59fbV1JSorCwML%2BrWpIUExOjkpKSU56zurpa1dXVvucVFRX2BgYAAE1eQF/BKioq0tixY/Xqq68qIiKiwR9njFFQUNAp92dlZcnj8fge8fHxNsYFAAAuEdCBVVBQoNLSUiUlJSkkJEQhISHKzc3V3LlzFRISopiYGNXU1KisrMzv40pLSxUTE3PK806ZMkXl5eW%2BR1FR0dn%2BUgAAQBMS0C8R9unTR9u3b/fbdvfdd6tDhw6aNGmS4uPjFRoaqpycHA0ZMkSSVFxcrB07dmjmzJmnPG94eLjCw8PP6uwAAKDpCujAioyMVGJiot%2B2Fi1aqHXr1r7tI0eO1Pjx49W6dWu1atVKEyZMUKdOnerdEA8AAPC9gA6shpgzZ45CQkI0ZMgQHTlyRH369NHixYsVHBzs9GgAAKCJCjLGGKeHONdVVFTI4/GovLxcUVFRVs/ttr/v5yb8LUIAcLez%2BfP3dAL6JncAAICzgcACAACwjMACAACwjMACAACwjMACAACwjMACAACwjMACAACwjMACAACwjMACAACwjMACAACwjMACAACwjMACAACwjMACAACwjMACAACwjMACAACwjMACAACwjMACAACwjMACAACwjMACAACwjMACAACwjMACAACwjMACAACwjMACAACwjMACAACwjMACAACwjMACAACwLMTpAYCmKjlzpdMjnJH8aTc5PQIA4P9xBQsAAMAyAgsAAMAyAgsAAMAyAgsAAMAyAgsAAMAyAgsAAMAyAgsAAMAyAgsAAMAyAgsAAMAyAgsAAMAyAgsAAMAyAgsAAMAyAgsAAMAyAgsAAMAyAgsAAMAyAgsAAMAyAgsAAMAyAgsAAMAyAgsAAMAyAgsAAMAyAgsAAMAyAgsAAMAyAgsAAMAyAgsAAMAyAgsAAMAyAgsAAMAyAgsAAMCygA%2Bs%2BfPnq3PnzoqKilJUVJS6d%2B%2Bud99917e/urpa6enpio6OVosWLTRo0CDt27fPwYkBAEBTF/CBFRcXpxkzZig/P1/5%2Bfnq3bu3fvOb32jnzp2SpIyMDC1fvlzZ2dlav369qqqqNHDgQNXW1jo8OQAAaKqCjDHG6SGamlatWunJJ5/UbbfdpjZt2uiVV17R7bffLknav3%2B/4uPj9c4776hfv34NOl9FRYU8Ho/Ky8sVFRVlddbkzJVWzwf3yp92k9MjAECTcjZ//p5OwF/B%2BqHa2lplZ2fr8OHD6t69uwoKCnTs2DGlpKT4jomNjVViYqLy8vJOeZ7q6mpVVFT4PQAAQOAIcXqApmD79u3q3r27jh49qvPPP1/Lly/X5ZdfrsLCQoWFhally5Z%2Bx8fExKikpOSU58vKytITTzxxtscG/LjpaiZX2wCc61x7BWvJkiU6evSolXP98pe/VGFhoTZu3KgHHnhAaWlp2rVr1ymPN8YoKCjolPunTJmi8vJy36OoqMjKnAAAwB1cG1jjxo2T1%2BvV/fffr02bNv2sc4WFhekXv/iFkpOTlZWVpS5duuiZZ56R1%2BtVTU2NysrK/I4vLS1VTEzMKc8XHh7u%2B63E7x8AACBwuDaw9u/fr5deeknFxcXq2bOnrrjiCs2aNUsHDx782ec2xqi6ulpJSUkKDQ1VTk6Ob19xcbF27NihHj16/OzPAwAAzk2uDayQkBANHjxYK1as0N69e5WWlqaXXnpJcXFxGjx4sP75z3%2BqIb8g%2Bcgjj2jdunX68ssvtX37dmVmZurDDz/UsGHD5PF4NHLkSI0fP16rV6/W1q1bNXz4cHXq1El9%2B/ZthK8SAAC40Tlxk7vX61WfPn301Vdf6fPPP1d%2Bfr5Wr16tNm3aaNGiRbr22mtP%2BbEHDhxQamqqiouL5fF41LlzZ61cuVI33nijJGnOnDkKCQnRkCFDdOTIEfXp00eLFy9WcHBwY315AADAZVz9PliHDh3SkiVLtGjRIu3evVu33HKLRo4cqX79%2Bunw4cN69NFH9dZbb2nPnj2Ozsn7YAH%2B%2BC1CAI3ByffBcu0VrN/%2B9rd65513lJCQoHvvvVdpaWlq06aNb//555%2BviRMnau7cuQ5OCQAAApFrAysqKkqrVq36yZf/2rVrp88%2B%2B6wRpwIAAHBxYL388sunPSYoKEiXXnppI0wDAADwX679LcKHHnpI8%2BbNq7f9ueee0/jx4x2YCAAA4ATXBtYbb7yhq6%2B%2But727t27a%2BnSpQ5MBAAAcIJrA%2BvQoUP1/kagdOLerEOHDjkwEQAAwAmuDaxLL71U7733Xr3t7733nhISEhyYCAAA4ATX3uSekZGhjIwMffPNN%2Brdu7ckafXq1Zo5c6aeeuoph6cDAACBzLWBdd999%2Bno0aOaPn26Hn/8cUlSXFyc5s6dq3vuucfh6QAAQCBzbWBJUnp6utLT01VcXKxmzZrpggsucHokAAAAdwfW99q1a%2Bf0CAAAAD6uvcn94MGDuvvuu3XRRRcpIiJCYWFhfg8AAACnuPYK1ogRI/T555/r4YcfVrt27RQUFOT0SAAAAJJcHFhr167V2rVr1bVrV6dHAQAA8OPalwjj4uK4agUAAJok1wbWnDlzNGXKFO3bt8/pUQAAAPy49iXC1NRUVVZW6uKLL1ZUVJRCQ0P99peWljo0GQAACHSuDawZM2Y4PQIAAMBJuTawRo4c6fQIAAAAJ%2BXae7Ak6csvv9TUqVOVmprqe0nw/fff1yeffOLwZAAAIJC5NrDWrVunK664Qrm5uXr99ddVVVUlSdqyZYsee%2Bwxh6cDAACBzLWBNWnSJE2dOlVr1qzxe%2Bf23r17a%2BPGjQ5OBgAAAp1rA2vbtm267bbb6m1v27atDh486MBEAAAAJ7g2sC644AKVlJTU215YWKgLL7zQgYkAAABOcG1g3XHHHZo8ebIOHjzoe0f3jz76SBMmTNDw4cMdng4AAAQy1wbW9OnT5fV61a5dO1VVVenyyy9Xjx491K1bN/3xj390ejwAABDAXPs%2BWGFhYVq6dKk%2B/fRTbdmyRXV1dbryyivVoUMHp0cDAAABzrWB9b3LLrtMl112mdNjAAAA%2BLg2sH7/%2B9//5P4FCxY00iQAAAD%2BXBtYxcXFfs%2BPHTumnTt3qrKyUtddd51DUwEAALg4sN5%2B%2B%2B16244fP64HHnhAHTt2dGAiAACAE1z7W4QnExISogkTJujJJ590ehQAABDAzqnAkqQvvvhCx44dc3oMAAAQwFz7EuHEiRP9nhtjVFxcrBUrVmjYsGEOTQUAAODiwNqwYYPf8/POO09t2rTRjBkzdN999zk0FQAAgIsDa926dU6PAAAAcFLn3D1YAAAATnPtFaxu3br5/sjz6WzatOksTwMAAPBfrg2sG264QX/961912WWXqXv37pKkjRs3avfu3br//vsVHh7u8IQAACBQuTawvv32W40ePVrTp0/3256ZmakDBw7ob3/7m0OTAQCAQOfae7Bef/113X333fW2jxgxQm%2B88YYDEwEAAJzg2sAKDw9XXl5eve15eXm8PAgAABzl2pcIH3zwQY0aNUpbt27V1VdfLenEPVgLFy7UI4884vB0AAAgkLk2sDIzM5WQkKBnnnlGL730kiSpY8eOWrhwoYYOHerwdAAAIJC5NrAkaejQocQUAABoclx7D5YkVVRUaPHixXrsscdUVlYmSfr4449VXFzs8GQAACCQufYK1o4dO9S3b181b95cRUVFGjFihFq2bKnXX39d%2B/bt08svv%2Bz0iAAAIEC59grWQw89pKFDh%2Brzzz9XRESEb/uAAQO0du1aBycDAACBzrVXsDZv3qz58%2BfX%2B3M5F154IS8RAgAAR7n2ClZYWJiqqqrqbf/ss88UHR3twEQAAAAnuDawBg0apD//%2Bc86fvy4JCkoKEhff/21Jk%2BerMGDBzs8HQAACGSuDaxZs2Zp//798nq9OnLkiHr37q1LLrlEERER9f4%2BIQAAQGNy7T1YHo9HeXl5ysnJ0ZYtW1RXV6crr7xS/fr1q3dfFoCmJTlzpdMjnJH8aTc5PQIAl3FlYB07dkw333yznn/%2BeaWkpCglJcXpkQAAAHxc%2BRJhaGiotm7dauVKVVZWlrp166bIyEi1bdtWt956q3bv3u13THV1tdLT0xUdHa0WLVpo0KBB2rdv38/%2B3AAA4NzkysCSpOHDh2vRokU/%2Bzy5ubkaPXq0Nm7cqJycHB0/flwpKSk6fPiw75iMjAwtX75c2dnZWr9%2BvaqqqjRw4EDV1tb%2B7M8PAADOPa58ifB78%2BbN06pVq5ScnKwWLVr47Zs5c2aDzrFypf%2B9IIsWLVLbtm1VUFCg6667TuXl5XrxxRf1yiuvqG/fvpKkJUuWKD4%2BXqtWrVK/fv3sfDEAAOCc4drAKigoUOfOnSVJ27Zt89v3c146LC8vlyS1atXK93mOHTvmd59XbGysEhMTlZeXd9LAqq6uVnV1te95RUXF/zwPAABwH9cF1hdffKGEhAStW7fO%2BrmNMRo3bpx69uypxMRESVJJSYnCwsLUsmVLv2NjYmJUUlJy0vNkZWXpiSeesD4fAABwB9fdg9W%2BfXsdPHjQ9/z222/XgQMHrJx7zJgx2rZtm/7%2B97%2Bf9lhjzCmvlE2ZMkXl5eW%2BR1FRkZX5AACAO7gusIwxfs/feecdvxvS/1fp6elasWKF1qxZo7i4ON92r9ermpoalZWV%2BR1fWlqqmJiYk54rPDxcUVFRfg8AABA4XBdYthljNGbMGC1btkwffPCBEhIS/PYnJSUpNDRUOTk5vm3FxcXasWOHevTo0djjAgAAF3DdPVhBQUH1Xpr7OTe1jx49Wq%2B99preeustRUZG%2Bu6r8ng8atasmTwej0aOHKnx48erdevWatWqlSZMmKBOnTr5fqsQAADgh1wXWMYYjRgxQuHh4ZKko0ePatSoUfXepmHZsmUNOt/8%2BfMlSb169fLbvmjRIo0YMUKSNGfOHIWEhGjIkCE6cuSI%2BvTpo8WLFys4OPjnfTEAAOCc5LrASktL83s%2BfPjwn3W%2BH9/TdTIRERF69tln9eyzz/6szwUAAAKD6wLLxru3AwAAnE0Bf5M7AACAbQQWAACAZQQWAACAZQQWAACAZQQWAACAZQQWAACAZQQWAACAZQQWAACAZQQWAACAZQQWAACAZQQWAACAZQQWAACAZQQWAACAZQQWAACAZQQWAACAZQQWAACAZQQWAACAZQQWAACAZQQWAACAZQQWAACAZQQWAACAZQQWAACAZQQWAACAZQQWAACAZQQWAACAZQQWAACAZQQWAACAZQQWAACAZQQWAACAZQQWAACAZQQWAACAZQQWAACAZQQWAACAZQQWAACAZQQWAACAZQQWAACAZQQWAACAZQQWAACAZSFODwAATV1y5kqnRzgj%2BdNucnoEIOBxBQsAAMAyAgsAAMAyAgsAAMAyAgsAAMAyAgsAAMAyAgsAAMAyAgsAAMAyAgsAAMAyAgsAAMAyAgsAAMAyAgsAAMAyAgsAAMAyAgsAAMAyAgsAAMCygA%2BstWvX6pZbblFsbKyCgoL05ptv%2Bu03xmjq1KmKjY1Vs2bN1KtXL%2B3cudOhaQEAgBsEfGAdPnxYXbp00bx58066f%2BbMmZo9e7bmzZunzZs3y%2Bv16sYbb1RlZWUjTwoAANwixOkBnNa/f3/179//pPuMMXr66aeVmZmpwYMHS5JefvllxcTE6LXXXtP999/fmKMCAACXCPgrWD9lz549KikpUUpKim9beHi4rr/%2BeuXl5Z3y46qrq1VRUeH3AAAAgYPA%2BgklJSWSpJiYGL/tMTExvn0nk5WVJY/H43vEx8ef1TkBAEDTQmA1QFBQkN9zY0y9bT80ZcoUlZeX%2Bx5FRUVne0QAANCEBPw9WD/F6/VKOnElq127dr7tpaWl9a5q/VB4eLjCw8PP%2BnwAAKBp4grWT0hISJDX61VOTo5vW01NjXJzc9WjRw8HJwMAAE1ZwF/Bqqqq0r///W/f8z179qiwsFCtWrXSRRddpIyMDE2fPl3t27dX%2B/btNX36dDVv3lxDhw51cGoAANCUBXxg5efn64YbbvA9HzdunCQpLS1Nixcv1sSJE3XkyBH94Q9/UFlZma666iq9//77ioyMdGpkAADQxAUZY4zTQ5zrKioq5PF4VF5erqioKKvnTs5cafV8ANwvf9pNTo8ANAln8%2Bfv6QT8FSwAONe46R9exCDOVdzkDgAAYBmBBQAAYBmBBQAAYBmBBQAAYBmBBQAAYBmBBQAAYBmBBQAAYBmBBQAAYBmBBQAAYBmBBQAAYBmBBQAAYBmBBQAAYBmBBQAAYBmBBQAAYBmBBQAAYBmBBQAAYBmBBQAAYBmBBQAAYBmBBQAAYBmBBQAAYBmBBQAAYBmBBQAAYBmBBQAAYBmBBQAAYBmBBQAAYBmBBQAAYBmBBQAAYBmBBQAAYBmBBQAAYBmBBQAAYBmBBQAAYBmBBQAAYBmBBQAAYBmBBQAAYBmBBQAAYBmBBQAAYBmBBQAAYBmBBQAAYBmBBQAAYBmBBQAAYBmBBQAAYBmBBQAAYBmBBQAAYBmBBQAAYFmI0wMAAAJXcuZKp0c4I/nTbnJ6BLgEV7AAAAAsI7AAAAAsI7AAAAAsI7AAAAAsI7AAAAAsI7AAAAAs420aAABoILe9rYSbnGtvgcEVLAAAAMsIrAZ6/vnnlZCQoIiICCUlJWndunVOjwQAAJooAqsBli5dqoyMDGVmZmrr1q269tpr1b9/f%2B3du9fp0QAAQBNEYDXA7NmzNXLkSN17773q2LGjnn76acXHx2v%2B/PlOjwYAAJogbnI/jZqaGhUUFGjy5Ml%2B21NSUpSXl3fSj6murlZ1dbXveXl5uSSpoqLC%2Bny11YetnxMAgMZ2Nn5Gfn9OY4z1c58OgXUahw4dUm1trWJiYvy2x8TEqKSk5KQfk5WVpSeeeKLe9vj4%2BLMyIwAAbueZdfbOXVlZKY/Hc/Y%2BwUkQWA0UFBTk99wYU2/b96ZMmaJx48b5ntfV1ek///mPWrdufcqPOVMVFRWKj49XUVGRoqKirJzzXMZ6nTnW7MyxZmeONTszrNeZMcaosrJSsbGxjf65CazTiI6OVnBwcL2rVaWlpfWuan0vPDxc4eHhftsuuOCCszJfVFQU32RngPU6c6zZmWPNzhxrdmZYr4Zr7CtX3%2BMm99MICwtTUlKScnJy/Lbn5OSoR48eDk0FAACaMq5gNcC4ceOUmpqq5ORkde/eXQsWLNDevXs1atQop0cDAABNUPDUqVOnOj1EU5eYmKjWrVtr%2BvTpeuqpp3TkyBG98sor6tKli6NzBQcHq1evXgoJoZMbgvU6c6zZmWPNzhxrdmZYL3cIMk787iIAAMA5jHuwAAAALCOwAAAALCOwAAAALCOwAAAALCOwXOj5559XQkKCIiIilJSUpHXr1jk9UpORlZWlbt26KTIyUm3bttWtt96q3bt3%2Bx1TXV2t9PR0RUdHq0WLFho0aJD27dvn0MRNS1ZWloKCgpSRkeHbxnrV9/XXX2v48OFq3bq1mjdvrl/96lcqKCjw7TfGaOrUqYqNjVWzZs3Uq1cv7dy508GJnXX8%2BHE9%2BuijSkhIULNmzXTJJZfoT3/6k%2Brq6nzHBPqarV27VrfccotiY2MVFBSkN998029/Q9anrKxMqamp8ng88ng8Sk1N1bffftuYXwZ%2BgMBymaVLlyojI0OZmZnaunWrrr32WvXv31979%2B51erQmITc3V6NHj9bGjRuVk5Oj48ePKyUlRYcP//ePYmdkZGj58uXKzs7W%2BvXrVVVVpYEDB6q2ttbByZ23efNmLViwQJ07d/bbznr5Kysr0zXXXKPQ0FC9%2B%2B672rVrl2bNmuX31xpmzpyp2bNna968edq8ebO8Xq9uvPFGVVZWOji5c/7yl7/ohRde0Lx58/TJJ59o5syZevLJJ/Xss8/6jgn0NTt8%2BLC6dOmiefPmnXR/Q9Zn6NChKiws1MqVK7Vy5UoVFhYqNTW1sb4E/JiBq/z61782o0aN8tvWoUMHM3nyZIcmatpKS0uNJJObm2uMMebbb781oaGhJjs723fM119/bc477zyzcuVKp8Z0XGVlpWnfvr3Jyckx119/vRk7dqwxhvU6mUmTJpmePXuecn9dXZ3xer1mxowZvm1Hjx41Ho/HvPDCC40xYpMzYMAAc8899/htGzx4sBk%2BfLgxhjX7MUlm%2BfLlvucNWZ9du3YZSWbjxo2%2BYzZs2GAkmX/961%2BNNzx8uILlIjU1NSooKFBKSorf9pSUFOXl5Tk0VdNWXl4uSWrVqpUkqaCgQMeOHfNbw9jYWCUmJgb0Go4ePVoDBgxQ3759/bazXvWtWLFCycnJ%2Bt3vfqe2bduqa9euWrhwoW//nj17VFJS4rdm4eHhuv766wN2zXr27KnVq1fr008/lSR9/PHHWr9%2BvW6%2B%2BWZJrNnpNGR9NmzYII/Ho6uuusp3zNVXXy2Px8MaOoS3gXWRQ4cOqba2tt4fmY6Jian3x6hx4p6FcePGqWfPnkpMTJQklZSUKCwsTC1btvQ7NpDXMDs7WwUFBcrPz6%2B3j/Wq74svvtD8%2BfM1btw4PfLII9q0aZMefPBBhYeH66677vKty8m%2BT7/66isnRnbcpEmTVF5erg4dOig4OFi1tbWaNm2a7rzzTklizU6jIetTUlKitm3b1vvYtm3bBuz3qtMILBcKCgrye26MqbcN0pgxY7Rt2zatX7/%2BtMcG6hoWFRVp7Nixev/99xUREdHgjwvU9ZKkuro6JScna/r06ZKkrl27aufOnZo/f77uuusu33F8n/7X0qVLtWTJEr322mu64oorVFhYqIyMDMXGxiotLc13HGv20063PidbK9bQObxE6CLR0dEKDg6u96%2BR0tLSev%2ByCXTp6elasWKF1qxZo7i4ON92r9ermpoalZWV%2BR0fqGtYUFCg0tJSJSUlKSQkRCEhIcrNzdXcuXMVEhKimJgY1utH2rVrp8svv9xvW8eOHX2/aOL1eiWJ79MfePjhhzV58mTdcccd6tSpk1JTU/XQQw8pKytLEmt2Og1ZH6/XqwMHDtT72IMHD7KGDiGwXCQsLExJSUnKycnx256Tk6MePXo4NFXTYozRmDFjtGzZMn3wwQdKSEjw25%2BUlKTQ0FC/NSwuLtaOHTsCcg379Omj7du3q7Cw0PdITk7WsGHDfP%2Bb9fJ3zTXX1Hvrj08//VQXX3yxJCkhIUFer9dvzWpqapSbmxuwa/bdd9/pvPP8f9wEBwf73qaBNftpDVmf7t27q7y8XJs2bfId89FHH6m8vJw1dIpjt9fjf5KdnW1CQ0PNiy%2B%2BaHbt2mUyMjJMixYtzJdffun0aE3CAw88YDwej/nwww9NcXGx7/Hdd9/5jhk1apSJi4szq1atMlu2bDG9e/c2Xbp0McePH3dw8qbjh79FaAzr9WObNm0yISEhZtq0aeazzz4zr776qmnevLlZsmSJ75gZM2YYj8djli1bZrZv327uvPNO065dO1NRUeHg5M5JS0szF154ofnHP/5h9uzZY5YtW2aio6PNxIkTfccE%2BppVVlaarVu3mq1btxpJZvbs2Wbr1q3mq6%2B%2BMsY0bH1uuukm07lzZ7NhwwazYcNni5q0AAABS0lEQVQG06lTJzNw4ECnvqSAR2C50HPPPWcuvvhiExYWZq688krfWxDgxK83n%2ByxaNEi3zFHjhwxY8aMMa1atTLNmjUzAwcONHv37nVu6Cbmx4HFetX39ttvm8TERBMeHm46dOhgFixY4Le/rq7OPP7448br9Zrw8HBz3XXXme3btzs0rfMqKirM2LFjzUUXXWQiIiLMJZdcYjIzM011dbXvmEBfszVr1pz0v11paWnGmIatzzfffGOGDRtmIiMjTWRkpBk2bJgpKytz4KuBMcYEGWOMM9fOAAAAzk3cgwUAAGAZgQUAAGAZgQUAAGAZgQUAAGAZgQUAAGAZgQUAAGAZgQUAAGAZgQUAAGAZgQUAAGAZgQUAAGAZgQUAAGAZgQUAAGAZgQUAAGAZgQUAAGAZgQUAAGAZgQUAAGAZgQUAAGAZgQUAAGDZ/wFPOfgqLU4/BwAAAABJRU5ErkJggg%3D%3D\"/>\n",
       "        </div>\n",
       "        <div role=\"tabpanel\" class=\"tab-pane col-md-12\" id=\"common-8597346934446186790\">\n",
       "            \n",
       "<table class=\"freq table table-hover\">\n",
       "    <thead>\n",
       "    <tr>\n",
       "        <td class=\"fillremaining\">Value</td>\n",
       "        <td class=\"number\">Count</td>\n",
       "        <td class=\"number\">Frequency (%)</td>\n",
       "        <td style=\"min-width:200px\">&nbsp;</td>\n",
       "    </tr>\n",
       "    </thead>\n",
       "    <tr class=\"\">\n",
       "        <td class=\"fillremaining\">8.7</td>\n",
       "        <td class=\"number\">3</td>\n",
       "        <td class=\"number\">1.5%</td>\n",
       "        <td>\n",
       "            <div class=\"bar\" style=\"width:2%\">&nbsp;</div>\n",
       "        </td>\n",
       "</tr><tr class=\"\">\n",
       "        <td class=\"fillremaining\">25.6</td>\n",
       "        <td class=\"number\">3</td>\n",
       "        <td class=\"number\">1.5%</td>\n",
       "        <td>\n",
       "            <div class=\"bar\" style=\"width:2%\">&nbsp;</div>\n",
       "        </td>\n",
       "</tr><tr class=\"\">\n",
       "        <td class=\"fillremaining\">9.3</td>\n",
       "        <td class=\"number\">3</td>\n",
       "        <td class=\"number\">1.5%</td>\n",
       "        <td>\n",
       "            <div class=\"bar\" style=\"width:2%\">&nbsp;</div>\n",
       "        </td>\n",
       "</tr><tr class=\"\">\n",
       "        <td class=\"fillremaining\">14.2</td>\n",
       "        <td class=\"number\">2</td>\n",
       "        <td class=\"number\">1.0%</td>\n",
       "        <td>\n",
       "            <div class=\"bar\" style=\"width:2%\">&nbsp;</div>\n",
       "        </td>\n",
       "</tr><tr class=\"\">\n",
       "        <td class=\"fillremaining\">45.1</td>\n",
       "        <td class=\"number\">2</td>\n",
       "        <td class=\"number\">1.0%</td>\n",
       "        <td>\n",
       "            <div class=\"bar\" style=\"width:2%\">&nbsp;</div>\n",
       "        </td>\n",
       "</tr><tr class=\"\">\n",
       "        <td class=\"fillremaining\">18.3</td>\n",
       "        <td class=\"number\">2</td>\n",
       "        <td class=\"number\">1.0%</td>\n",
       "        <td>\n",
       "            <div class=\"bar\" style=\"width:2%\">&nbsp;</div>\n",
       "        </td>\n",
       "</tr><tr class=\"\">\n",
       "        <td class=\"fillremaining\">59.0</td>\n",
       "        <td class=\"number\">2</td>\n",
       "        <td class=\"number\">1.0%</td>\n",
       "        <td>\n",
       "            <div class=\"bar\" style=\"width:2%\">&nbsp;</div>\n",
       "        </td>\n",
       "</tr><tr class=\"\">\n",
       "        <td class=\"fillremaining\">52.9</td>\n",
       "        <td class=\"number\">2</td>\n",
       "        <td class=\"number\">1.0%</td>\n",
       "        <td>\n",
       "            <div class=\"bar\" style=\"width:2%\">&nbsp;</div>\n",
       "        </td>\n",
       "</tr><tr class=\"\">\n",
       "        <td class=\"fillremaining\">22.3</td>\n",
       "        <td class=\"number\">2</td>\n",
       "        <td class=\"number\">1.0%</td>\n",
       "        <td>\n",
       "            <div class=\"bar\" style=\"width:2%\">&nbsp;</div>\n",
       "        </td>\n",
       "</tr><tr class=\"\">\n",
       "        <td class=\"fillremaining\">34.6</td>\n",
       "        <td class=\"number\">2</td>\n",
       "        <td class=\"number\">1.0%</td>\n",
       "        <td>\n",
       "            <div class=\"bar\" style=\"width:2%\">&nbsp;</div>\n",
       "        </td>\n",
       "</tr><tr class=\"other\">\n",
       "        <td class=\"fillremaining\">Other values (162)</td>\n",
       "        <td class=\"number\">177</td>\n",
       "        <td class=\"number\">88.5%</td>\n",
       "        <td>\n",
       "            <div class=\"bar\" style=\"width:100%\">&nbsp;</div>\n",
       "        </td>\n",
       "</tr>\n",
       "</table>\n",
       "        </div>\n",
       "        <div role=\"tabpanel\" class=\"tab-pane col-md-12\"  id=\"extreme-8597346934446186790\">\n",
       "            <p class=\"h4\">Minimum 5 values</p>\n",
       "            \n",
       "<table class=\"freq table table-hover\">\n",
       "    <thead>\n",
       "    <tr>\n",
       "        <td class=\"fillremaining\">Value</td>\n",
       "        <td class=\"number\">Count</td>\n",
       "        <td class=\"number\">Frequency (%)</td>\n",
       "        <td style=\"min-width:200px\">&nbsp;</td>\n",
       "    </tr>\n",
       "    </thead>\n",
       "    <tr class=\"\">\n",
       "        <td class=\"fillremaining\">0.3</td>\n",
       "        <td class=\"number\">1</td>\n",
       "        <td class=\"number\">0.5%</td>\n",
       "        <td>\n",
       "            <div class=\"bar\" style=\"width:100%\">&nbsp;</div>\n",
       "        </td>\n",
       "</tr><tr class=\"\">\n",
       "        <td class=\"fillremaining\">0.9</td>\n",
       "        <td class=\"number\">1</td>\n",
       "        <td class=\"number\">0.5%</td>\n",
       "        <td>\n",
       "            <div class=\"bar\" style=\"width:100%\">&nbsp;</div>\n",
       "        </td>\n",
       "</tr><tr class=\"\">\n",
       "        <td class=\"fillremaining\">1.0</td>\n",
       "        <td class=\"number\">1</td>\n",
       "        <td class=\"number\">0.5%</td>\n",
       "        <td>\n",
       "            <div class=\"bar\" style=\"width:100%\">&nbsp;</div>\n",
       "        </td>\n",
       "</tr><tr class=\"\">\n",
       "        <td class=\"fillremaining\">1.7</td>\n",
       "        <td class=\"number\">1</td>\n",
       "        <td class=\"number\">0.5%</td>\n",
       "        <td>\n",
       "            <div class=\"bar\" style=\"width:100%\">&nbsp;</div>\n",
       "        </td>\n",
       "</tr><tr class=\"\">\n",
       "        <td class=\"fillremaining\">1.8</td>\n",
       "        <td class=\"number\">1</td>\n",
       "        <td class=\"number\">0.5%</td>\n",
       "        <td>\n",
       "            <div class=\"bar\" style=\"width:100%\">&nbsp;</div>\n",
       "        </td>\n",
       "</tr>\n",
       "</table>\n",
       "            <p class=\"h4\">Maximum 5 values</p>\n",
       "            \n",
       "<table class=\"freq table table-hover\">\n",
       "    <thead>\n",
       "    <tr>\n",
       "        <td class=\"fillremaining\">Value</td>\n",
       "        <td class=\"number\">Count</td>\n",
       "        <td class=\"number\">Frequency (%)</td>\n",
       "        <td style=\"min-width:200px\">&nbsp;</td>\n",
       "    </tr>\n",
       "    </thead>\n",
       "    <tr class=\"\">\n",
       "        <td class=\"fillremaining\">79.2</td>\n",
       "        <td class=\"number\">1</td>\n",
       "        <td class=\"number\">0.5%</td>\n",
       "        <td>\n",
       "            <div class=\"bar\" style=\"width:100%\">&nbsp;</div>\n",
       "        </td>\n",
       "</tr><tr class=\"\">\n",
       "        <td class=\"fillremaining\">84.8</td>\n",
       "        <td class=\"number\">1</td>\n",
       "        <td class=\"number\">0.5%</td>\n",
       "        <td>\n",
       "            <div class=\"bar\" style=\"width:100%\">&nbsp;</div>\n",
       "        </td>\n",
       "</tr><tr class=\"\">\n",
       "        <td class=\"fillremaining\">89.4</td>\n",
       "        <td class=\"number\">1</td>\n",
       "        <td class=\"number\">0.5%</td>\n",
       "        <td>\n",
       "            <div class=\"bar\" style=\"width:100%\">&nbsp;</div>\n",
       "        </td>\n",
       "</tr><tr class=\"\">\n",
       "        <td class=\"fillremaining\">100.9</td>\n",
       "        <td class=\"number\">1</td>\n",
       "        <td class=\"number\">0.5%</td>\n",
       "        <td>\n",
       "            <div class=\"bar\" style=\"width:100%\">&nbsp;</div>\n",
       "        </td>\n",
       "</tr><tr class=\"\">\n",
       "        <td class=\"fillremaining\">114.0</td>\n",
       "        <td class=\"number\">1</td>\n",
       "        <td class=\"number\">0.5%</td>\n",
       "        <td>\n",
       "            <div class=\"bar\" style=\"width:100%\">&nbsp;</div>\n",
       "        </td>\n",
       "</tr>\n",
       "</table>\n",
       "        </div>\n",
       "    </div>\n",
       "</div>\n",
       "</div><div class=\"row variablerow\">\n",
       "    <div class=\"col-md-3 namecol\">\n",
       "        <p class=\"h4 pp-anchor\" id=\"pp_var_Radio\">Radio<br/>\n",
       "            <small>Numeric</small>\n",
       "        </p>\n",
       "    </div><div class=\"col-md-6\">\n",
       "    <div class=\"row\">\n",
       "        <div class=\"col-sm-6\">\n",
       "            <table class=\"stats \">\n",
       "                <tr>\n",
       "                    <th>Distinct count</th>\n",
       "                    <td>167</td>\n",
       "                </tr>\n",
       "                <tr>\n",
       "                    <th>Unique (%)</th>\n",
       "                    <td>83.5%</td>\n",
       "                </tr>\n",
       "                <tr class=\"ignore\">\n",
       "                    <th>Missing (%)</th>\n",
       "                    <td>0.0%</td>\n",
       "                </tr>\n",
       "                <tr class=\"ignore\">\n",
       "                    <th>Missing (n)</th>\n",
       "                    <td>0</td>\n",
       "                </tr>\n",
       "                <tr class=\"ignore\">\n",
       "                    <th>Infinite (%)</th>\n",
       "                    <td>0.0%</td>\n",
       "                </tr>\n",
       "                <tr class=\"ignore\">\n",
       "                    <th>Infinite (n)</th>\n",
       "                    <td>0</td>\n",
       "                </tr>\n",
       "            </table>\n",
       "\n",
       "        </div>\n",
       "        <div class=\"col-sm-6\">\n",
       "            <table class=\"stats \">\n",
       "\n",
       "                <tr>\n",
       "                    <th>Mean</th>\n",
       "                    <td>23.264</td>\n",
       "                </tr>\n",
       "                <tr>\n",
       "                    <th>Minimum</th>\n",
       "                    <td>0</td>\n",
       "                </tr>\n",
       "                <tr>\n",
       "                    <th>Maximum</th>\n",
       "                    <td>49.6</td>\n",
       "                </tr>\n",
       "                <tr class=\"ignore\">\n",
       "                    <th>Zeros (%)</th>\n",
       "                    <td>0.5%</td>\n",
       "                </tr>\n",
       "            </table>\n",
       "        </div>\n",
       "    </div>\n",
       "</div>\n",
       "<div class=\"col-md-3 collapse in\" id=\"minihistogram3412795126645752907\">\n",
       "    <img src=\"data:image/png;base64,iVBORw0KGgoAAAANSUhEUgAAAMgAAABLCAYAAAA1fMjoAAAABHNCSVQICAgIfAhkiAAAAAlwSFlzAAAPYQAAD2EBqD%2BnaQAAADl0RVh0U29mdHdhcmUAbWF0cGxvdGxpYiB2ZXJzaW9uIDMuMC4yLCBodHRwOi8vbWF0cGxvdGxpYi5vcmcvOIA7rQAAAdFJREFUeJzt3DGO2kAYhuHfKK2hR/gWOUTulDpl7pND5BYgDmArRYrgFAnbbPaTdpUdY3ieEkvMGM2Lx8iim%2Bd5rsZOp1MNw9B6WFbueDzW4XBoOuaHpqP91fd9Vf054e12u8QUWJFxHGsYhqd109IigXRdV1VV2%2B32WSAfP3979ft9//Lpv8yL23ZdNy1tmo8IKyIQCAQCgUAgEAgEAoFAIBAIBAKBQCAQCBZ51ISXedTmtriCQCAQCB52i/XIW5m3nPtb3MPn5QoCwV1cQVp9I/J4XEEgEAgEd7HFulW2fusnkFew4B%2BPLRYEAoFAIBC4B%2BHd3MPTCgK5A348eD%2B2WBAIBAKBQCAQCAQCgUAgEAgEAoFAIBAIBAKBQCAQCAQCgUAgEAgEAoFAIBAIBAKBQCAQCBb504Z5nquqahzHZ8d%2B/fzRejrckH%2Btietr13XT0iKBTNNUVVXDMCwxPDds9/XlY9M01W63azeZqurmBbK8XC51Pp%2Br7/vquq718KzMPM81TVPt9/vabNreFSwSCKyFm3QIBAKBQCAQCAQCgUAgEAgEAoFAIBAIBAKBQCAQCAQCgUAgEAgEAoFAIBAIBAKBQCAQCAQCgUAgEAgEgt%2BKalIbGPz1nwAAAABJRU5ErkJggg%3D%3D\">\n",
       "\n",
       "</div>\n",
       "<div class=\"col-md-12 text-right\">\n",
       "    <a role=\"button\" data-toggle=\"collapse\" data-target=\"#descriptives3412795126645752907,#minihistogram3412795126645752907\"\n",
       "       aria-expanded=\"false\" aria-controls=\"collapseExample\">\n",
       "        Toggle details\n",
       "    </a>\n",
       "</div>\n",
       "<div class=\"row collapse col-md-12\" id=\"descriptives3412795126645752907\">\n",
       "    <ul class=\"nav nav-tabs\" role=\"tablist\">\n",
       "        <li role=\"presentation\" class=\"active\"><a href=\"#quantiles3412795126645752907\"\n",
       "                                                  aria-controls=\"quantiles3412795126645752907\" role=\"tab\"\n",
       "                                                  data-toggle=\"tab\">Statistics</a></li>\n",
       "        <li role=\"presentation\"><a href=\"#histogram3412795126645752907\" aria-controls=\"histogram3412795126645752907\"\n",
       "                                   role=\"tab\" data-toggle=\"tab\">Histogram</a></li>\n",
       "        <li role=\"presentation\"><a href=\"#common3412795126645752907\" aria-controls=\"common3412795126645752907\"\n",
       "                                   role=\"tab\" data-toggle=\"tab\">Common Values</a></li>\n",
       "        <li role=\"presentation\"><a href=\"#extreme3412795126645752907\" aria-controls=\"extreme3412795126645752907\"\n",
       "                                   role=\"tab\" data-toggle=\"tab\">Extreme Values</a></li>\n",
       "\n",
       "    </ul>\n",
       "\n",
       "    <div class=\"tab-content\">\n",
       "        <div role=\"tabpanel\" class=\"tab-pane active row\" id=\"quantiles3412795126645752907\">\n",
       "            <div class=\"col-md-4 col-md-offset-1\">\n",
       "                <p class=\"h4\">Quantile statistics</p>\n",
       "                <table class=\"stats indent\">\n",
       "                    <tr>\n",
       "                        <th>Minimum</th>\n",
       "                        <td>0</td>\n",
       "                    </tr>\n",
       "                    <tr>\n",
       "                        <th>5-th percentile</th>\n",
       "                        <td>1.995</td>\n",
       "                    </tr>\n",
       "                    <tr>\n",
       "                        <th>Q1</th>\n",
       "                        <td>9.975</td>\n",
       "                    </tr>\n",
       "                    <tr>\n",
       "                        <th>Median</th>\n",
       "                        <td>22.9</td>\n",
       "                    </tr>\n",
       "                    <tr>\n",
       "                        <th>Q3</th>\n",
       "                        <td>36.525</td>\n",
       "                    </tr>\n",
       "                    <tr>\n",
       "                        <th>95-th percentile</th>\n",
       "                        <td>46.81</td>\n",
       "                    </tr>\n",
       "                    <tr>\n",
       "                        <th>Maximum</th>\n",
       "                        <td>49.6</td>\n",
       "                    </tr>\n",
       "                    <tr>\n",
       "                        <th>Range</th>\n",
       "                        <td>49.6</td>\n",
       "                    </tr>\n",
       "                    <tr>\n",
       "                        <th>Interquartile range</th>\n",
       "                        <td>26.55</td>\n",
       "                    </tr>\n",
       "                </table>\n",
       "            </div>\n",
       "            <div class=\"col-md-4 col-md-offset-2\">\n",
       "                <p class=\"h4\">Descriptive statistics</p>\n",
       "                <table class=\"stats indent\">\n",
       "                    <tr>\n",
       "                        <th>Standard deviation</th>\n",
       "                        <td>14.847</td>\n",
       "                    </tr>\n",
       "                    <tr>\n",
       "                        <th>Coef of variation</th>\n",
       "                        <td>0.63819</td>\n",
       "                    </tr>\n",
       "                    <tr>\n",
       "                        <th>Kurtosis</th>\n",
       "                        <td>-1.2604</td>\n",
       "                    </tr>\n",
       "                    <tr>\n",
       "                        <th>Mean</th>\n",
       "                        <td>23.264</td>\n",
       "                    </tr>\n",
       "                    <tr>\n",
       "                        <th>MAD</th>\n",
       "                        <td>12.969</td>\n",
       "                    </tr>\n",
       "                    <tr class=\"\">\n",
       "                        <th>Skewness</th>\n",
       "                        <td>0.094175</td>\n",
       "                    </tr>\n",
       "                    <tr>\n",
       "                        <th>Sum</th>\n",
       "                        <td>4652.8</td>\n",
       "                    </tr>\n",
       "                    <tr>\n",
       "                        <th>Variance</th>\n",
       "                        <td>220.43</td>\n",
       "                    </tr>\n",
       "                    <tr>\n",
       "                        <th>Memory size</th>\n",
       "                        <td>1.6 KiB</td>\n",
       "                    </tr>\n",
       "                </table>\n",
       "            </div>\n",
       "        </div>\n",
       "        <div role=\"tabpanel\" class=\"tab-pane col-md-8 col-md-offset-2\" id=\"histogram3412795126645752907\">\n",
       "            <img src=\"data:image/png;base64,iVBORw0KGgoAAAANSUhEUgAAAlgAAAGQCAYAAAByNR6YAAAABHNCSVQICAgIfAhkiAAAAAlwSFlzAAAPYQAAD2EBqD%2BnaQAAADl0RVh0U29mdHdhcmUAbWF0cGxvdGxpYiB2ZXJzaW9uIDMuMC4yLCBodHRwOi8vbWF0cGxvdGxpYi5vcmcvOIA7rQAAIABJREFUeJzt3XtwlOXdh/HvSpIFMVkIgWxiUiZF8MBphFAJoiJgNIqo1AqiNFS0YiEaA7Ugo4ZpJYznA0oVFfA0wU4B6YhAUAgwNEoCyEGHoqCAJgYsZkMKy%2Bl%2B/%2BB16zZBot7Jsw97fWZ2hueQzc9b3Fw%2Bu9n1GGOMAAAAYM0ZTg8AAABwuiGwAAAALCOwAAAALCOwAAAALCOwAAAALCOwAAAALCOwAAAALCOwAAAALCOwAAAALCOwAAAALCOwAAAALCOwAAAALCOwAAAALCOwAAAALCOwAAAALCOwAAAALCOwAAAALCOwAAAALCOwAAAALCOwAAAALCOwAAAALCOwAAAALCOwAAAALCOwAAAALCOwAAAALCOwAAAALCOwAAAALCOwAAAALCOwAAAALCOwAAAALCOwAAAALCOwAAAALCOwAAAALCOwAAAALCOwAAAALCOwAAAALCOwAAAALCOwAAAALItxeoBocPz4cX311VeKj4%2BXx%2BNxehwAAKKCMUa1tbVKTU3VGWc07zUlAqsZfPXVV0pPT3d6DAAAotLu3buVlpbWrN%2BTwGoG8fHxkk78C05ISHB4GgAAokMgEFB6enro53BzIrCawXdPCyYkJBBYAAA0MydensOL3AEAACwjsAAAACwjsAAAACwjsAAAACwjsAAAACwjsAAAACwjsAAAACwjsAAAACyL%2BsCaOXOmevToEXoT0KysLL377ruh48FgUHl5eUpKSlLr1q01dOhQ7dmzx8GJAQBApIv6wEpLS9P06dNVXl6u8vJyDRw4UNddd522bt0qScrPz9eCBQtUXFysNWvW6MCBAxoyZIiOHTvm8OQAACBSeYwxxukhIk1iYqIeffRR3XjjjWrfvr1ee%2B01DR8%2BXNJ/P7h58eLFuvLKKxt1f4FAQD6fTzU1NXxUDgAAzcTJn79RfwXr%2B44dO6bi4mLV1dUpKytLFRUVOnLkiLKzs0PnpKamqlu3blq7du1J7ycYDCoQCITdAABA9ODDniVt3rxZWVlZOnTokM466ywtWLBAF1xwgTZu3Ki4uDi1bds27Pzk5GRVVVWd9P6Kioo0derUph5bkpQ5ZUmzfB8byh%2B%2ByukRAABoFlzBknTuuedq48aNKisr01133aXc3Fx9/PHHJz3fGPODn8w9efJk1dTUhG67d%2B9uirEBAECE4gqWpLi4OJ1zzjmSpMzMTK1bt05PP/20hg8frsOHD2v//v1hV7Gqq6vVr1%2B/k96f1%2BuV1%2Btt8rkBAEBk4gpWA4wxCgaD6t27t2JjY1VSUhI6VllZqS1btvxgYAEAgOgW9Vew7r//fuXk5Cg9PV21tbUqLi7WypUrtWTJEvl8Po0ZM0YTJkxQu3btlJiYqIkTJ6p79%2B4aPHiw06MDAIAIFfWB9fXXX2vUqFGqrKyUz%2BdTjx49tGTJEl1xxRWSpCeffFIxMTG66aabdPDgQQ0aNEhz5sxRixYtHJ4cAABEKt4Hqxk05ftw8FuEAAA0jPfBAgAAOI0QWAAAAJYRWAAAAJYRWAAAAJYRWAAAAJYRWAAAAJYRWAAAAJYRWAAAAJYRWAAAAJYRWAAAAJYRWAAAAJYRWAAAAJYRWAAAAJYRWAAAAJYRWAAAAJYRWAAAAJYRWAAAAJYRWAAAAJYRWAAAAJYRWAAAAJYRWAAAAJYRWAAAAJYRWAAAAJYRWAAAAJYRWAAAAJYRWAAAAJYRWAAAAJYRWAAAAJYRWAAAAJYRWAAAAJYRWAAAAJYRWAAAAJYRWAAAAJYRWAAAAJYRWAAAAJYRWAAAAJYRWAAAAJYRWAAAAJYRWAAAAJYRWAAAAJZFfWAVFRWpT58%2Bio%2BPV4cOHXT99ddr27ZtYecMGDBAHo8n7DZixAiHJgYAAJEu6gOrtLRU48aNU1lZmUpKSnT06FFlZ2errq4u7Lw77rhDlZWVodsLL7zg0MQAACDSxTg9gNOWLFkStj179mx16NBBFRUVuvTSS0P7zzzzTPn9/uYeDwAAuFDUX8H6XzU1NZKkxMTEsP1vvPGGkpKS1LVrV02cOFG1tbUnvY9gMKhAIBB2AwAA0SPqr2B9nzFGBQUF6t%2B/v7p16xbaf8sttygjI0N%2Bv19btmzR5MmT9dFHH6mkpKTB%2BykqKtLUqVOba2wAABBhPMYY4/QQkWLcuHF65513tGbNGqWlpZ30vIqKCmVmZqqiokK9evWqdzwYDCoYDIa2A4GA0tPTVVNTo4SEBKszZ05ZcuqTIkT5w1c5PQIAIIoEAgH5fL4m%2Bfl7KlzB%2Bn95eXlatGiRVq1a9YNxJUm9evVSbGystm/f3mBgeb1eeb3ephoVAABEuKgPLGOM8vLytGDBAq1cuVIZGRmn/JqtW7fqyJEjSklJaYYJAQCA20R9YI0bN05vvvmm3n77bcXHx6uqqkqS5PP51KpVK3322Wd64403dPXVVyspKUkff/yxJkyYoAsvvFAXX3yxw9MDAIBIFPW/RThz5kzV1NRowIABSklJCd3mzZsnSYqLi9N7772nK6%2B8Uueee67uvvtuZWdna/ny5WrRooXD0wMAgEgU9VewTvUa//T0dJWWljbTNAAA4HQQ9VewAAAAbCOwAAAALCOwAAAALCOwAAAALCOwAAAALCOwAAAALCOwAAAALCOwAAAALCOwAAAALCOwAAAALCOwAAAALCOwAAAALCOwAAAALItxegAAiHSZU5Y4PcKPUv7wVU6PAEQ9rmABAABYRmABAABYRmABAABYRmABAABYRmABAABYRmABAABYRmABAABYRmABAABYRmABAABYRmABAABYRmABAABYRmABAABYRmABAABYRmABAABYRmABAABYRmABAABYRmABAABYRmABAABYRmABAABYRmABAABYFuP0AECkypyyxOkRfpTyh69yegTgR3Pbf2duw%2BOCc7iCBQAAYBmBBQAAYBmBBQAAYBmBBQAAYFnUB1ZRUZH69Omj%2BPh4dejQQddff722bdsWdk4wGFReXp6SkpLUunVrDR06VHv27HFoYgAAEOmiPrBKS0s1btw4lZWVqaSkREePHlV2drbq6upC5%2BTn52vBggUqLi7WmjVrdODAAQ0ZMkTHjh1zcHIAABCpov5tGpYsCf8V4dmzZ6tDhw6qqKjQpZdeqpqaGr388st67bXXNHjwYEnS66%2B/rvT0dC1fvlxXXnmlE2MDAIAIFvVXsP5XTU2NJCkxMVGSVFFRoSNHjig7Ozt0Tmpqqrp166a1a9c6MiMAAIhsUX8F6/uMMSooKFD//v3VrVs3SVJVVZXi4uLUtm3bsHOTk5NVVVXV4P0Eg0EFg8HQdiAQaLqhAQBAxCGwvmf8%2BPHatGmT1qxZc8pzjTHyeDwNHisqKtLUqVNtj%2Bd6vGMzACBa8BTh/8vLy9OiRYu0YsUKpaWlhfb7/X4dPnxY%2B/fvDzu/urpaycnJDd7X5MmTVVNTE7rt3r27SWcHAACRJeoDyxij8ePHa/78%2BXr//feVkZERdrx3796KjY1VSUlJaF9lZaW2bNmifv36NXifXq9XCQkJYTcAABA9ov4pwnHjxunNN9/U22%2B/rfj4%2BNDrqnw%2Bn1q1aiWfz6cxY8ZowoQJateunRITEzVx4kR179499FuFAAAA3xf1gTVz5kxJ0oABA8L2z549W6NHj5YkPfnkk4qJidFNN92kgwcPatCgQZozZ45atGjRzNMCAAA3iPrAMsac8pyWLVvq2Wef1bPPPtsMEwEAALeL%2BtdgAQAA2EZgAQAAWEZgAQAAWObawHr99dd16NAhp8cAAACox7WBVVBQIL/frzvvvFMffvih0%2BMAAACEuDawvvrqK73yyiuqrKxU//791bVrVz3%2B%2BOPau3ev06MBAIAo59rAiomJ0bBhw7Ro0SLt2rVLubm5euWVV5SWlqZhw4bpnXfeadRbMAAAANjm2sD6Pr/fr0GDBmnAgAHyeDwqLy/XyJEj1blzZ61evdrp8QAAQJRxdWDt27dPTz31lHr27KmLL75Y1dXVWrhwob744gt9%2BeWXGjJkiH772986PSYAAIgyrn0n9xtuuEGLFy9WRkaGbr/9duXm5qp9%2B/ah42eddZbuu%2B8%2BPfPMMw5OCQAAopFrAyshIUHLly/XJZdcctJzUlJStH379macCgAAwMWBNXfu3FOe4/F41KlTp2aYBgAA4L9c%2Bxqse%2B%2B9VzNmzKi3/7nnntOECRMcmAgAAOAE1wbW3/72N/Xt27fe/qysLM2bN8%2BBiQAAAE5w7VOE%2B/btU9u2bevtT0hI0L59%2BxyYCEBjZU5Z4vQIANCkXHsFq1OnTlq6dGm9/UuXLlVGRoYDEwEAAJzg2itY%2Bfn5ys/P1zfffKOBAwdKkt577z098sgjeuyxxxyeDgAARDPXBtYdd9yhQ4cOadq0aXrooYckSWlpaXrmmWd02223OTwdAACIZq4NLEnKy8tTXl6eKisr1apVK7Vp08bpkQAAANwdWN9JSUlxegQAAIAQ177Ife/evfrd736nX/ziF2rZsqXi4uLCbgAAAE5x7RWs0aNH67PPPtMf//hHpaSkyOPxOD0SAACAJBcH1qpVq7Rq1SpdeOGFTo8CAAAQxrVPEaalpXHVCgAARCTXXsF68sknNXnyZM2aNUtpaWlOjwM4jndHB4DI4drAGjVqlGpra9WxY0clJCQoNjY27Hh1dbVDkwEAgGjn2sCaPn260yMAAAA0yLWBNWbMGKdHAAAAaJBrX%2BQuSZ9//rkKCws1atSo0FOCy5Yt0yeffOLwZAAAIJq5NrBWr16trl27qrS0VG%2B99ZYOHDggSVq/fr0efPBBh6cDAADRzLWB9ac//UmFhYVasWJF2Du3Dxw4UGVlZQ5OBgAAop1rA2vTpk268cYb6%2B3v0KGD9u7d68BEAAAAJ7g2sNq0aaOqqqp6%2Bzdu3Kizzz7bgYkAAABOcG1gjRgxQpMmTdLevXtD7%2Bj%2BwQcfaOLEibr11lsdng4AAEQz1wbWtGnT5Pf7lZKSogMHDuiCCy5Qv3791KdPHz3wwANOjwcAAKKYa98HKy4uTvPmzdO//vUvrV%2B/XsePH1evXr103nnnOT0aAACIcq4NrO906dJFXbp0cXoMAACAENcG1u9///sfPP7iiy820yQAAADhXBtYlZWVYdtHjhzR1q1bVVtbq0svvdShqQAAAFwcWP/4xz/q7Tt69KjuuusunX/%2B%2BQ5MBAAAcIJrf4uwITExMZo4caIeffTRRn/NqlWrdO211yo1NVUej0cLFy4MOz569Gh5PJ6wW9%2B%2BfW2PDgAATiOnVWBJ0o4dO3TkyJFGn19XV6eePXtqxowZJz3nqquuUmVlZei2ePFiG6MCAIDTlGufIrzvvvvCto0xqqys1KJFi3TLLbc0%2Bn5ycnKUk5Pzg%2Bd4vV75/f6fNCcAAIg%2Brg2sf/7zn2HbZ5xxhtq3b6/p06frjjvusPq9Vq5cqQ4dOqhNmza67LLL9PDDD6tDhw5WvwcAADh9uDawVq9e3SzfJycnR7/5zW/UsWNH7dy5Uw888IAGDhyoiooKeb3eBr8mGAwqGAyGtgOBQLPMCgAAIoNrA6u5DB8%2BPPTnbt26KTMzUx07dtQ777yjYcOGNfg1RUVFmjp1anONCABAgzKnLHF6hEYrf/gqp0ewyrWB1adPn9CHPJ/Khx9%2BaO37pqSkqGPHjtq%2BfftJz5k8ebIKCgpC24FAQOnp6dZmAAAAkc21gXX55ZfrhRdeUJcuXZSVlSVJKisr07Zt23TnnXee9Om7n%2Bubb77R7t27lZKSctJzvF5vk31/AAAQ%2BVwbWN9%2B%2B63GjRunadOmhe2fMmWKvv76a7300kuNup8DBw7o008/DW3v3LlTGzduVGJiohITE1VYWKhf//rXSklJ0eeff677779fSUlJuuGGG6z%2B8wAAgNOHawPrrbfe0rp16%2BrtHz16tDIzMxsdWOXl5br88stD2989tZebm6uZM2dq8%2BbNevXVV/Xtt98qJSVFl19%2BuebNm6f4%2BHg7/yAAAOC049rA8nq9Wrt2rTp37hy2f%2B3atT/q6bkBAwbIGHPS40uXLv3JMwIAgOjk2sC6%2B%2B67NXbsWG3YsCH00TVlZWWaNWuW7r//foenAwAA0cy1gTVlyhRlZGTo6aef1iuvvCJJOv/88zVr1iyNHDnS4ekAAEA0c21gSdLIkSOJKQAAEHFc/WHPgUBAc%2BbM0YMPPqj9%2B/dLkj766CNVVlY6PBkAAIhmrr2CtWXLFg0ePFhnnnmmdu/erdGjR6tt27Z66623tGfPHs2dO9fpEQHAEW56927gdOXaK1j33nuvRo4cqc8%2B%2B0wtW7YM7b/mmmu0atUqBycDAADRzrVXsNatW6eZM2fW%2B7ics88%2Bm6cIAQCAo1x7BSsuLk4HDhyot3/79u1KSkpyYCIAAIATXBtYQ4cO1Z///GcdPXpUkuTxePTll19q0qRJGjZsmMPTAQCAaObawHr88cf11Vdfye/36%2BDBgxo4cKB%2B%2BctfqmXLlvU%2BnxAAAKA5ufY1WD6fT2vXrlVJSYnWr1%2Bv48ePq1evXrryyivrvS4LAACgObkysI4cOaKrr75azz//vLKzs5Wdne30SAAAACGufIowNjZWGzZs4EoVAACISK4MLEm69dZbNXv2bKfHAAAAqMeVTxF%2BZ8aMGVq%2BfLkyMzPVunXrsGOPPPKIQ1MBAIBo59rAqqioUI8ePSRJmzZtCjvGU4cAAMBJrgusHTt2KCMjQ6tXr3Z6FAAAgAa57jVYnTt31t69e0Pbw4cP19dff%2B3gRAAAAOFcF1jGmLDtxYsXq66uzqFpAAAA6nNdYAEAAEQ61wWWx%2BOp9yJ2XtQOAAAiiete5G6M0ejRo%2BX1eiVJhw4d0tixY%2Bu9TcP8%2BfOdGA8AAMB9gZWbmxu2feuttzo0CQAAQMNcF1i8ezsAAIh0rnsNFgAAQKQjsAAAACwjsAAAACwjsAAAACwjsAAAACwjsAAAACwjsAAAACwjsAAAACwjsAAAACwjsAAAACwjsAAAACwjsAAAACwjsAAAACwjsAAAACwjsAAAACwjsAAAACyL%2BsBatWqVrr32WqWmpsrj8WjhwoVhx40xKiwsVGpqqlq1aqUBAwZo69atDk0LAADcIOoDq66uTj179tSMGTMaPP7II4/oiSee0IwZM7Ru3Tr5/X5dccUVqq2tbeZJAQCAW8Q4PYDTcnJylJOT0%2BAxY4yeeuopTZkyRcOGDZMkzZ07V8nJyXrzzTd15513NueoAADAJaL%2BCtYP2blzp6qqqpSdnR3a5/V6ddlll2nt2rUn/bpgMKhAIBB2AwAA0YPA%2BgFVVVWSpOTk5LD9ycnJoWMNKSoqks/nC93S09ObdE4AABBZCKxG8Hg8YdvGmHr7vm/y5MmqqakJ3Xbv3t3UIwIAgAgS9a/B%2BiF%2Bv1/SiStZKSkpof3V1dX1rmp9n9frldfrbfL5AABAZOIK1g/IyMiQ3%2B9XSUlJaN/hw4dVWlqqfv36OTgZAACIZFF/BevAgQP69NNPQ9s7d%2B7Uxo0blZiYqF/84hfKz8/XtGnT1LlzZ3Xu3FnTpk3TmWeeqZEjRzo4NQAAiGRRH1jl5eW6/PLLQ9sFBQWSpNzcXM2ZM0f33XefDh48qD/84Q/av3%2B/LrroIi1btkzx8fFOjQwAACKcxxhjnB7idBcIBOTz%2BVRTU6OEhASr9505ZYnV%2BwMAwAnlD19l/T6b8ufvqfAaLAAAAMsILAAAAMsILAAAAMsILAAAAMsILAAAAMsILAAAAMsILAAAAMsILAAAAMsILAAAAMsILAAAAMsILAAAAMsILAAAAMsILAAAAMsILAAAAMsILAAAAMsILAAAAMsILAAAAMsILAAAAMsILAAAAMsILAAAAMsILAAAAMsILAAAAMsILAAAAMsILAAAAMsILAAAAMsILAAAAMsILAAAAMsILAAAAMsILAAAAMsILAAAAMsILAAAAMsILAAAAMsILAAAAMsILAAAAMsILAAAAMsILAAAAMsILAAAAMsILAAAAMsILAAAAMsILAAAAMsIrFMoLCyUx%2BMJu/n9fqfHAgAAESzG6QHcoGvXrlq%2BfHlou0WLFg5OAwAAIh2B1QgxMTFctQIAAI3GU4SNsH37dqWmpiojI0MjRozQjh07fvD8YDCoQCAQdgMAANGDwDqFiy66SK%2B%2B%2BqqWLl2qWbNmqaqqSv369dM333xz0q8pKiqSz%2BcL3dLT05txYgAA4DSPMcY4PYSb1NXVqVOnTrrvvvtUUFDQ4DnBYFDBYDC0HQgElJ6erpqaGiUkJFidJ3PKEqv3BwCAE8ofvsr6fQYCAfl8vib5%2BXsqvAbrR2rdurW6d%2B%2Bu7du3n/Qcr9crr9fbjFMBAIBIwlOEP1IwGNQnn3yilJQUp0cBAAARisA6hYkTJ6q0tFQ7d%2B7UBx98oBtvvFGBQEC5ublOjwYAACIUTxGewp49e3TzzTdr3759at%2B%2Bvfr27auysjJ17NjR6dEAAECEIrBOobi42OkRAACAy/AUIQAAgGUEFgAAgGUEFgAAgGUEFgAAgGUEFgAAgGUEFgAAgGUEFgAAgGUEFgAAgGUEFgAAgGUEFgAAgGUEFgAAgGUEFgAAgGUEFgAAgGUEFgAAgGUEFgAAgGUEFgAAgGUEFgAAgGUEFgAAgGUEFgAAgGUEFgAAgGUEFgAAgGUEFgAAgGUEFgAAgGUEFgAAgGUEFgAAgGUEFgAAgGUEFgAAgGUEFgAAgGUEFgAAgGUEFgAAgGUEFgAAgGUEFgAAgGUEFgAAgGUEFgAAgGUEFgAAgGUEFgAAgGUEFgAAgGUEFgAAgGUEFgAAgGUEFgAAgGUEViM9//zzysjIUMuWLdW7d2%2BtXr3a6ZEAAECEIrAaYd68ecrPz9eUKVO0YcMGXXLJJcrJydGuXbucHg0AAEQgAqsRnnjiCY0ZM0a33367zj//fD311FNKT0/XzJkznR4NAABEoBinB4h0hw8fVkVFhSZNmhS2Pzs7W2vXrm3wa4LBoILBYGi7pqZGkhQIBKzPdyxYZ/0%2BAQBobk3xM/K7%2BzTGWL/vUyGwTmHfvn06duyYkpOTw/YnJyerqqqqwa8pKirS1KlT6%2B1PT09vkhkBAHA73%2BNNd9%2B1tbXy%2BXxN9w0aQGA1ksfjCds2xtTb953JkyeroKAgtH38%2BHH9%2B9//Vrt27U76NT9FIBBQenq6du/erYSEBGv3ixNY36bF%2BjYt1rdpsb5Ny9b6GmNUW1ur1NRUi9M1DoF1CklJSWrRokW9q1XV1dX1rmp9x%2Bv1yuv1hu1r06ZNk82YkJDAf%2BBNiPVtWqxv02J9mxbr27RsrG9zX7n6Di9yP4W4uDj17t1bJSUlYftLSkrUr18/h6YCAACRjCtYjVBQUKBRo0YpMzNTWVlZevHFF7Vr1y6NHTvW6dEAAEAEalFYWFjo9BCRrlu3bmrXrp2mTZumxx57TAcPHtRrr72mnj17Oj2aWrRooQEDBigmhlZuCqxv02J9mxbr27RY36bl9vX1GCd%2BdxEAAOA0xmuwAAAALCOwAAAALCOwAAAALCOwAAAALCOwXOr5559XRkaGWrZsqd69e2v16tVOj%2BRaq1at0rXXXqvU1FR5PB4tXLgw7LgxRoWFhUpNTVWrVq00YMAAbd261aFp3aWoqEh9%2BvRRfHy8OnTooOuvv17btm0LOycYDCovL09JSUlq3bq1hg4dqj179jg0sbvMnDlTPXr0CL0ZY1ZWlt59993QcdbWrqKiInk8HuXn54f2scY/XWFhoTweT9jN7/eHjrv9sZfAcqF58%2BYpPz9fU6ZM0YYNG3TJJZcoJydHu3btcno0V6qrq1PPnj01Y8aMBo8/8sgjeuKJJzRjxgytW7dOfr9fV1xxhWpra5t5UvcpLS3VuHHjVFZWppKSEh09elTZ2dmqq/vvh5Tn5%2BdrwYIFKi4u1po1a3TgwAENGTJEx44dc3Byd0hLS9P06dNVXl6u8vJyDRw4UNddd13ohxBra8%2B6dev04osvqkePHmH7WeOfp2vXrqqsrAzdNm/eHDrm%2BsdeA9f51a9%2BZcaOHRu277zzzjOTJk1yaKLThySzYMGC0Pbx48eN3%2B8306dPD%2B07dOiQ8fl85q9//asTI7padXW1kWRKS0uNMcZ8%2B%2B23JjY21hQXF4fO%2BfLLL80ZZ5xhlixZ4tSYrta2bVvz0ksvsbYW1dbWms6dO5uSkhJz2WWXmXvuuccYw9/fn%2Buhhx4yPXv2bPDY6fDYyxUslzl8%2BLAqKiqUnZ0dtj87O1tr1651aKrT186dO1VVVRW23l6vV5dddhnr/RPU1NRIkhITEyVJFRUVOnLkSNj6pqamqlu3bqzvj3Ts2DEVFxerrq5OWVlZrK1F48aN0zXXXKPBgweH7WeNf77t27crNTVVGRkZGjFihHbs2CHp9Hjsdefbo0axffv26dixY/U%2BaDo5ObneB1Lj5/tuTRta7y%2B%2B%2BMKJkVzLGKOCggL1799f3bp1k3RifePi4tS2bduwc/n73HibN29WVlaWDh06pLPOOksLFizQBRdcoI0bN7K2FhQXF6uiokLl5eX1jvH39%2Be56KKL9Oqrr6pLly76%2Buuv9Ze//EX9%2BvXT1q1bT4vHXgLLpTweT9i2MabePtjDev9848eP16ZNm7RmzZpTnsv6Nt65556rjRs36ttvv9Xf//535ebmqrS09KTns7aNt3v3bt1zzz1atmyZWrZs2eivY40bJycnJ/Tn7t27KysrS506ddLcuXPVt29fSe5%2B7OUpQpdJSkpSixYt6v3fUXV1db3Sx8/33W%2B0sN4/T15enhYtWqQVK1YoLS0ttN/v9%2Bvw4cPav39/2Pmsb%2BPFxcXpnHPOUWZmpoqKitSzZ089/fTTrK0FFRUVqq6uVu/evRUTE6OYmBiVlpbqmWeeUUxMjJKTk1lji1q3bq3u3btr%2B/btp8VjL4HlMnFxcerdu7eNz8u0AAACbUlEQVRKSkrC9peUlKhfv34OTXX6ysjIkN/vD1vvw4cPq7S0lPVuBGOMxo8fr/nz5%2Bv9999XRkZG2PHevXsrNjY2bH0rKyu1ZcsW1vcnMsYoGAyythYMGjRImzdv1saNG0O3zMxM3XLLLaE/s8b2BINBffLJJ0pJSTk9Hnsde3k9frLi4mITGxtrXn75ZfPxxx%2Bb/Px807p1a/P55587PZor1dbWmg0bNpgNGzYYSeaJJ54wGzZsMF988YUxxpjp06cbn89n5s%2BfbzZv3mxuvvlmk5KSYgKBgMOTR7677rrL%2BHw%2Bs3LlSlNZWRm6/ec//wmdM3bsWJOWlmaWL19u1q9fbwYOHGh69uxpjh496uDk7jB58mSzatUqs3PnTrNp0yZz//33mzPOOMMsW7bMGMPaNoXv/xahMazxzzFhwgSzcuVKs2PHDlNWVmaGDBli4uPjQz/L3P7YS2C51HPPPWc6duxo4uLiTK9evUK/9o4fb8WKFUZSvVtubq4x5sSvCz/00EPG7/cbr9drLr30UrN582Znh3aJhtZVkpk9e3bonIMHD5rx48ebxMRE06pVKzNkyBCza9cu54Z2kdtuuy30ONC%2BfXszaNCgUFwZw9o2hf8NLNb4pxs%2BfLhJSUkxsbGxJjU11QwbNsxs3bo1dNztj70eY4xx5toZAADA6YnXYAEAAFhGYAEAAFhGYAEAAFhGYAEAAFhGYAEAAFhGYAEAAFhGYAEAAFhGYAEAAFhGYAEAAFhGYAEAAFhGYAEAAFhGYAEAAFhGYAEAAFhGYAEAAFhGYAEAAFhGYAEAAFhGYAEAAFhGYAEAAFj2fzrdoQfcBBTRAAAAAElFTkSuQmCC\"/>\n",
       "        </div>\n",
       "        <div role=\"tabpanel\" class=\"tab-pane col-md-12\" id=\"common3412795126645752907\">\n",
       "            \n",
       "<table class=\"freq table table-hover\">\n",
       "    <thead>\n",
       "    <tr>\n",
       "        <td class=\"fillremaining\">Value</td>\n",
       "        <td class=\"number\">Count</td>\n",
       "        <td class=\"number\">Frequency (%)</td>\n",
       "        <td style=\"min-width:200px\">&nbsp;</td>\n",
       "    </tr>\n",
       "    </thead>\n",
       "    <tr class=\"\">\n",
       "        <td class=\"fillremaining\">5.7</td>\n",
       "        <td class=\"number\">3</td>\n",
       "        <td class=\"number\">1.5%</td>\n",
       "        <td>\n",
       "            <div class=\"bar\" style=\"width:2%\">&nbsp;</div>\n",
       "        </td>\n",
       "</tr><tr class=\"\">\n",
       "        <td class=\"fillremaining\">4.1</td>\n",
       "        <td class=\"number\">3</td>\n",
       "        <td class=\"number\">1.5%</td>\n",
       "        <td>\n",
       "            <div class=\"bar\" style=\"width:2%\">&nbsp;</div>\n",
       "        </td>\n",
       "</tr><tr class=\"\">\n",
       "        <td class=\"fillremaining\">26.7</td>\n",
       "        <td class=\"number\">2</td>\n",
       "        <td class=\"number\">1.0%</td>\n",
       "        <td>\n",
       "            <div class=\"bar\" style=\"width:2%\">&nbsp;</div>\n",
       "        </td>\n",
       "</tr><tr class=\"\">\n",
       "        <td class=\"fillremaining\">18.1</td>\n",
       "        <td class=\"number\">2</td>\n",
       "        <td class=\"number\">1.0%</td>\n",
       "        <td>\n",
       "            <div class=\"bar\" style=\"width:2%\">&nbsp;</div>\n",
       "        </td>\n",
       "</tr><tr class=\"\">\n",
       "        <td class=\"fillremaining\">43.0</td>\n",
       "        <td class=\"number\">2</td>\n",
       "        <td class=\"number\">1.0%</td>\n",
       "        <td>\n",
       "            <div class=\"bar\" style=\"width:2%\">&nbsp;</div>\n",
       "        </td>\n",
       "</tr><tr class=\"\">\n",
       "        <td class=\"fillremaining\">10.8</td>\n",
       "        <td class=\"number\">2</td>\n",
       "        <td class=\"number\">1.0%</td>\n",
       "        <td>\n",
       "            <div class=\"bar\" style=\"width:2%\">&nbsp;</div>\n",
       "        </td>\n",
       "</tr><tr class=\"\">\n",
       "        <td class=\"fillremaining\">24.6</td>\n",
       "        <td class=\"number\">2</td>\n",
       "        <td class=\"number\">1.0%</td>\n",
       "        <td>\n",
       "            <div class=\"bar\" style=\"width:2%\">&nbsp;</div>\n",
       "        </td>\n",
       "</tr><tr class=\"\">\n",
       "        <td class=\"fillremaining\">49.4</td>\n",
       "        <td class=\"number\">2</td>\n",
       "        <td class=\"number\">1.0%</td>\n",
       "        <td>\n",
       "            <div class=\"bar\" style=\"width:2%\">&nbsp;</div>\n",
       "        </td>\n",
       "</tr><tr class=\"\">\n",
       "        <td class=\"fillremaining\">48.9</td>\n",
       "        <td class=\"number\">2</td>\n",
       "        <td class=\"number\">1.0%</td>\n",
       "        <td>\n",
       "            <div class=\"bar\" style=\"width:2%\">&nbsp;</div>\n",
       "        </td>\n",
       "</tr><tr class=\"\">\n",
       "        <td class=\"fillremaining\">33.5</td>\n",
       "        <td class=\"number\">2</td>\n",
       "        <td class=\"number\">1.0%</td>\n",
       "        <td>\n",
       "            <div class=\"bar\" style=\"width:2%\">&nbsp;</div>\n",
       "        </td>\n",
       "</tr><tr class=\"other\">\n",
       "        <td class=\"fillremaining\">Other values (157)</td>\n",
       "        <td class=\"number\">178</td>\n",
       "        <td class=\"number\">89.0%</td>\n",
       "        <td>\n",
       "            <div class=\"bar\" style=\"width:100%\">&nbsp;</div>\n",
       "        </td>\n",
       "</tr>\n",
       "</table>\n",
       "        </div>\n",
       "        <div role=\"tabpanel\" class=\"tab-pane col-md-12\"  id=\"extreme3412795126645752907\">\n",
       "            <p class=\"h4\">Minimum 5 values</p>\n",
       "            \n",
       "<table class=\"freq table table-hover\">\n",
       "    <thead>\n",
       "    <tr>\n",
       "        <td class=\"fillremaining\">Value</td>\n",
       "        <td class=\"number\">Count</td>\n",
       "        <td class=\"number\">Frequency (%)</td>\n",
       "        <td style=\"min-width:200px\">&nbsp;</td>\n",
       "    </tr>\n",
       "    </thead>\n",
       "    <tr class=\"\">\n",
       "        <td class=\"fillremaining\">0.0</td>\n",
       "        <td class=\"number\">1</td>\n",
       "        <td class=\"number\">0.5%</td>\n",
       "        <td>\n",
       "            <div class=\"bar\" style=\"width:100%\">&nbsp;</div>\n",
       "        </td>\n",
       "</tr><tr class=\"\">\n",
       "        <td class=\"fillremaining\">0.3</td>\n",
       "        <td class=\"number\">1</td>\n",
       "        <td class=\"number\">0.5%</td>\n",
       "        <td>\n",
       "            <div class=\"bar\" style=\"width:100%\">&nbsp;</div>\n",
       "        </td>\n",
       "</tr><tr class=\"\">\n",
       "        <td class=\"fillremaining\">0.4</td>\n",
       "        <td class=\"number\">1</td>\n",
       "        <td class=\"number\">0.5%</td>\n",
       "        <td>\n",
       "            <div class=\"bar\" style=\"width:100%\">&nbsp;</div>\n",
       "        </td>\n",
       "</tr><tr class=\"\">\n",
       "        <td class=\"fillremaining\">0.8</td>\n",
       "        <td class=\"number\">1</td>\n",
       "        <td class=\"number\">0.5%</td>\n",
       "        <td>\n",
       "            <div class=\"bar\" style=\"width:100%\">&nbsp;</div>\n",
       "        </td>\n",
       "</tr><tr class=\"\">\n",
       "        <td class=\"fillremaining\">1.3</td>\n",
       "        <td class=\"number\">1</td>\n",
       "        <td class=\"number\">0.5%</td>\n",
       "        <td>\n",
       "            <div class=\"bar\" style=\"width:100%\">&nbsp;</div>\n",
       "        </td>\n",
       "</tr>\n",
       "</table>\n",
       "            <p class=\"h4\">Maximum 5 values</p>\n",
       "            \n",
       "<table class=\"freq table table-hover\">\n",
       "    <thead>\n",
       "    <tr>\n",
       "        <td class=\"fillremaining\">Value</td>\n",
       "        <td class=\"number\">Count</td>\n",
       "        <td class=\"number\">Frequency (%)</td>\n",
       "        <td style=\"min-width:200px\">&nbsp;</td>\n",
       "    </tr>\n",
       "    </thead>\n",
       "    <tr class=\"\">\n",
       "        <td class=\"fillremaining\">47.8</td>\n",
       "        <td class=\"number\">1</td>\n",
       "        <td class=\"number\">0.5%</td>\n",
       "        <td>\n",
       "            <div class=\"bar\" style=\"width:50%\">&nbsp;</div>\n",
       "        </td>\n",
       "</tr><tr class=\"\">\n",
       "        <td class=\"fillremaining\">48.9</td>\n",
       "        <td class=\"number\">2</td>\n",
       "        <td class=\"number\">1.0%</td>\n",
       "        <td>\n",
       "            <div class=\"bar\" style=\"width:100%\">&nbsp;</div>\n",
       "        </td>\n",
       "</tr><tr class=\"\">\n",
       "        <td class=\"fillremaining\">49.0</td>\n",
       "        <td class=\"number\">2</td>\n",
       "        <td class=\"number\">1.0%</td>\n",
       "        <td>\n",
       "            <div class=\"bar\" style=\"width:100%\">&nbsp;</div>\n",
       "        </td>\n",
       "</tr><tr class=\"\">\n",
       "        <td class=\"fillremaining\">49.4</td>\n",
       "        <td class=\"number\">2</td>\n",
       "        <td class=\"number\">1.0%</td>\n",
       "        <td>\n",
       "            <div class=\"bar\" style=\"width:100%\">&nbsp;</div>\n",
       "        </td>\n",
       "</tr><tr class=\"\">\n",
       "        <td class=\"fillremaining\">49.6</td>\n",
       "        <td class=\"number\">1</td>\n",
       "        <td class=\"number\">0.5%</td>\n",
       "        <td>\n",
       "            <div class=\"bar\" style=\"width:50%\">&nbsp;</div>\n",
       "        </td>\n",
       "</tr>\n",
       "</table>\n",
       "        </div>\n",
       "    </div>\n",
       "</div>\n",
       "</div><div class=\"row variablerow\">\n",
       "    <div class=\"col-md-3 namecol\">\n",
       "        <p class=\"h4 pp-anchor\" id=\"pp_var_Sales\">Sales<br/>\n",
       "            <small>Numeric</small>\n",
       "        </p>\n",
       "    </div><div class=\"col-md-6\">\n",
       "    <div class=\"row\">\n",
       "        <div class=\"col-sm-6\">\n",
       "            <table class=\"stats \">\n",
       "                <tr>\n",
       "                    <th>Distinct count</th>\n",
       "                    <td>121</td>\n",
       "                </tr>\n",
       "                <tr>\n",
       "                    <th>Unique (%)</th>\n",
       "                    <td>60.5%</td>\n",
       "                </tr>\n",
       "                <tr class=\"ignore\">\n",
       "                    <th>Missing (%)</th>\n",
       "                    <td>0.0%</td>\n",
       "                </tr>\n",
       "                <tr class=\"ignore\">\n",
       "                    <th>Missing (n)</th>\n",
       "                    <td>0</td>\n",
       "                </tr>\n",
       "                <tr class=\"ignore\">\n",
       "                    <th>Infinite (%)</th>\n",
       "                    <td>0.0%</td>\n",
       "                </tr>\n",
       "                <tr class=\"ignore\">\n",
       "                    <th>Infinite (n)</th>\n",
       "                    <td>0</td>\n",
       "                </tr>\n",
       "            </table>\n",
       "\n",
       "        </div>\n",
       "        <div class=\"col-sm-6\">\n",
       "            <table class=\"stats \">\n",
       "\n",
       "                <tr>\n",
       "                    <th>Mean</th>\n",
       "                    <td>14.023</td>\n",
       "                </tr>\n",
       "                <tr>\n",
       "                    <th>Minimum</th>\n",
       "                    <td>1.6</td>\n",
       "                </tr>\n",
       "                <tr>\n",
       "                    <th>Maximum</th>\n",
       "                    <td>27</td>\n",
       "                </tr>\n",
       "                <tr class=\"ignore\">\n",
       "                    <th>Zeros (%)</th>\n",
       "                    <td>0.0%</td>\n",
       "                </tr>\n",
       "            </table>\n",
       "        </div>\n",
       "    </div>\n",
       "</div>\n",
       "<div class=\"col-md-3 collapse in\" id=\"minihistogram-4728558845262156974\">\n",
       "    <img src=\"data:image/png;base64,iVBORw0KGgoAAAANSUhEUgAAAMgAAABLCAYAAAA1fMjoAAAABHNCSVQICAgIfAhkiAAAAAlwSFlzAAAPYQAAD2EBqD%2BnaQAAADl0RVh0U29mdHdhcmUAbWF0cGxvdGxpYiB2ZXJzaW9uIDMuMC4yLCBodHRwOi8vbWF0cGxvdGxpYi5vcmcvOIA7rQAAAdxJREFUeJzt3D2O01AUhuHjiNZJH8W7YBHsiZqS/bAIdpEoC7BFQUFMAZkG%2BDSDFP/Ez1NORrqO5FcnvrlKM47jWBO7XC7Vdd3Uy7Jy5/O5TqfTpGu%2Bm3S139q2rapfb3i/389xCaxI3/fVdd3LfTOlWQJpmqaqqvb7/aoCef/xy5v%2B/%2BunDw%2B6km263zdT2k2%2BIqyIQCAQCAQCgUAgEAgEAoFAIBAIBAKBQCAQCASznMXairee3apyfmtpTBAIBAKBQCAQCAQCgcAu1sLY%2BVoWEwQCgUAgEAgEAoFAIBAIBLZ5n4AftHscEwSCzU6Q//lCju0xQSAQCASb/Yi1Zc57vZ4JAoFAIBAIBAKBwEM6r7LVB3sTBAKBQPAUH7EcG%2BFRTBAInmKCsEzP8GBvgkAgEAgEAoFAIFjcQ7otW5ZklkDGcayqqr7v/3jtx/dvU18OC/K3e%2BL%2Bt/t9M6VZAhmGoaqquq6bY3kW7PD5368Nw1CHw2G6i6mqZpwhy9vtVtfrtdq2raZppl6elRnHsYZhqOPxWLvdtI/NswQCa2EXCwKBQCAQCAQCgUAgEAgEAoFAIBAIBAKBQCAQCAQCgUAgEAgEAoFAIBAIBAKBQCAQCAQCgUAgEAgEAoHgJ3jYVrhSq5nxAAAAAElFTkSuQmCC\">\n",
       "\n",
       "</div>\n",
       "<div class=\"col-md-12 text-right\">\n",
       "    <a role=\"button\" data-toggle=\"collapse\" data-target=\"#descriptives-4728558845262156974,#minihistogram-4728558845262156974\"\n",
       "       aria-expanded=\"false\" aria-controls=\"collapseExample\">\n",
       "        Toggle details\n",
       "    </a>\n",
       "</div>\n",
       "<div class=\"row collapse col-md-12\" id=\"descriptives-4728558845262156974\">\n",
       "    <ul class=\"nav nav-tabs\" role=\"tablist\">\n",
       "        <li role=\"presentation\" class=\"active\"><a href=\"#quantiles-4728558845262156974\"\n",
       "                                                  aria-controls=\"quantiles-4728558845262156974\" role=\"tab\"\n",
       "                                                  data-toggle=\"tab\">Statistics</a></li>\n",
       "        <li role=\"presentation\"><a href=\"#histogram-4728558845262156974\" aria-controls=\"histogram-4728558845262156974\"\n",
       "                                   role=\"tab\" data-toggle=\"tab\">Histogram</a></li>\n",
       "        <li role=\"presentation\"><a href=\"#common-4728558845262156974\" aria-controls=\"common-4728558845262156974\"\n",
       "                                   role=\"tab\" data-toggle=\"tab\">Common Values</a></li>\n",
       "        <li role=\"presentation\"><a href=\"#extreme-4728558845262156974\" aria-controls=\"extreme-4728558845262156974\"\n",
       "                                   role=\"tab\" data-toggle=\"tab\">Extreme Values</a></li>\n",
       "\n",
       "    </ul>\n",
       "\n",
       "    <div class=\"tab-content\">\n",
       "        <div role=\"tabpanel\" class=\"tab-pane active row\" id=\"quantiles-4728558845262156974\">\n",
       "            <div class=\"col-md-4 col-md-offset-1\">\n",
       "                <p class=\"h4\">Quantile statistics</p>\n",
       "                <table class=\"stats indent\">\n",
       "                    <tr>\n",
       "                        <th>Minimum</th>\n",
       "                        <td>1.6</td>\n",
       "                    </tr>\n",
       "                    <tr>\n",
       "                        <th>5-th percentile</th>\n",
       "                        <td>6.6</td>\n",
       "                    </tr>\n",
       "                    <tr>\n",
       "                        <th>Q1</th>\n",
       "                        <td>10.375</td>\n",
       "                    </tr>\n",
       "                    <tr>\n",
       "                        <th>Median</th>\n",
       "                        <td>12.9</td>\n",
       "                    </tr>\n",
       "                    <tr>\n",
       "                        <th>Q3</th>\n",
       "                        <td>17.4</td>\n",
       "                    </tr>\n",
       "                    <tr>\n",
       "                        <th>95-th percentile</th>\n",
       "                        <td>23.8</td>\n",
       "                    </tr>\n",
       "                    <tr>\n",
       "                        <th>Maximum</th>\n",
       "                        <td>27</td>\n",
       "                    </tr>\n",
       "                    <tr>\n",
       "                        <th>Range</th>\n",
       "                        <td>25.4</td>\n",
       "                    </tr>\n",
       "                    <tr>\n",
       "                        <th>Interquartile range</th>\n",
       "                        <td>7.025</td>\n",
       "                    </tr>\n",
       "                </table>\n",
       "            </div>\n",
       "            <div class=\"col-md-4 col-md-offset-2\">\n",
       "                <p class=\"h4\">Descriptive statistics</p>\n",
       "                <table class=\"stats indent\">\n",
       "                    <tr>\n",
       "                        <th>Standard deviation</th>\n",
       "                        <td>5.2175</td>\n",
       "                    </tr>\n",
       "                    <tr>\n",
       "                        <th>Coef of variation</th>\n",
       "                        <td>0.37208</td>\n",
       "                    </tr>\n",
       "                    <tr>\n",
       "                        <th>Kurtosis</th>\n",
       "                        <td>-0.40887</td>\n",
       "                    </tr>\n",
       "                    <tr>\n",
       "                        <th>Mean</th>\n",
       "                        <td>14.023</td>\n",
       "                    </tr>\n",
       "                    <tr>\n",
       "                        <th>MAD</th>\n",
       "                        <td>4.28</td>\n",
       "                    </tr>\n",
       "                    <tr class=\"\">\n",
       "                        <th>Skewness</th>\n",
       "                        <td>0.40757</td>\n",
       "                    </tr>\n",
       "                    <tr>\n",
       "                        <th>Sum</th>\n",
       "                        <td>2804.5</td>\n",
       "                    </tr>\n",
       "                    <tr>\n",
       "                        <th>Variance</th>\n",
       "                        <td>27.222</td>\n",
       "                    </tr>\n",
       "                    <tr>\n",
       "                        <th>Memory size</th>\n",
       "                        <td>1.6 KiB</td>\n",
       "                    </tr>\n",
       "                </table>\n",
       "            </div>\n",
       "        </div>\n",
       "        <div role=\"tabpanel\" class=\"tab-pane col-md-8 col-md-offset-2\" id=\"histogram-4728558845262156974\">\n",
       "            <img src=\"data:image/png;base64,iVBORw0KGgoAAAANSUhEUgAAAlgAAAGQCAYAAAByNR6YAAAABHNCSVQICAgIfAhkiAAAAAlwSFlzAAAPYQAAD2EBqD%2BnaQAAADl0RVh0U29mdHdhcmUAbWF0cGxvdGxpYiB2ZXJzaW9uIDMuMC4yLCBodHRwOi8vbWF0cGxvdGxpYi5vcmcvOIA7rQAAH45JREFUeJzt3X1wVfWd%2BPFPJA8gSyLhISElOqwLWyvIKDgV1qoFRGmRtmxXHdQBl7LaRdoIbCuyXelsBcdW7QNbt7oVXR8W7YxUd%2BrSorWAw7oV1Aq041rFCiUx6tKEsBgQzu8PfmYbA0rLF05u8nrN3Bnu996cfHJ6p3l7zsm9RVmWZQEAQDLH5T0AAEBXI7AAABITWAAAiQksAIDEBBYAQGICCwAgMYEFAJCYwAIASExgAQAkJrAAABITWAAAiQksAIDEBBYAQGICCwAgMYEFAJCYwAIASExgAQAkJrAAABITWAAAiQksAIDEBBYAQGICCwAgMYEFAJCYwAIASExgAQAkJrAAABITWAAAiQksAIDEBBYAQGICCwAgMYEFAJCYwAIASExgAQAkJrAAABITWAAAiQksAIDEBBYAQGICCwAgseK8B%2BgO9u/fH9u3b48%2BffpEUVFR3uMAQLeQZVns3Lkzampq4rjjju0xJYF1DGzfvj1qa2vzHgMAuqWtW7fG4MGDj%2Bn3FFjHQJ8%2BfSLiwP/A5eXlOU8DAN1Dc3Nz1NbWtv0ePpYE1jHw7mnB8vJygQUAx1gel%2Be4yB0AIDGBBQCQmMACAEhMYAEAJCawAAASE1gAAIkJLACAxAQWAEBiAgsAIDGBBQCQmMACAEhMYAEAJObDnqGLGL1wZd4jHLb1N16Y9wgAR5UjWAAAiQksAIDEBBYAQGICCwAgMYEFAJCYwAIASExgAQAkJrAAABITWAAAiQksAIDEBBYAQGICCwAgMYEFAJCYwAIASExgAQAkJrAAABITWAAAiQksAIDEBBYAQGICCwAgMYEFAJCYwAIASExgAQAkJrAAABITWAAAiQksAIDEBBYAQGICCwAgMYEFAJCYwAIASExgAQAkJrAAABITWAAAiQksAIDEBBYAQGICCwAgMYEFAJCYwAIASExgAQAkJrAAABITWL9nyZIlUVRUFHV1dW1rra2tMWfOnOjfv3/07t07pkyZEtu2bctxSgCgsxNY/98zzzwTd9xxR5x22mnt1uvq6mLFihWxfPnyeOqpp6KlpSUmT54c%2B/bty2lSAKCzE1gR0dLSEpdddlnceeed0bdv37b1pqam%2BP73vx%2B33HJLTJgwIU4//fS47777YuPGjfH444/nODEA0JkJrIiYPXt2fPKTn4wJEya0W9%2BwYUPs3bs3Jk6c2LZWU1MTw4cPj3Xr1h3rMQGAAlGc9wB5W758eWzYsCHWr1/f4bGGhoYoLS1td1QrIqKqqioaGhoOuc3W1tZobW1tu9/c3JxuYACg0%2BvWR7C2bt0aX/ziF%2BP%2B%2B%2B%2BPnj17HvbXZVkWRUVFh3x8yZIlUVFR0Xarra1NMS4AUCC6dWBt2LAhGhsbY9SoUVFcXBzFxcWxevXq%2BPa3vx3FxcVRVVUVe/bsiR07drT7usbGxqiqqjrkdhcsWBBNTU1tt61btx7tHwUA6ES69SnC8ePHx8aNG9utXXnllfHhD384vvzlL0dtbW2UlJTEqlWr4uKLL46IiPr6%2Bti0aVPcfPPNh9xuWVlZlJWVHdXZAYDOq1sHVp8%2BfWL48OHt1nr37h39%2BvVrW585c2bMmzcv%2BvXrF5WVlTF//vwYMWJEhwviAQDe1a0D63DcdtttUVxcHBdffHHs3r07xo8fH3fffXf06NEj79EAgE6qKMuyLO8hurrm5uaoqKiIpqamKC8vz3scuqjRC1fmPcJhW3/jhXmPAHQDef7%2B7dYXuQMAHA0CCwAgMYEFAJCYwAIASExgAQAkJrAAABITWAAAiQksAIDEBBYAQGICCwAgMYEFAJCYwAIASExgAQAkJrAAABITWAAAiQksAIDEBBYAQGICCwAgMYEFAJCYwAIASExgAQAkJrAAABITWAAAiQksAIDEBBYAQGICCwAgseK8BwC6n9ELV%2BY9wh9k/Y0X5j0CUGAcwQIASExgAQAkJrAAABITWAAAiQksAIDEBBYAQGICCwAgMYEFAJCYwAIASExgAQAkJrAAABITWAAAiQksAIDEBBYAQGICCwAgMYEFAJCYwAIASExgAQAkJrAAABITWAAAiQksAIDEBBYAQGICCwAgMYEFAJCYwAIASExgAQAkJrAAABLr9oF1%2B%2B23x2mnnRbl5eVRXl4eY8aMif/4j/9oe7y1tTXmzJkT/fv3j969e8eUKVNi27ZtOU4MAHR23T6wBg8eHDfddFOsX78%2B1q9fH%2BPGjYtPfepTsXnz5oiIqKurixUrVsTy5cvjqaeeipaWlpg8eXLs27cv58kBgM6qKMuyLO8hOpvKysr4%2Bte/Hp/97GdjwIABce%2B998Yll1wSERHbt2%2BP2traeOyxx%2BKCCy44rO01NzdHRUVFNDU1RXl5%2BdEcnW5s9MKVeY/QZa2/8cK8RwD%2BCHn%2B/u32R7B%2B3759%2B2L58uWxa9euGDNmTGzYsCH27t0bEydObHtOTU1NDB8%2BPNatW3fI7bS2tkZzc3O7GwDQfQisiNi4cWP8yZ/8SZSVlcXVV18dK1asiI985CPR0NAQpaWl0bdv33bPr6qqioaGhkNub8mSJVFRUdF2q62tPdo/AgDQiRRsYN13333x9ttvJ9nWn//5n8fzzz8fTz/9dHz%2B85%2BP6dOnxy9/%2BctDPj/LsigqKjrk4wsWLIimpqa229atW5PMCQAUhoINrLlz50Z1dXVcddVV8fOf//yItlVaWhp/9md/FqNHj44lS5bEyJEj41vf%2BlZUV1fHnj17YseOHe2e39jYGFVVVYfcXllZWdtfJb57AwC6j4INrO3bt8ddd90V9fX1cfbZZ8epp54at9xyS7zxxhtHvO0sy6K1tTVGjRoVJSUlsWrVqrbH6uvrY9OmTTF27Ngj/j4AQNdUsIFVXFwcU6dOjUcffTRee%2B21mD59etx1110xePDgmDp1avzoRz%2BKw/kDyeuvvz7Wrl0br776amzcuDEWLlwYP/vZz%2BKyyy6LioqKmDlzZsybNy%2BeeOKJeO655%2BLyyy%2BPESNGxIQJE47BTwkAFKLivAdIobq6OsaPHx%2B/%2Bc1v4uWXX47169fHE088EQMGDIhly5bFxz72sUN%2B7euvvx5XXHFF1NfXR0VFRZx22mmxcuXKOP/88yMi4rbbbovi4uK4%2BOKLY/fu3TF%2B/Pi4%2B%2B67o0ePHsfqxwMACkxBvw/Wm2%2B%2BGffdd18sW7YsXnzxxbjoooti5syZccEFF8SuXbvi7//%2B7%2BORRx6JLVu25Dqn98HiWPA%2BWEeP98GCwpTn79%2BCDazPfOYz8dhjj8WQIUPic5/7XEyfPj0GDBjQ7jnbt2%2BPwYMHx/79%2B3Oa8gCBxbEgsHiXIIQD8vz9W7CnCMvLy%2BPxxx9/39N/gwYNipdeeukYTgUAUMCBdc8993zgc4qKiuLkk08%2BBtMAAPyfgv0rwmuvvTaWLl3aYf2f/umfYt68eTlMBABwQMEG1g9%2B8IM466yzOqyPGTMmHnzwwRwmAgA4oGAD68033%2BzwGYERB67NevPNN3OYCADggIINrJNPPjl%2B/OMfd1j/8Y9/HEOGDMlhIgCAAwr2Ive6urqoq6uLt956K8aNGxcREU888UTcfPPN8Y1vfCPn6QCA7qxgA2vWrFnx9ttvx%2BLFi%2BOGG26IiIjBgwfHt7/97fjrv/7rnKcDALqzgg2siIg5c%2BbEnDlzor6%2BPnr16hUnnHBC3iMBABR2YL1r0KBBeY8AANCmYC9yf%2BONN%2BLKK6%2BME088MXr27BmlpaXtbgAAeSnYI1gzZsyIl19%2BOf7u7/4uBg0aFEVFRXmPBAAQEQUcWGvWrIk1a9bE6aefnvcoAADtFOwpwsGDBztqBQB0SgUbWLfddlssWLAgtm3blvcoAADtFOwpwiuuuCJ27twZJ510UpSXl0dJSUm7xxsbG3OaDADo7go2sG666aa8RwAAOKiCDayZM2fmPQIAwEEV7DVYERGvvvpqLFq0KK644oq2U4I/%2BclP4le/%2BlXOkwEA3VnBBtbatWvj1FNPjdWrV8dDDz0ULS0tERHx7LPPxj/8wz/kPB0A0J0VbGB9%2BctfjkWLFsWTTz7Z7p3bx40bF08//XSOkwEA3V3BBtYLL7wQn/3sZzusDxw4MN54440cJgIAOKBgA%2BuEE06IhoaGDuvPP/98fOhDH8phIgCAAwo2sC699NK47rrr4o033mh7R/f/%2Bq//ivnz58fll1%2Be83QAQHdWsIG1ePHiqK6ujkGDBkVLS0t85CMfibFjx8aZZ54ZX/nKV/IeDwDoxgr2fbBKS0vjwQcfjP/%2B7/%2BOZ599Nvbv3x9nnHFGfPjDH857NACgmyvYwHrXsGHDYtiwYXmPAQDQpmAD62/%2B5m/e9/E77rjjGE0CANBewQZWfX19u/t79%2B6NzZs3x86dO%2BOcc87JaSoAgAIOrH//93/vsPbOO%2B/E5z//%2BTjllFNymAgA4ICC/SvCgykuLo758%2BfH17/%2B9bxHAQC6sS4VWBERr7zySuzduzfvMQCAbqxgTxF%2B6Utfanc/y7Kor6%2BPRx99NC677LKcpgIAKODA%2Bs///M9294877rgYMGBA3HTTTTFr1qycpgIAKODAWrt2bd4jAAAcVJe7BgsAIG8FewTrzDPPbPuQ5w/y85///ChPAwDwfwo2sD7%2B8Y/H9773vRg2bFiMGTMmIiKefvrpePHFF%2BOqq66KsrKynCcEALqrgg2s3/3udzF79uxYvHhxu/WFCxfG66%2B/Hv/yL/%2BS02QAQHdXsNdgPfTQQ3HllVd2WJ8xY0b84Ac/yGEiAIADCjawysrKYt26dR3W161b5/QgAJCrgj1F%2BIUvfCGuvvrqeO655%2BKss86KiAPXYN15551x/fXX5zwdANCdFWxgLVy4MIYMGRLf%2Bta34q677oqIiFNOOSXuvPPOmDZtWs7TAQDdWcEGVkTEtGnTxBQA0OkUdGA1NzfHww8/HK%2B88kpce%2B210bdv3/jFL34RAwcOjEGDBuU9HkAuRi9cmfcIh239jRfmPQIcFQUbWJs2bYoJEybE8ccfH1u3bo0ZM2ZE375946GHHopt27bFPffck/eIAEA3VbB/RXjttdfGtGnT4uWXX46ePXu2rX/yk5%2BMNWvW5DgZANDdFewRrGeeeSZuv/32Dh%2BX86EPfSjq6%2BtzmgoAoICPYJWWlkZLS0uH9Zdeein69%2B%2Bfw0QAAAcUbGBNmTIl/vEf/zHeeeediIgoKiqK3/72t3HdddfF1KlTc54OAOjOCjawbrnllti%2BfXtUV1fH7t27Y9y4cfGnf/qn0bNnzw6fTwgAcCwV7DVYFRUVsW7duli1alU8%2B%2ByzsX///jjjjDPiggsu6HBdFgDAsVSQgbV37974xCc%2BEd/97ndj4sSJMXHixLxHAgBoU5CnCEtKSuK5555LcqRqyZIlceaZZ0afPn1i4MCB8elPfzpefPHFds9pbW2NOXPmRP/%2B/aN3794xZcqU2LZt2xF/bwCgayrIwIqIuPzyy2PZsmVHvJ3Vq1fH7Nmz4%2Bmnn45Vq1bFO%2B%2B8ExMnToxdu3a1Paeuri5WrFgRy5cvj6eeeipaWlpi8uTJsW/fviP%2B/gBA11OQpwjftXTp0nj88cdj9OjR0bt373aP3XzzzYe1jZUr23%2BkxLJly2LgwIGxYcOGOOecc6KpqSm%2B//3vx7333hsTJkyIiIj77rsvamtr4/HHH48LLrggzQ8DAHQZBRtYGzZsiNNOOy0iIl544YV2jx3JqcOmpqaIiKisrGz7Pnv37m13nVdNTU0MHz481q1bd9DAam1tjdbW1rb7zc3Nf/Q8AEDhKbjAeuWVV2LIkCGxdu3a5NvOsizmzp0bZ599dgwfPjwiIhoaGqK0tDT69u3b7rlVVVXR0NBw0O0sWbIkvvrVryafj2OrkD4wF4DOpeCuwRo6dGi88cYbbfcvueSSeP3115Ns%2B5prrokXXngh/u3f/u0Dn5tl2SGPlC1YsCCamprablu3bk0yHwBQGAousLIsa3f/sccea3dB%2Bh9rzpw58eijj8aTTz4ZgwcPbluvrq6OPXv2xI4dO9o9v7GxMaqqqg66rbKysigvL293AwC6j4ILrNSyLItrrrkmHn744fjpT38aQ4YMaff4qFGjoqSkJFatWtW2Vl9fH5s2bYqxY8ce63EBgAJQcNdgFRUVdTg1dyQXtc%2BePTseeOCBeOSRR6JPnz5t11VVVFREr169oqKiImbOnBnz5s2Lfv36RWVlZcyfPz9GjBjR9leFAAC/r%2BACK8uymDFjRpSVlUVExNtvvx1XX311h7dpePjhhw9re7fffntERJx33nnt1pctWxYzZsyIiIjbbrstiouL4%2BKLL47du3fH%2BPHj4%2B67744ePXoc2Q8DAHRJBRdY06dPb3f/8ssvP6LtvfearoPp2bNnfOc734nvfOc7R/S9AIDuoeACK8W7twMAHE3d/iJ3AIDUBBYAQGICCwAgMYEFAJCYwAIASExgAQAkJrAAABITWAAAiQksAIDEBBYAQGICCwAgMYEFAJBYwX3YMwBdx%2BiFK/Me4Q%2By/sYL8x6BAuEIFgBAYgILACAxgQUAkJjAAgBITGABACQmsAAAEhNYAACJCSwAgMQEFgBAYgILACAxgQUAkJjAAgBITGABACQmsAAAEhNYAACJCSwAgMQEFgBAYgILACAxgQUAkJjAAgBITGABACQmsAAAEhNYAACJCSwAgMQEFgBAYgILACAxgQUAkJjAAgBITGABACQmsAAAEhNYAACJFec9AAAUitELV%2BY9wh9k/Y0X5j1Ct%2BUIFgBAYgILACAxgQUAkJjAAgBITGABACQmsAAAEhNYAACJCSwAgMS6fWCtWbMmLrrooqipqYmioqL44Q9/2O7xLMti0aJFUVNTE7169YrzzjsvNm/enNO0AEAh6PaBtWvXrhg5cmQsXbr0oI/ffPPNceutt8bSpUvjmWeeierq6jj//PNj586dx3hSAKBQdPuPypk0aVJMmjTpoI9lWRbf/OY3Y%2BHChTF16tSIiLjnnnuiqqoqHnjggbjqqquO5agAQIHo9kew3s%2BWLVuioaEhJk6c2LZWVlYW5557bqxbt%2B6QX9fa2hrNzc3tbgBA9yGw3kdDQ0NERFRVVbVbr6qqanvsYJYsWRIVFRVtt9ra2qM6JwDQuQisw1BUVNTufpZlHdZ%2B34IFC6KpqanttnXr1qM9IgDQiXT7a7DeT3V1dUQcOJI1aNCgtvXGxsYOR7V%2BX1lZWZSVlR31%2BQCAzskRrPcxZMiQqK6ujlWrVrWt7dmzJ1avXh1jx47NcTIAoDPr9kewWlpa4te//nXb/S1btsTzzz8flZWVceKJJ0ZdXV0sXrw4hg4dGkOHDo3FixfH8ccfH9OmTctxagCgM%2Bv2gbV%2B/fr4%2BMc/3nZ/7ty5ERExffr0uPvuu%2BNLX/pS7N69O/72b/82duzYER/96EfjJz/5SfTp0yevkQGATq4oy7Is7yG6uubm5qioqIimpqYoLy/PexwO0%2BiFK/MeAeCIrL/xwrxHyFWev3%2B7/REsjh3BAkB34SJ3AIDEBBYAQGICCwAgMYEFAJCYwAIASExgAQAkJrAAABITWAAAiQksAIDEBBYAQGICCwAgMYEFAJCYD3sGgC5q9MKVeY9w2NbfeGHeIyTlCBYAQGICCwAgMYEFAJCYwAIASExgAQAkJrAAABITWAAAiQksAIDEBBYAQGICCwAgMYEFAJCYwAIASExgAQAkJrAAABITWAAAiQksAIDEBBYAQGICCwAgMYEFAJCYwAIASExgAQAkJrAAABITWAAAiQksAIDEBBYAQGICCwAgMYEFAJCYwAIASExgAQAkJrAAABITWAAAiRXnPQBHZvTClXmPAAC8hyNYAACJCSwAgMQEFgBAYgILACAxgQUAkJjAAgBITGABACQmsAAAEhNYh%2Bm73/1uDBkyJHr27BmjRo2KtWvX5j0SANBJCazD8OCDD0ZdXV0sXLgwnnvuufjYxz4WkyZNitdeey3v0QCATkhgHYZbb701Zs6cGZ/73OfilFNOiW9%2B85tRW1sbt99%2Be96jAQCdkM8i/AB79uyJDRs2xHXXXddufeLEibFu3bqDfk1ra2u0tra23W9qaoqIiObm5uTz7WvdlXybAHCsHY3fke9uM8uy5Nv%2BIALrA7z55puxb9%2B%2BqKqqardeVVUVDQ0NB/2aJUuWxFe/%2BtUO67W1tUdlRgAodBW3HL1t79y5MyoqKo7eNzgIgXWYioqK2t3PsqzD2rsWLFgQc%2BfObbu/f//%2B%2BJ//%2BZ/o16/fIb%2BGQ2tubo7a2trYunVrlJeX5z1Ol2G/Hh3269Fhvx4dXX2/ZlkWO3fujJqammP%2BvQXWB%2Bjfv3/06NGjw9GqxsbGDke13lVWVhZlZWXt1k444YSjNmN3UV5e3iX/DyBv9uvRYb8eHfbr0dGV9%2BuxPnL1Lhe5f4DS0tIYNWpUrFq1qt36qlWrYuzYsTlNBQB0Zo5gHYa5c%2BfGFVdcEaNHj44xY8bEHXfcEa%2B99lpcffXVeY8GAHRCPRYtWrQo7yE6u%2BHDh0e/fv1i8eLF8Y1vfCN2794d9957b4wcOTLv0bqNHj16xHnnnRfFxf6bICX79eiwX48O%2B/XosF%2BPjqIsj79dBADowlyDBQCQmMACAEhMYAEAJCawAAASE1h0WosWLYqioqJ2t%2Brq6rzHKjhr1qyJiy66KGpqaqKoqCh%2B%2BMMftns8y7JYtGhR1NTURK9eveK8886LzZs35zRt4fig/TpjxowOr9%2Bzzjorp2kLw5IlS%2BLMM8%2BMPn36xMCBA%2BPTn/50vPjii%2B2e09raGnPmzIn%2B/ftH7969Y8qUKbFt27acJi4Mh7NfzzvvvA6v10svvTSnibsGgUWnduqpp0Z9fX3bbePGjXmPVHB27doVI0eOjKVLlx708ZtvvjluvfXWWLp0aTzzzDNRXV0d559/fuzcufMYT1pYPmi/RkRceOGF7V6/jz322DGcsPCsXr06Zs%2BeHU8//XSsWrUq3nnnnZg4cWLs2vV/H2pfV1cXK1asiOXLl8dTTz0VLS0tMXny5Ni3b1%2BOk3duh7NfIyJmzZrV7vX6ve99L6eJu4gMOqkbbrghGzlyZN5jdCkRka1YsaLt/v79%2B7Pq6urspptualt7%2B%2B23s4qKiuyf//mf8xixIL13v2ZZlk2fPj371Kc%2BldNEXUNjY2MWEdnq1auzLMuy3/3ud1lJSUm2fPnytuf89re/zY477rhs5cqVeY1ZcN67X7Msy84999zsi1/8Yo5TdT2OYNGpvfTSS1FTUxNDhgyJSy%2B9NF555ZW8R%2BpStmzZEg0NDTFx4sS2tbKysjj33HNj3bp1OU7WNfzsZz%2BLgQMHxrBhw2LWrFnR2NiY90gFpampKSIiKisrIyJiw4YNsXfv3nav15qamhg%2BfLjX6x/gvfv1Xffff3/0798/Tj311Jg/f76j2EfI27bSaX30ox%2BNf/3Xf41hw4bF66%2B/Hl/72tdi7NixsXnz5ujXr1/e43UJ736I%2BXs/uLyqqip%2B85vf5DFSlzFp0qT4q7/6qzjppJNiy5Yt8ZWvfCXGjRsXGzZs6PBh8HSUZVnMnTs3zj777Bg%2BfHhEHHi9lpaWRt%2B%2Bfds9t6qqqu21zPs72H6NiLjssstiyJAhUV1dHZs2bYoFCxbEL37xiw6fw8vhE1h0WpMmTWr794gRI2LMmDFx8sknxz333BNz587NcbKup6ioqN39LMs6rPGHueSSS9r%2BPXz48Bg9enScdNJJ8aMf/SimTp2a42SF4ZprrokXXnghnnrqqQ98rtfr4TvUfp01a1bbv4cPHx5Dhw6N0aNHx7PPPhtnnHHGsR6zS3CKkILRu3fvGDFiRLz00kt5j9JlvPtXme/9r//GxsYOR7U4MoMGDYqTTjrJ6/cwzJkzJx599NF48sknY/DgwW3r1dXVsWfPntixY0e753u9Hp5D7deDOeOMM6KkpMTr9QgILApGa2tr/OpXv4pBgwblPUqX8e4pgd8/DbBnz55YvXp1jB07NsfJup633nortm7d6vX7PrIsi2uuuSYefvjh%2BOlPfxpDhgxp9/ioUaOipKSk3eu1vr4%2BNm3a5PX6Pj5ovx7M5s2bY%2B/evV6vR8ApQjqt%2BfPnx0UXXRQnnnhiNDY2xte%2B9rVobm6O6dOn5z1aQWlpaYlf//rXbfe3bNkSzz//fFRWVsaJJ54YdXV1sXjx4hg6dGgMHTo0Fi9eHMcff3xMmzYtx6k7v/fbr5WVlbFo0aL4y7/8yxg0aFC8%2Buqrcf3110f//v3jM5/5TI5Td26zZ8%2BOBx54IB555JHo06dP25HVioqK6NWrV1RUVMTMmTNj3rx50a9fv6isrIz58%2BfHiBEjYsKECTlP33l90H59%2BeWX4/77749PfOIT0b9///jlL38Z8%2BbNi9NPPz3%2B4i/%2BIufpC1ief8II7%2BeSSy7JBg0alJWUlGQ1NTXZ1KlTs82bN%2Bc9VsF58skns4jocJs%2BfXqWZQfequGGG27Iqqurs7Kysuycc87JNm7cmO/QBeD99uv//u//ZhMnTswGDBiQlZSUZCeeeGI2ffr07LXXXst77E7tYPszIrJly5a1PWf37t3ZNddck1VWVma9evXKJk%2BebL9%2BgA/ar6%2B99lp2zjnnZJWVlVlpaWl28sknZ1/4wheyt956K9/BC1xRlmXZsQw6AICuzjVYAACJCSwAgMQEFgBAYgILACAxgQUAkJjAAgBITGABACQmsAAAEhNYAACJCSwAgMQEFgBAYgILACAxgQUAkJjAAgBITGABACQmsAAAEhNYAACJCSwAgMT%2BHyW9mfnrU2llAAAAAElFTkSuQmCC\"/>\n",
       "        </div>\n",
       "        <div role=\"tabpanel\" class=\"tab-pane col-md-12\" id=\"common-4728558845262156974\">\n",
       "            \n",
       "<table class=\"freq table table-hover\">\n",
       "    <thead>\n",
       "    <tr>\n",
       "        <td class=\"fillremaining\">Value</td>\n",
       "        <td class=\"number\">Count</td>\n",
       "        <td class=\"number\">Frequency (%)</td>\n",
       "        <td style=\"min-width:200px\">&nbsp;</td>\n",
       "    </tr>\n",
       "    </thead>\n",
       "    <tr class=\"\">\n",
       "        <td class=\"fillremaining\">9.7</td>\n",
       "        <td class=\"number\">5</td>\n",
       "        <td class=\"number\">2.5%</td>\n",
       "        <td>\n",
       "            <div class=\"bar\" style=\"width:4%\">&nbsp;</div>\n",
       "        </td>\n",
       "</tr><tr class=\"\">\n",
       "        <td class=\"fillremaining\">12.9</td>\n",
       "        <td class=\"number\">4</td>\n",
       "        <td class=\"number\">2.0%</td>\n",
       "        <td>\n",
       "            <div class=\"bar\" style=\"width:3%\">&nbsp;</div>\n",
       "        </td>\n",
       "</tr><tr class=\"\">\n",
       "        <td class=\"fillremaining\">11.7</td>\n",
       "        <td class=\"number\">4</td>\n",
       "        <td class=\"number\">2.0%</td>\n",
       "        <td>\n",
       "            <div class=\"bar\" style=\"width:3%\">&nbsp;</div>\n",
       "        </td>\n",
       "</tr><tr class=\"\">\n",
       "        <td class=\"fillremaining\">15.9</td>\n",
       "        <td class=\"number\">4</td>\n",
       "        <td class=\"number\">2.0%</td>\n",
       "        <td>\n",
       "            <div class=\"bar\" style=\"width:3%\">&nbsp;</div>\n",
       "        </td>\n",
       "</tr><tr class=\"\">\n",
       "        <td class=\"fillremaining\">25.4</td>\n",
       "        <td class=\"number\">3</td>\n",
       "        <td class=\"number\">1.5%</td>\n",
       "        <td>\n",
       "            <div class=\"bar\" style=\"width:2%\">&nbsp;</div>\n",
       "        </td>\n",
       "</tr><tr class=\"\">\n",
       "        <td class=\"fillremaining\">13.4</td>\n",
       "        <td class=\"number\">3</td>\n",
       "        <td class=\"number\">1.5%</td>\n",
       "        <td>\n",
       "            <div class=\"bar\" style=\"width:2%\">&nbsp;</div>\n",
       "        </td>\n",
       "</tr><tr class=\"\">\n",
       "        <td class=\"fillremaining\">10.6</td>\n",
       "        <td class=\"number\">3</td>\n",
       "        <td class=\"number\">1.5%</td>\n",
       "        <td>\n",
       "            <div class=\"bar\" style=\"width:2%\">&nbsp;</div>\n",
       "        </td>\n",
       "</tr><tr class=\"\">\n",
       "        <td class=\"fillremaining\">13.2</td>\n",
       "        <td class=\"number\">3</td>\n",
       "        <td class=\"number\">1.5%</td>\n",
       "        <td>\n",
       "            <div class=\"bar\" style=\"width:2%\">&nbsp;</div>\n",
       "        </td>\n",
       "</tr><tr class=\"\">\n",
       "        <td class=\"fillremaining\">10.1</td>\n",
       "        <td class=\"number\">3</td>\n",
       "        <td class=\"number\">1.5%</td>\n",
       "        <td>\n",
       "            <div class=\"bar\" style=\"width:2%\">&nbsp;</div>\n",
       "        </td>\n",
       "</tr><tr class=\"\">\n",
       "        <td class=\"fillremaining\">20.7</td>\n",
       "        <td class=\"number\">3</td>\n",
       "        <td class=\"number\">1.5%</td>\n",
       "        <td>\n",
       "            <div class=\"bar\" style=\"width:2%\">&nbsp;</div>\n",
       "        </td>\n",
       "</tr><tr class=\"other\">\n",
       "        <td class=\"fillremaining\">Other values (111)</td>\n",
       "        <td class=\"number\">165</td>\n",
       "        <td class=\"number\">82.5%</td>\n",
       "        <td>\n",
       "            <div class=\"bar\" style=\"width:100%\">&nbsp;</div>\n",
       "        </td>\n",
       "</tr>\n",
       "</table>\n",
       "        </div>\n",
       "        <div role=\"tabpanel\" class=\"tab-pane col-md-12\"  id=\"extreme-4728558845262156974\">\n",
       "            <p class=\"h4\">Minimum 5 values</p>\n",
       "            \n",
       "<table class=\"freq table table-hover\">\n",
       "    <thead>\n",
       "    <tr>\n",
       "        <td class=\"fillremaining\">Value</td>\n",
       "        <td class=\"number\">Count</td>\n",
       "        <td class=\"number\">Frequency (%)</td>\n",
       "        <td style=\"min-width:200px\">&nbsp;</td>\n",
       "    </tr>\n",
       "    </thead>\n",
       "    <tr class=\"\">\n",
       "        <td class=\"fillremaining\">1.6</td>\n",
       "        <td class=\"number\">1</td>\n",
       "        <td class=\"number\">0.5%</td>\n",
       "        <td>\n",
       "            <div class=\"bar\" style=\"width:50%\">&nbsp;</div>\n",
       "        </td>\n",
       "</tr><tr class=\"\">\n",
       "        <td class=\"fillremaining\">3.2</td>\n",
       "        <td class=\"number\">1</td>\n",
       "        <td class=\"number\">0.5%</td>\n",
       "        <td>\n",
       "            <div class=\"bar\" style=\"width:50%\">&nbsp;</div>\n",
       "        </td>\n",
       "</tr><tr class=\"\">\n",
       "        <td class=\"fillremaining\">4.8</td>\n",
       "        <td class=\"number\">1</td>\n",
       "        <td class=\"number\">0.5%</td>\n",
       "        <td>\n",
       "            <div class=\"bar\" style=\"width:50%\">&nbsp;</div>\n",
       "        </td>\n",
       "</tr><tr class=\"\">\n",
       "        <td class=\"fillremaining\">5.3</td>\n",
       "        <td class=\"number\">2</td>\n",
       "        <td class=\"number\">1.0%</td>\n",
       "        <td>\n",
       "            <div class=\"bar\" style=\"width:100%\">&nbsp;</div>\n",
       "        </td>\n",
       "</tr><tr class=\"\">\n",
       "        <td class=\"fillremaining\">5.5</td>\n",
       "        <td class=\"number\">1</td>\n",
       "        <td class=\"number\">0.5%</td>\n",
       "        <td>\n",
       "            <div class=\"bar\" style=\"width:50%\">&nbsp;</div>\n",
       "        </td>\n",
       "</tr>\n",
       "</table>\n",
       "            <p class=\"h4\">Maximum 5 values</p>\n",
       "            \n",
       "<table class=\"freq table table-hover\">\n",
       "    <thead>\n",
       "    <tr>\n",
       "        <td class=\"fillremaining\">Value</td>\n",
       "        <td class=\"number\">Count</td>\n",
       "        <td class=\"number\">Frequency (%)</td>\n",
       "        <td style=\"min-width:200px\">&nbsp;</td>\n",
       "    </tr>\n",
       "    </thead>\n",
       "    <tr class=\"\">\n",
       "        <td class=\"fillremaining\">24.7</td>\n",
       "        <td class=\"number\">1</td>\n",
       "        <td class=\"number\">0.5%</td>\n",
       "        <td>\n",
       "            <div class=\"bar\" style=\"width:34%\">&nbsp;</div>\n",
       "        </td>\n",
       "</tr><tr class=\"\">\n",
       "        <td class=\"fillremaining\">25.4</td>\n",
       "        <td class=\"number\">3</td>\n",
       "        <td class=\"number\">1.5%</td>\n",
       "        <td>\n",
       "            <div class=\"bar\" style=\"width:100%\">&nbsp;</div>\n",
       "        </td>\n",
       "</tr><tr class=\"\">\n",
       "        <td class=\"fillremaining\">25.5</td>\n",
       "        <td class=\"number\">1</td>\n",
       "        <td class=\"number\">0.5%</td>\n",
       "        <td>\n",
       "            <div class=\"bar\" style=\"width:34%\">&nbsp;</div>\n",
       "        </td>\n",
       "</tr><tr class=\"\">\n",
       "        <td class=\"fillremaining\">26.2</td>\n",
       "        <td class=\"number\">1</td>\n",
       "        <td class=\"number\">0.5%</td>\n",
       "        <td>\n",
       "            <div class=\"bar\" style=\"width:34%\">&nbsp;</div>\n",
       "        </td>\n",
       "</tr><tr class=\"\">\n",
       "        <td class=\"fillremaining\">27.0</td>\n",
       "        <td class=\"number\">1</td>\n",
       "        <td class=\"number\">0.5%</td>\n",
       "        <td>\n",
       "            <div class=\"bar\" style=\"width:34%\">&nbsp;</div>\n",
       "        </td>\n",
       "</tr>\n",
       "</table>\n",
       "        </div>\n",
       "    </div>\n",
       "</div>\n",
       "</div><div class=\"row variablerow\">\n",
       "    <div class=\"col-md-3 namecol\">\n",
       "        <p class=\"h4 pp-anchor\" id=\"pp_var_TV\">TV<br/>\n",
       "            <small>Numeric</small>\n",
       "        </p>\n",
       "    </div><div class=\"col-md-6\">\n",
       "    <div class=\"row\">\n",
       "        <div class=\"col-sm-6\">\n",
       "            <table class=\"stats \">\n",
       "                <tr>\n",
       "                    <th>Distinct count</th>\n",
       "                    <td>190</td>\n",
       "                </tr>\n",
       "                <tr>\n",
       "                    <th>Unique (%)</th>\n",
       "                    <td>95.0%</td>\n",
       "                </tr>\n",
       "                <tr class=\"ignore\">\n",
       "                    <th>Missing (%)</th>\n",
       "                    <td>0.0%</td>\n",
       "                </tr>\n",
       "                <tr class=\"ignore\">\n",
       "                    <th>Missing (n)</th>\n",
       "                    <td>0</td>\n",
       "                </tr>\n",
       "                <tr class=\"ignore\">\n",
       "                    <th>Infinite (%)</th>\n",
       "                    <td>0.0%</td>\n",
       "                </tr>\n",
       "                <tr class=\"ignore\">\n",
       "                    <th>Infinite (n)</th>\n",
       "                    <td>0</td>\n",
       "                </tr>\n",
       "            </table>\n",
       "\n",
       "        </div>\n",
       "        <div class=\"col-sm-6\">\n",
       "            <table class=\"stats \">\n",
       "\n",
       "                <tr>\n",
       "                    <th>Mean</th>\n",
       "                    <td>147.04</td>\n",
       "                </tr>\n",
       "                <tr>\n",
       "                    <th>Minimum</th>\n",
       "                    <td>0.7</td>\n",
       "                </tr>\n",
       "                <tr>\n",
       "                    <th>Maximum</th>\n",
       "                    <td>296.4</td>\n",
       "                </tr>\n",
       "                <tr class=\"ignore\">\n",
       "                    <th>Zeros (%)</th>\n",
       "                    <td>0.0%</td>\n",
       "                </tr>\n",
       "            </table>\n",
       "        </div>\n",
       "    </div>\n",
       "</div>\n",
       "<div class=\"col-md-3 collapse in\" id=\"minihistogram-6582900381625934393\">\n",
       "    <img src=\"data:image/png;base64,iVBORw0KGgoAAAANSUhEUgAAAMgAAABLCAYAAAA1fMjoAAAABHNCSVQICAgIfAhkiAAAAAlwSFlzAAAPYQAAD2EBqD%2BnaQAAADl0RVh0U29mdHdhcmUAbWF0cGxvdGxpYiB2ZXJzaW9uIDMuMC4yLCBodHRwOi8vbWF0cGxvdGxpYi5vcmcvOIA7rQAAAdNJREFUeJzt3E2u0mAYhuG3xCkwJ3QXLsI9OXboflyEu4CwgDYOHEgdKGdy9ImYw1cK1zWkCV8hvXn7k9BN0zRVY8fjsfq%2Bb70sC3c4HGq/3zdd813T1X5br9dV9esDbzabOXaBBRmGofq%2BfzluWpolkK7rqqpqs9m8CuT9xy9Xv9/XTx/eZL%2BexVK/48tx09Kq%2BYqwIAKBQCAQCAQCgUAgEAhmuc3L2/qf27b8GxMEgqedIEt9WEZbJggETztBuM6zTlwTBAIT5Iae9Vf3kZggEJggV/C84fkI5M6I8L44xYLABOFmHuEmhQkCwUNMEOft3IoJAoFAIBAIBAKBQCAQCAQCgUAgEAgEAoFAIBAIBAKBQCAQCAQCgUAgEAgEAoFAIBAIBAKBQCAQCAQCgUAgEAgEAsEs/6w4TVNVVQ3D8Grbj%2B/fWu8Od%2BRPx8Tltctx09IsgYzjWFVVfd/PsTx3bPv579vGcaztdttuZ6qqm2bI8nw%2B1%2Bl0qvV6XV3XtV6ehZmmqcZxrN1uV6tV26uCWQKBpXCRDoFAIBAIBAKBQCAQCAQCgUAgEAgEAoFAIBAIBAKBQCAQCAQCgUAgEAgEAoFAIBAIBAKBQCAQCAQCgUDwE0DHVR2bv/2vAAAAAElFTkSuQmCC\">\n",
       "\n",
       "</div>\n",
       "<div class=\"col-md-12 text-right\">\n",
       "    <a role=\"button\" data-toggle=\"collapse\" data-target=\"#descriptives-6582900381625934393,#minihistogram-6582900381625934393\"\n",
       "       aria-expanded=\"false\" aria-controls=\"collapseExample\">\n",
       "        Toggle details\n",
       "    </a>\n",
       "</div>\n",
       "<div class=\"row collapse col-md-12\" id=\"descriptives-6582900381625934393\">\n",
       "    <ul class=\"nav nav-tabs\" role=\"tablist\">\n",
       "        <li role=\"presentation\" class=\"active\"><a href=\"#quantiles-6582900381625934393\"\n",
       "                                                  aria-controls=\"quantiles-6582900381625934393\" role=\"tab\"\n",
       "                                                  data-toggle=\"tab\">Statistics</a></li>\n",
       "        <li role=\"presentation\"><a href=\"#histogram-6582900381625934393\" aria-controls=\"histogram-6582900381625934393\"\n",
       "                                   role=\"tab\" data-toggle=\"tab\">Histogram</a></li>\n",
       "        <li role=\"presentation\"><a href=\"#common-6582900381625934393\" aria-controls=\"common-6582900381625934393\"\n",
       "                                   role=\"tab\" data-toggle=\"tab\">Common Values</a></li>\n",
       "        <li role=\"presentation\"><a href=\"#extreme-6582900381625934393\" aria-controls=\"extreme-6582900381625934393\"\n",
       "                                   role=\"tab\" data-toggle=\"tab\">Extreme Values</a></li>\n",
       "\n",
       "    </ul>\n",
       "\n",
       "    <div class=\"tab-content\">\n",
       "        <div role=\"tabpanel\" class=\"tab-pane active row\" id=\"quantiles-6582900381625934393\">\n",
       "            <div class=\"col-md-4 col-md-offset-1\">\n",
       "                <p class=\"h4\">Quantile statistics</p>\n",
       "                <table class=\"stats indent\">\n",
       "                    <tr>\n",
       "                        <th>Minimum</th>\n",
       "                        <td>0.7</td>\n",
       "                    </tr>\n",
       "                    <tr>\n",
       "                        <th>5-th percentile</th>\n",
       "                        <td>13.195</td>\n",
       "                    </tr>\n",
       "                    <tr>\n",
       "                        <th>Q1</th>\n",
       "                        <td>74.375</td>\n",
       "                    </tr>\n",
       "                    <tr>\n",
       "                        <th>Median</th>\n",
       "                        <td>149.75</td>\n",
       "                    </tr>\n",
       "                    <tr>\n",
       "                        <th>Q3</th>\n",
       "                        <td>218.82</td>\n",
       "                    </tr>\n",
       "                    <tr>\n",
       "                        <th>95-th percentile</th>\n",
       "                        <td>280.74</td>\n",
       "                    </tr>\n",
       "                    <tr>\n",
       "                        <th>Maximum</th>\n",
       "                        <td>296.4</td>\n",
       "                    </tr>\n",
       "                    <tr>\n",
       "                        <th>Range</th>\n",
       "                        <td>295.7</td>\n",
       "                    </tr>\n",
       "                    <tr>\n",
       "                        <th>Interquartile range</th>\n",
       "                        <td>144.45</td>\n",
       "                    </tr>\n",
       "                </table>\n",
       "            </div>\n",
       "            <div class=\"col-md-4 col-md-offset-2\">\n",
       "                <p class=\"h4\">Descriptive statistics</p>\n",
       "                <table class=\"stats indent\">\n",
       "                    <tr>\n",
       "                        <th>Standard deviation</th>\n",
       "                        <td>85.854</td>\n",
       "                    </tr>\n",
       "                    <tr>\n",
       "                        <th>Coef of variation</th>\n",
       "                        <td>0.58387</td>\n",
       "                    </tr>\n",
       "                    <tr>\n",
       "                        <th>Kurtosis</th>\n",
       "                        <td>-1.2265</td>\n",
       "                    </tr>\n",
       "                    <tr>\n",
       "                        <th>Mean</th>\n",
       "                        <td>147.04</td>\n",
       "                    </tr>\n",
       "                    <tr>\n",
       "                        <th>MAD</th>\n",
       "                        <td>75.105</td>\n",
       "                    </tr>\n",
       "                    <tr class=\"\">\n",
       "                        <th>Skewness</th>\n",
       "                        <td>-0.069853</td>\n",
       "                    </tr>\n",
       "                    <tr>\n",
       "                        <th>Sum</th>\n",
       "                        <td>29408</td>\n",
       "                    </tr>\n",
       "                    <tr>\n",
       "                        <th>Variance</th>\n",
       "                        <td>7370.9</td>\n",
       "                    </tr>\n",
       "                    <tr>\n",
       "                        <th>Memory size</th>\n",
       "                        <td>1.6 KiB</td>\n",
       "                    </tr>\n",
       "                </table>\n",
       "            </div>\n",
       "        </div>\n",
       "        <div role=\"tabpanel\" class=\"tab-pane col-md-8 col-md-offset-2\" id=\"histogram-6582900381625934393\">\n",
       "            <img src=\"data:image/png;base64,iVBORw0KGgoAAAANSUhEUgAAAlgAAAGQCAYAAAByNR6YAAAABHNCSVQICAgIfAhkiAAAAAlwSFlzAAAPYQAAD2EBqD%2BnaQAAADl0RVh0U29mdHdhcmUAbWF0cGxvdGxpYiB2ZXJzaW9uIDMuMC4yLCBodHRwOi8vbWF0cGxvdGxpYi5vcmcvOIA7rQAAIABJREFUeJzt3XtwVOX9x/HPAsmCmKzEEDYxMZNS8EKQkUslCBhRA1HwgloRpMFqKhZiMVAqMtowbQlDFW8I9Yp4a9BRkI4UDQoBBlAJIBetjRK5SMKtkIQIy%2B35/cGPrWsCSdsnOTnZ92vmzHDOefbku9%2BeNZ8%2B52SPxxhjBAAAAGtaOF0AAABAc0PAAgAAsIyABQAAYBkBCwAAwDICFgAAgGUELAAAAMsIWAAAAJYRsAAAACwjYAEAAFhGwAIAALCMgAUAAGAZAQsAAMAyAhYAAIBlBCwAAADLCFgAAACWEbAAAAAsI2ABAABYRsACAACwjIAFAABgGQELAADAMgIWAACAZQQsAAAAywhYAAAAlhGwAAAALCNgAQAAWEbAAgAAsIyABQAAYBkBCwAAwDICFgAAgGUELAAAAMsIWAAAAJYRsAAAACwjYAEAAFhGwAIAALCMgAUAAGAZAQsAAMAyAhYAAIBlBCwAAADLWjldQDg4efKkdu3apaioKHk8HqfLAQAgLBhjVFVVpYSEBLVo0bhzSgSsRrBr1y4lJSU5XQYAAGFpx44dSkxMbNSfScBqBFFRUZJO/Q8cHR3tcDUAAISHyspKJSUlBX8PNyYCViM4fVkwOjqagAUAQCNz4vYcbnIHAACwjIAFAABgGQELAADAMgIWAACAZQQsAAAAywhYAAAAlhGwAAAALCNgAQAAWEbAAgAAsIyABQAAYBkBCwAAwDICFgAAgGU87Nnlek5e7HQJ9bb2T4OcLgFAE%2BOm/4ZJ/HcM9ccMFgAAgGUELAAAAMsIWAAAAJYRsAAAACwjYAEAAFhGwAIAALAs7ANWfn6%2BevXqpaioKMXFxenmm2/WV199FTImPT1dHo8nZBk2bJhDFQMAgKYu7ANWUVGRxowZozVr1qiwsFDHjx9XRkaGqqurQ8ZlZ2errKwsuDz33HMOVQwAAJq6sP%2Bi0cWLQ7/kbs6cOYqLi1NxcbH69%2B8f3H7OOefI7/c3dnkAAMCFwn4G68cqKiokSTExMSHb33jjDcXGxqpLly6aMGGCqqqqnCgPAAC4QNjPYP2QMUa5ubnq27evUlNTg9tHjBihlJQU%2Bf1%2Bbd68WZMmTdLnn3%2BuwsLCWo8TCAQUCASC65WVlQ1eOwAAaDoIWD8wduxYbdy4UStXrgzZnp2dHfx3amqqOnXqpJ49e2rdunXq3r17jePk5%2BdrypQpDV4vAABomrhE%2BP9ycnK0cOFCLV26VImJiWcd2717d0VERKikpKTW/ZMmTVJFRUVw2bFjR0OUDAAAmqiwn8EyxignJ0fz58/XsmXLlJKSUudrtmzZomPHjik%2BPr7W/V6vV16v13apAADAJcI%2BYI0ZM0Zvvvmm3nvvPUVFRam8vFyS5PP51KZNG33zzTd64403dP311ys2NlZffPGFxo8fr8svv1xXXnmlw9UDAICmKOwvEc6ePVsVFRVKT09XfHx8cJk3b54kKTIyUh999JEGDhyoiy66SA888IAyMjK0ZMkStWzZ0uHqAQBAUxT2M1jGmLPuT0pKUlFRUSNVAwAAmoOwn8ECAACwjYAFAABgGQELAADAMgIWAACAZQQsAAAAywhYAAAAlhGwAAAALCNgAQAAWEbAAgAAsIyABQAAYBkBCwAAwDICFgAAgGUELAAAAMsIWAAAAJYRsAAAACwjYAEAAFhGwAIAALCMgAUAAGAZAQsAAMAyAhYAAIBlBCwAAADLCFgAAACWEbAAAAAsI2ABAABYRsACAACwjIAFAABgGQELAADAMgIWAACAZQQsAAAAy1o5XQAAwK6ekxc7XQIQ9pjBAgAAsIyABQAAYBkBCwAAwDICFgAAgGUELAAAAMsIWAAAAJYRsAAAACwjYAEAAFhGwAIAALCMgAUAAGAZAQsAAMAynkUInIHbnue29k%2BDnC4BAPD/mMECAACwjIAFAABgGQELAADAMgIWAACAZQQsAAAAywhYAAAAloV9wMrPz1evXr0UFRWluLg43Xzzzfrqq69CxgQCAeXk5Cg2NlZt27bVjTfeqJ07dzpUMQAAaOrCPmAVFRVpzJgxWrNmjQoLC3X8%2BHFlZGSouro6OGbcuHGaP3%2B%2BCgoKtHLlSh06dEiDBw/WiRMnHKwcAAA0VWH/RaOLF4d%2BmeScOXMUFxen4uJi9e/fXxUVFXrppZf02muv6dprr5Ukvf7660pKStKSJUs0cOBAJ8oGAABNWNjPYP1YRUWFJCkmJkaSVFxcrGPHjikjIyM4JiEhQampqVq1apUjNQIAgKYt7GewfsgYo9zcXPXt21epqamSpPLyckVGRqpdu3YhYzt06KDy8vJajxMIBBQIBILrlZWVDVc0AABocghYPzB27Fht3LhRK1eurHOsMUYej6fWffn5%2BZoyZYrt8gAADuMZpagvLhH%2Bv5ycHC1cuFBLly5VYmJicLvf79fRo0d14MCBkPF79uxRhw4daj3WpEmTVFFREVx27NjRoLUDAICmJewDljFGY8eO1bvvvquPP/5YKSkpIft79OihiIgIFRYWBreVlZVp8%2BbN6tOnT63H9Hq9io6ODlkAAED4CPtLhGPGjNGbb76p9957T1FRUcH7qnw%2Bn9q0aSOfz6d77rlH48eP1/nnn6%2BYmBhNmDBBXbt2Df5VIQAAwA%2BFfcCaPXu2JCk9PT1k%2B5w5czRq1ChJ0hNPPKFWrVrp5z//uQ4fPqxrrrlGr7zyilq2bNnI1QIAADcI%2B4BljKlzTOvWrfXMM8/omWeeaYSKAACA24X9PVgAAAC2EbAAAAAsI2ABAABYRsACAACwjIAFAABgWdj/FSGAxsfjRgA0d8xgAQAAWEbAAgAAsIyABQAAYBkBCwAAwDICFgAAgGUELAAAAMsIWAAAAJYRsAAAACwjYAEAAFhGwAIAALCMgAUAAGAZzyIEmgm3Pd8PAJozZrAAAAAsI2ABAABYRsACAACwjIAFAABgGQELAADAMgIWAACAZQQsAAAAywhYAAAAlhGwAAAALCNgAQAAWEbAAgAAsIxnEQJAHXjOI4D/FDNYAAAAlhGwAAAALCNgAQAAWEbAAgAAsMy1Aev111/XkSNHnC4DAACgBtcGrNzcXPn9ft1333369NNPnS4HAAAgyLUBa9euXXr55ZdVVlamvn37qkuXLnr88ce1d%2B9ep0sDAABhzrUBq1WrVho6dKgWLlyo7du3KysrSy%2B//LISExM1dOhQvf/%2B%2BzLGOF0mAAAIQ64NWD/k9/t1zTXXKD09XR6PR2vXrtXw4cPVqVMnrVixwunyAABAmHF1wNq3b5%2BefPJJdevWTVdeeaX27NmjBQsWaNu2bfruu%2B80ePBg/eIXv3C6TAAAEGZc%2B6icW265RYsWLVJKSoruvfdeZWVlqX379sH95557riZOnKinn37awSoBAHCOmx7ztPZPg5wuwSrXBqzo6GgtWbJE/fr1O%2BOY%2BPh4lZSUNGJVAAAALg5Yc%2BfOrXOMx%2BNRx44dG6EaAACAf3PtPVgPPvigZs6cWWP7s88%2Bq/HjxztQEQAAwCmuDVhvv/22evfuXWN7Wlqa5s2b50BFAAAAp7g2YO3bt0/t2rWrsT06Olr79u1zoCIAAIBTXBuwOnbsqA8%2B%2BKDG9g8%2B%2BEApKSkOVAQAAHCKa29yHzdunMaNG6f9%2B/drwIABkqSPPvpI06dP12OPPeZwdQAAIJy5dgYrOztb06ZN06xZs9SvXz/169dPL774op5%2B%2BmmNHj263sdZvny5hgwZooSEBHk8Hi1YsCBk/6hRo%2BTxeEKW2u79AgAAOM21M1iSlJOTo5ycHJWVlalNmzY677zz/uNjVFdXq1u3brr77rt166231jpm0KBBmjNnTnA9MjLyv64ZAAA0f64OWKfFx8f/16/NzMxUZmbmWcd4vV75/f7/%2BmcAAIDw4tpLhHv37tXdd9%2BtCy%2B8UK1bt1ZkZGTIYtOyZcsUFxenzp07Kzs7W3v27Dnr%2BEAgoMrKypAFAACED9fOYI0aNUrffPONfvvb3yo%2BPl4ej6dBfk5mZqZuv/12JScnq7S0VI888ogGDBig4uJieb3eWl%2BTn5%2BvKVOmNEg9buamZ2IBAPC/8BhjjNNF/DeioqK0fPlyXX755daO6fF4NH/%2BfN18881nHFNWVqbk5GQVFBRo6NChtY4JBAIKBALB9crKSiUlJamiokLR0dHW6pUILQCA5qEhHvZcWVkpn8/XIL9/6%2BLaGazExMQGm7U6m/j4eCUnJ5/1IdJer/eMs1sAAKD5c%2B09WE888YQmTZqknTt3NurP3b9/v3bs2PE/3VgPAACaN9fOYI0cOVJVVVVKTk5WdHS0IiIiQvbXdSP6aYcOHdLXX38dXC8tLdWGDRsUExOjmJgY5eXl6dZbb1V8fLy%2B/fZbPfzww4qNjdUtt9xi9f0AAIDmw7UBa9q0aVaOs3btWl199dXB9dzcXElSVlaWZs%2BerU2bNunVV1/VwYMHFR8fr6uvvlrz5s1TVFSUlZ8PAACaH9cGrHvuucfKcdLT03W2%2B/xre94hAADA2bj2HixJ%2Bvbbb5WXl6eRI0cGLwl%2B%2BOGH%2BvLLLx2uDAAAhDPXBqwVK1aoS5cuKioq0ltvvaVDhw5JktatW6dHH33U4eoAAEA4c23A%2Bt3vfqe8vDwtXbo05JvbBwwYoDVr1jhYGQAACHeuDVgbN27UbbfdVmN7XFyc9u7d60BFAAAAp7g2YJ133nkqLy%2BvsX3Dhg264IILHKgIAADgFNcGrGHDhumhhx7S3r17g9/o/sknn2jChAm66667HK4OAACEM9cGrKlTp8rv9ys%2BPl6HDh3SpZdeqj59%2BqhXr1565JFHnC4PAACEMdd%2BD1ZkZKTmzZunf/7zn1q3bp1Onjyp7t276%2BKLL3a6NAAAEOZcG7BO69y5szp37ux0GQAAAEGuDVi/%2BtWvzrr/%2Beefb6RKAAAAQrk2YJWVlYWsHzt2TFu2bFFVVZX69%2B/vUFUAAAAuDlh/%2B9vfamw7fvy47r//fl1yySUOVAQAAHCKa/%2BKsDatWrXShAkT9Oc//9npUgAAQBhrVgFLkrZu3apjx445XQYAAAhjrr1EOHHixJB1Y4zKysq0cOFCjRgxwqGqAAAAXBywVq9eHbLeokULtW/fXtOmTVN2drZDVQEAALg4YK1YscLpEgAAAGrV7O7BAgAAcJprZ7B69eoVfMhzXT799NMGrgYAAODfXBuwrr76aj333HPq3Lmz0tLSJElr1qzRV199pfvuu09er9fhCgEAQLhybcA6ePCgxowZo6lTp4Zsnzx5snbv3q0XX3zRocoAAEC4c%2B09WG%2B99ZbuvvvuGttHjRqlt99%2B24GKAAAATnFtwPJ6vVq1alWN7atWreLyIAAAcJRrLxE%2B8MADGj16tNavX6/evXtLOnUP1gsvvKCHH37Y4eoAAEA4c23Amjx5slJSUvTUU0/p5ZdfliRdcskleuGFFzR8%2BHCHqwMAAOHMtQFLkoYPH06YAgAATY5r78GSpMrKSr3yyit69NFHdeDAAUnS559/rrKyMocrAwAA4cy1M1ibN2/Wtddeq3POOUc7duzQqFGj1K5dO7311lvauXOn5s6d63SJAAAgTLl2BuvBBx/U8OHD9c0336h169bB7TfccIOWL1/uYGUAACDcuXYG67PPPtPs2bNrPC7nggsu4BIhAABwlGtnsCIjI3Xo0KEa20tKShQbG%2BtARQAAAKe4NmDdeOON%2BsMf/qDjx49Lkjwej7777js99NBDGjp0qMPVAQCAcObagPX4449r165d8vv9Onz4sAYMGKCf/OQnat26dY3nEwIAADQm196D5fP5tGrVKhUWFmrdunU6efKkunfvroEDB9a4LwsAAKAxuTJgHTt2TNdff71mzZqljIwMZWRkOF0SAABAkCsvEUZERGj9%2BvXMVAEAgCbJlQFLku666y7NmTPH6TIAAABqcOUlwtNmzpypJUuWqGfPnmrbtm3IvunTpztUFQAACHeuDVjFxcW67LLLJEkbN24M2celQwAA4CTXBaytW7cqJSVFK1ascLoUAACAWrnuHqxOnTpp7969wfU77rhDu3fvdrAiAACAUK4LWMaYkPVFixapurraoWoAAABqcl3AAgAAaOpcF7A8Hk%2BNm9i5qR0AADQlrrvJ3RijUaNGyev1SpKOHDmi0aNH1/iahnfffdeJ8gAAANwXsLKyskLW77rrLocqAQAAqJ3rAhbf3g4AAJo6192DZdvy5cs1ZMgQJSQkyOPxaMGCBSH7jTHKy8tTQkKC2rRpo/T0dG3ZssWhagEAgBuEfcCqrq5Wt27dNHPmzFr3T58%2BXTNmzNDMmTP12Wefye/367rrrlNVVVUjVwoAANzCdZcIbcvMzFRmZmat%2B4wxevLJJzV58mQNHTpUkjR37lx16NBBb775pu67777GLBUAALhE2M9gnU1paanKy8uVkZER3Ob1enXVVVdp1apVDlYGAACasrCfwTqb8vJySVKHDh1Ctnfo0EHbtm074%2BsCgYACgUBwvbKysmEKBAAATRIzWPXw4y8yNcac9ctN8/Pz5fP5gktSUlJDlwgAAJoQAtZZ%2BP1%2BSf%2BeyTptz549NWa1fmjSpEmqqKgILjt27GjQOgEAQNNCwDqLlJQU%2Bf1%2BFRYWBrcdPXpURUVF6tOnzxlf5/V6FR0dHbIAAIDwEfb3YB06dEhff/11cL20tFQbNmxQTEyMLrzwQo0bN05Tp05Vp06d1KlTJ02dOlXnnHOOhg8f7mDVAACgKQv7gLV27VpdffXVwfXc3FxJpx7J88orr2jixIk6fPiwfv3rX%2BvAgQO64oor9OGHHyoqKsqpkgEAQBPnMcYYp4to7iorK%2BXz%2BVRRUWH9cmHPyYutHg8AACes/dMg68dsyN%2B/deEeLAAAAMsIWAAAAJYRsAAAACwjYAEAAFhGwAIAALCMgAUAAGAZAQsAAMAyAhYAAIBlBCwAAADLCFgAAACWEbAAAAAsI2ABAABYRsACAACwjIAFAABgGQELAADAMgIWAACAZQQsAAAAywhYAAAAlhGwAAAALCNgAQAAWEbAAgAAsIyABQAAYBkBCwAAwDICFgAAgGUELAAAAMsIWAAAAJYRsAAAACwjYAEAAFhGwAIAALCMgAUAAGAZAQsAAMAyAhYAAIBlBCwAAADLCFgAAACWEbAAAAAsI2ABAABYRsACAACwjIAFAABgGQELAADAMgIWAACAZQQsAAAAywhYAAAAlhGwAAAALCNgAQAAWEbAAgAAsIyABQAAYBkBCwAAwDICFgAAgGUErDrk5eXJ4/GELH6/3%2BmyAABAE9bK6QLcoEuXLlqyZElwvWXLlg5WAwAAmjoCVj20atWKWSsAAFBvXCKsh5KSEiUkJCglJUXDhg3T1q1bzzo%2BEAiosrIyZAEAAOGDgFWHK664Qq%2B%2B%2Bqo%2B%2BOADvfDCCyovL1efPn20f//%2BM74mPz9fPp8vuCQlJTVixQAAwGkeY4xxugg3qa6uVseOHTVx4kTl5ubWOiYQCCgQCATXKysrlZSUpIqKCkVHR1utp%2BfkxVaPBwCAE9b%2BaZD1Y1ZWVsrn8zXI79%2B6cA/Wf6ht27bq2rWrSkpKzjjG6/XK6/U2YlUAAKAp4RLhfygQCOjLL79UfHy806UAAIAmioBVhwkTJqioqEilpaX65JNPdNttt6myslJZWVlOlwYAAJooLhHWYefOnbrzzju1b98%2BtW/fXr1799aaNWuUnJzsdGkAAKCJImDVoaCgwOkSAACAy3CJEAAAwDICFgAAgGUELAAAAMsIWAAAAJYRsAAAACwjYAEAAFhGwAIAALCMgAUAAGAZAQsAAMAyAhYAAIBlBCwAAADLCFgAAACWEbAAAAAsI2ABAABYRsACAACwjIAFAABgGQELAADAMgIWAACAZQQsAAAAywhYAAAAlhGwAAAALCNgAQAAWEbAAgAAsIyABQAAYBkBCwAAwDICFgAAgGUELAAAAMsIWAAAAJYRsAAAACwjYAEAAFhGwAIAALCMgAUAAGAZAQsAAMAyAhYAAIBlBCwAAADLCFgAAACWEbAAAAAsI2ABAABYRsACAACwjIAFAABgGQELAADAMgIWAACAZQQsAAAAywhYAAAAlhGwAAAALCNgAQAAWEbAAgAAsIyABQAAYBkBq55mzZqllJQUtW7dWj169NCKFSucLgkAADRRBKx6mDdvnsaNG6fJkydr/fr16tevnzIzM7V9%2B3anSwMAAE0QAaseZsyYoXvuuUf33nuvLrnkEj355JNKSkrS7NmznS4NAAA0Qa2cLqCpO3r0qIqLi/XQQw%2BFbM/IyNCqVatqfU0gEFAgEAiuV1RUSJIqKyut13ciUG39mAAANLaG%2BB15%2BpjGGOvHrgsBqw779u3TiRMn1KFDh5DtHTp0UHl5ea2vyc/P15QpU2psT0pKapAaAQBwO9/jDXfsqqoq%2BXy%2BhvsBtSBg1ZPH4wlZN8bU2HbapEmTlJubG1w/efKk/vWvf%2Bn8888/42v%2BU5WVlUpKStKOHTsUHR1t5ZjNEX2qGz2qH/pUP/SpfuhT3Wz0yBijqqoqJSQkWK6ubgSsOsTGxqply5Y1Zqv27NlTY1brNK/XK6/XG7LtvPPOa5D6oqOj%2BXDWA32qGz2qH/pUP/SpfuhT3f7XHjX2zNVp3OReh8jISPXo0UOFhYUh2wsLC9WnTx%2BHqgIAAE0ZM1j1kJubq5EjR6pnz55KS0vT888/r%2B3bt2v06NFOlwYAAJqglnl5eXlOF9HUpaam6vzzz9fUqVP12GOP6fDhw3rttdfUrVs3R%2Btq2bKl0tPT1aoVOfls6FPd6FH90Kf6oU/1Q5/q5uYeeYwTf7sIAADQjHEPFgAAgGUELAAAAMsIWAAAAJYRsAAAACwjYLnQrFmzlJKSotatW6tHjx5asWKF0yU5Ki8vTx6PJ2Tx%2B/3B/cYY5eXlKSEhQW3atFF6erq2bNniYMWNY/ny5RoyZIgSEhLk8Xi0YMGCkP316cuBAwc0cuRI%2BXw%2B%2BXw%2BjRw5UgcPHmzMt9Gg6urRqFGjapxbvXv3DhkTCASUk5Oj2NhYtW3bVjfeeKN27tzZmG%2BjweXn56tXr16KiopSXFycbr75Zn311VchY%2BrTh%2B3bt2vIkCFq27atYmNj9cADD%2Bjo0aON%2BVYaVH36lJ6eXuOcGjZsWMiY5vy5mz17ti677LLgl4empaXp73//e3B/czqPCFguM2/ePI0bN06TJ0/W%2BvXr1a9fP2VmZmr79u1Ol%2BaoLl26qKysLLhs2rQpuG/69OmaMWOGZs6cqc8%2B%2B0x%2Bv1/XXXedqqqqHKy44VVXV6tbt26aOXNmrfvr05fhw4drw4YNWrx4sRYvXqwNGzZo5MiRjfUWGlxdPZKkQYMGhZxbixYtCtk/btw4zZ8/XwUFBVq5cqUOHTqkwYMH68SJEw1dfqMpKirSmDFjtGbNGhUWFur48ePKyMhQdfW/HzZfVx9OnDihG264QdXV1Vq5cqUKCgr0zjvvaPz48U69Levq0ydJys7ODjmnnnvuuZD9zflzl5iYqGnTpmnt2rVau3atBgwYoJtuuin4f%2B6a1Xlk4Co/%2B9nPzOjRo0O2XXzxxeahhx5yqCLn/f73vzfdunWrdd/JkyeN3%2B8306ZNC247cuSI8fl85i9/%2BUtjleg4SWb%2B/PnB9fr05YsvvjCSzJo1a4JjVq9ebSSZf/zjH41XfCP5cY%2BMMSYrK8vcdNNNZ3zNwYMHTUREhCkoKAhu%2B%2B6770yLFi3M4sWLG6xWp%2B3Zs8dIMkVFRcaY%2BvVh0aJFpkWLFua7774LjvnrX/9qvF6vqaioaNw30Eh%2B3CdjjLnqqqvMb37zmzO%2BJtw%2Bd8YY065dO/Piiy82u/OIGSwXOXr0qIqLi5WRkRGyPSMjQ6tWrXKoqqahpKRECQkJSklJ0bBhw7R161ZJUmlpqcrLy0N65vV6ddVVV4V1z%2BrTl9WrV8vn8%2BmKK64Ijundu7d8Pl9Y9W7ZsmWKi4tT586dlZ2drT179gT3FRcX69ixYyF9TEhIUGpqarPuUUVFhSQpJiZGUv36sHr1aqWmpoY8dHfgwIEKBAIqLi5uxOobz4/7dNobb7yh2NhYdenSRRMmTAiZNQ6nz92JEydUUFCg6upqpaWlNbvzyH1fjRrG9u3bpxMnTtR4yHSHDh1qPIw6nFxxxRV69dVX1blzZ%2B3evVt//OMf1adPH23ZsiXYl9p6tm3bNifKbRLq05fy8nLFxcXVeG1cXFzYnG%2BZmZm6/fbblZycrNLSUj3yyCMaMGCAiouL5fV6VV5ersjISLVr1y7kdc35M2mMUW5urvr27avU1FRJqlcfysvLa5xv7dq1U2RkZLPsVW19kqQRI0YoJSVFfr9fmzdv1qRJk/T5558Hn3cbDp%2B7TZs2KS0tTUeOHNG5556r%2BfPn69JLL9WGDRua1XlEwHIhj8cTsm6MqbEtnGRmZgb/3bVrV6Wlpaljx46aO3du8IZkela7uvpSW4/CqXd33HFH8N%2Bpqanq2bOnkpOT9f7772vo0KFnfF1z7tHYsWO1ceNGrVy5ss6x4Xw%2BnalP2dnZwX%2BnpqaqU6dO6tmzp9atW6fu3btLav59uuiii7RhwwYdPHhQ77zzjrKyslRUVHTG8W49j7hE6CKxsbFq2bJljZS%2BZ8%2BeGok%2BnLVt21Zdu3ZVSUlJ8K8J6Vmo%2BvTF7/dr9%2B7dNV67d%2B/esO1dfHy8kpOTVVJSIulUj44ePaoDBw6EjGuu51dOTo4WLlyopUuXKjExMbi9Pn3w%2B/01zrcDBw7o2LFjza5XZ%2BpTbbp3766IiIiQc6q5f%2B4iIyP105/%2BVD179lR%2Bfr66deump556qtmdRwQsF4mMjFSPHj2CU8mnFRYWqk%2BfPg5V1fQEAgF9%2BeWXio%2BPD07F/7BnR48eVVFRUVj3rD59SUtLU0VFhT799NPgmE8%2B%2BUQVFRVh27v9%2B/fJN8/lAAADSUlEQVRrx44dio%2BPlyT16NFDERERIX0sKyvT5s2bm1WPjDEaO3as3n33XX388cdKSUkJ2V%2BfPqSlpWnz5s0qKysLjvnwww/l9XrVo0ePxnkjDayuPtVmy5YtOnbsWPCcCsfPnTFGgUCg%2BZ1HDtxYj/9BQUGBiYiIMC%2B99JL54osvzLhx40zbtm3Nt99%2B63Rpjhk/frxZtmyZ2bp1q1mzZo0ZPHiwiYqKCvZk2rRpxufzmXfffdds2rTJ3HnnnSY%2BPt5UVlY6XHnDqqqqMuvXrzfr1683ksyMGTPM%2BvXrzbZt24wx9evLoEGDzGWXXWZWr15tVq9ebbp27WoGDx7s1Fuy7mw9qqqqMuPHjzerVq0ypaWlZunSpSYtLc1ccMEFIT0aPXq0SUxMNEuWLDHr1q0zAwYMMN26dTPHjx938J3Zdf/99xufz2eWLVtmysrKgsv3338fHFNXH44fP25SU1PNNddcY9atW2eWLFliEhMTzdixY516W9bV1aevv/7aTJkyxXz22WemtLTUvP/%2B%2B%2Bbiiy82l19%2Becj50pw/d5MmTTLLly83paWlZuPGjebhhx82LVq0MB9%2B%2BKExpnmdRwQsF3r22WdNcnKyiYyMNN27dw/5E%2BBwdMcdd5j4%2BHgTERFhEhISzNChQ82WLVuC%2B0%2BePGl%2B//vfG7/fb7xer%2Bnfv7/ZtGmTgxU3jqVLlxpJNZasrCxjTP36sn//fjNixAgTFRVloqKizIgRI8yBAwcceDcN42w9%2Bv77701GRoZp3769iYiIMBdeeKHJysoy27dvDznG4cOHzdixY01MTIxp06aNGTx4cI0xbldbjySZOXPmBMfUpw/btm0zN9xwg2nTpo2JiYkxY8eONUeOHGnkd9Nw6urT9u3bTf/%2B/U1MTIyJjIw0HTt2NA888IDZv39/yHGa8%2Bful7/8ZfD3V/v27c0111wTDFfGNK/zyGOMMY03XwYAAND8cQ8WAACAZQQsAAAAywhYAAAAlhGwAAAALCNgAQAAWEbAAgAAsIyABQAAYBkBCwAAwDICFgAAgGUELAAAAMsIWAAAAJYRsAAAACwjYAEAAFhGwAIAALCMgAUAAGAZAQsAAMAyAhYAAIBlBCwAAADL/g9mOjYUBqqeGQAAAABJRU5ErkJggg%3D%3D\"/>\n",
       "        </div>\n",
       "        <div role=\"tabpanel\" class=\"tab-pane col-md-12\" id=\"common-6582900381625934393\">\n",
       "            \n",
       "<table class=\"freq table table-hover\">\n",
       "    <thead>\n",
       "    <tr>\n",
       "        <td class=\"fillremaining\">Value</td>\n",
       "        <td class=\"number\">Count</td>\n",
       "        <td class=\"number\">Frequency (%)</td>\n",
       "        <td style=\"min-width:200px\">&nbsp;</td>\n",
       "    </tr>\n",
       "    </thead>\n",
       "    <tr class=\"\">\n",
       "        <td class=\"fillremaining\">197.6</td>\n",
       "        <td class=\"number\">2</td>\n",
       "        <td class=\"number\">1.0%</td>\n",
       "        <td>\n",
       "            <div class=\"bar\" style=\"width:2%\">&nbsp;</div>\n",
       "        </td>\n",
       "</tr><tr class=\"\">\n",
       "        <td class=\"fillremaining\">237.4</td>\n",
       "        <td class=\"number\">2</td>\n",
       "        <td class=\"number\">1.0%</td>\n",
       "        <td>\n",
       "            <div class=\"bar\" style=\"width:2%\">&nbsp;</div>\n",
       "        </td>\n",
       "</tr><tr class=\"\">\n",
       "        <td class=\"fillremaining\">177.0</td>\n",
       "        <td class=\"number\">2</td>\n",
       "        <td class=\"number\">1.0%</td>\n",
       "        <td>\n",
       "            <div class=\"bar\" style=\"width:2%\">&nbsp;</div>\n",
       "        </td>\n",
       "</tr><tr class=\"\">\n",
       "        <td class=\"fillremaining\">76.4</td>\n",
       "        <td class=\"number\">2</td>\n",
       "        <td class=\"number\">1.0%</td>\n",
       "        <td>\n",
       "            <div class=\"bar\" style=\"width:2%\">&nbsp;</div>\n",
       "        </td>\n",
       "</tr><tr class=\"\">\n",
       "        <td class=\"fillremaining\">222.4</td>\n",
       "        <td class=\"number\">2</td>\n",
       "        <td class=\"number\">1.0%</td>\n",
       "        <td>\n",
       "            <div class=\"bar\" style=\"width:2%\">&nbsp;</div>\n",
       "        </td>\n",
       "</tr><tr class=\"\">\n",
       "        <td class=\"fillremaining\">17.2</td>\n",
       "        <td class=\"number\">2</td>\n",
       "        <td class=\"number\">1.0%</td>\n",
       "        <td>\n",
       "            <div class=\"bar\" style=\"width:2%\">&nbsp;</div>\n",
       "        </td>\n",
       "</tr><tr class=\"\">\n",
       "        <td class=\"fillremaining\">240.1</td>\n",
       "        <td class=\"number\">2</td>\n",
       "        <td class=\"number\">1.0%</td>\n",
       "        <td>\n",
       "            <div class=\"bar\" style=\"width:2%\">&nbsp;</div>\n",
       "        </td>\n",
       "</tr><tr class=\"\">\n",
       "        <td class=\"fillremaining\">184.9</td>\n",
       "        <td class=\"number\">2</td>\n",
       "        <td class=\"number\">1.0%</td>\n",
       "        <td>\n",
       "            <div class=\"bar\" style=\"width:2%\">&nbsp;</div>\n",
       "        </td>\n",
       "</tr><tr class=\"\">\n",
       "        <td class=\"fillremaining\">109.8</td>\n",
       "        <td class=\"number\">2</td>\n",
       "        <td class=\"number\">1.0%</td>\n",
       "        <td>\n",
       "            <div class=\"bar\" style=\"width:2%\">&nbsp;</div>\n",
       "        </td>\n",
       "</tr><tr class=\"\">\n",
       "        <td class=\"fillremaining\">199.8</td>\n",
       "        <td class=\"number\">2</td>\n",
       "        <td class=\"number\">1.0%</td>\n",
       "        <td>\n",
       "            <div class=\"bar\" style=\"width:2%\">&nbsp;</div>\n",
       "        </td>\n",
       "</tr><tr class=\"other\">\n",
       "        <td class=\"fillremaining\">Other values (180)</td>\n",
       "        <td class=\"number\">180</td>\n",
       "        <td class=\"number\">90.0%</td>\n",
       "        <td>\n",
       "            <div class=\"bar\" style=\"width:100%\">&nbsp;</div>\n",
       "        </td>\n",
       "</tr>\n",
       "</table>\n",
       "        </div>\n",
       "        <div role=\"tabpanel\" class=\"tab-pane col-md-12\"  id=\"extreme-6582900381625934393\">\n",
       "            <p class=\"h4\">Minimum 5 values</p>\n",
       "            \n",
       "<table class=\"freq table table-hover\">\n",
       "    <thead>\n",
       "    <tr>\n",
       "        <td class=\"fillremaining\">Value</td>\n",
       "        <td class=\"number\">Count</td>\n",
       "        <td class=\"number\">Frequency (%)</td>\n",
       "        <td style=\"min-width:200px\">&nbsp;</td>\n",
       "    </tr>\n",
       "    </thead>\n",
       "    <tr class=\"\">\n",
       "        <td class=\"fillremaining\">0.7</td>\n",
       "        <td class=\"number\">1</td>\n",
       "        <td class=\"number\">0.5%</td>\n",
       "        <td>\n",
       "            <div class=\"bar\" style=\"width:100%\">&nbsp;</div>\n",
       "        </td>\n",
       "</tr><tr class=\"\">\n",
       "        <td class=\"fillremaining\">4.1</td>\n",
       "        <td class=\"number\">1</td>\n",
       "        <td class=\"number\">0.5%</td>\n",
       "        <td>\n",
       "            <div class=\"bar\" style=\"width:100%\">&nbsp;</div>\n",
       "        </td>\n",
       "</tr><tr class=\"\">\n",
       "        <td class=\"fillremaining\">5.4</td>\n",
       "        <td class=\"number\">1</td>\n",
       "        <td class=\"number\">0.5%</td>\n",
       "        <td>\n",
       "            <div class=\"bar\" style=\"width:100%\">&nbsp;</div>\n",
       "        </td>\n",
       "</tr><tr class=\"\">\n",
       "        <td class=\"fillremaining\">7.3</td>\n",
       "        <td class=\"number\">1</td>\n",
       "        <td class=\"number\">0.5%</td>\n",
       "        <td>\n",
       "            <div class=\"bar\" style=\"width:100%\">&nbsp;</div>\n",
       "        </td>\n",
       "</tr><tr class=\"\">\n",
       "        <td class=\"fillremaining\">7.8</td>\n",
       "        <td class=\"number\">1</td>\n",
       "        <td class=\"number\">0.5%</td>\n",
       "        <td>\n",
       "            <div class=\"bar\" style=\"width:100%\">&nbsp;</div>\n",
       "        </td>\n",
       "</tr>\n",
       "</table>\n",
       "            <p class=\"h4\">Maximum 5 values</p>\n",
       "            \n",
       "<table class=\"freq table table-hover\">\n",
       "    <thead>\n",
       "    <tr>\n",
       "        <td class=\"fillremaining\">Value</td>\n",
       "        <td class=\"number\">Count</td>\n",
       "        <td class=\"number\">Frequency (%)</td>\n",
       "        <td style=\"min-width:200px\">&nbsp;</td>\n",
       "    </tr>\n",
       "    </thead>\n",
       "    <tr class=\"\">\n",
       "        <td class=\"fillremaining\">289.7</td>\n",
       "        <td class=\"number\">1</td>\n",
       "        <td class=\"number\">0.5%</td>\n",
       "        <td>\n",
       "            <div class=\"bar\" style=\"width:100%\">&nbsp;</div>\n",
       "        </td>\n",
       "</tr><tr class=\"\">\n",
       "        <td class=\"fillremaining\">290.7</td>\n",
       "        <td class=\"number\">1</td>\n",
       "        <td class=\"number\">0.5%</td>\n",
       "        <td>\n",
       "            <div class=\"bar\" style=\"width:100%\">&nbsp;</div>\n",
       "        </td>\n",
       "</tr><tr class=\"\">\n",
       "        <td class=\"fillremaining\">292.9</td>\n",
       "        <td class=\"number\">1</td>\n",
       "        <td class=\"number\">0.5%</td>\n",
       "        <td>\n",
       "            <div class=\"bar\" style=\"width:100%\">&nbsp;</div>\n",
       "        </td>\n",
       "</tr><tr class=\"\">\n",
       "        <td class=\"fillremaining\">293.6</td>\n",
       "        <td class=\"number\">1</td>\n",
       "        <td class=\"number\">0.5%</td>\n",
       "        <td>\n",
       "            <div class=\"bar\" style=\"width:100%\">&nbsp;</div>\n",
       "        </td>\n",
       "</tr><tr class=\"\">\n",
       "        <td class=\"fillremaining\">296.4</td>\n",
       "        <td class=\"number\">1</td>\n",
       "        <td class=\"number\">0.5%</td>\n",
       "        <td>\n",
       "            <div class=\"bar\" style=\"width:100%\">&nbsp;</div>\n",
       "        </td>\n",
       "</tr>\n",
       "</table>\n",
       "        </div>\n",
       "    </div>\n",
       "</div>\n",
       "</div>\n",
       "    <div class=\"row headerrow highlight\">\n",
       "        <h1>Correlations</h1>\n",
       "    </div>\n",
       "    <div class=\"row variablerow\">\n",
       "    <img src=\"data:image/png;base64,iVBORw0KGgoAAAANSUhEUgAAAnYAAAIqCAYAAACpGAd1AAAABHNCSVQICAgIfAhkiAAAAAlwSFlzAAAPYQAAD2EBqD%2BnaQAAADl0RVh0U29mdHdhcmUAbWF0cGxvdGxpYiB2ZXJzaW9uIDMuMC4yLCBodHRwOi8vbWF0cGxvdGxpYi5vcmcvOIA7rQAAIABJREFUeJzs3Xt8z/X///H7xtjBYbSNcm4MERtjFfo4JuTwwddKSKIytjlLhbTotOqDpXyl/JxKDhXlE58k6cCS8RFNRjSHZrOPw052ev/%2BWHt/vdswXm%2B9X16f2/VyeV/m/Xwd9ng/9/n0fuz%2BfL3ec7PZbDYBAADgpufu6gIAAADgHDR2AAAAFkFjBwAAYBE0dgAAABZBYwcAAGARNHYAAAAWQWMHAABgETR2AAAAFkFjBwAAYBHlXV0AAPM5fvy4unTpctntHh4eqlSpkurXr6%2BOHTtqyJAhqlSp0l9YIQCgNG78STEAf3ZpYxcUFFSiacvLy1N6erpOnDghSbrtttu0ZMkS1atX7y%2BvFQDwf2jsAJRwaWO3dOlShYWFlbrfzp07FRERoYyMDIWEhOiDDz74K8sEAPwJ19gBuG5hYWGaMGGCJCkhIUE//fSTiysCgP9uNHYADOnWrZv933v37nVhJQAAbp4AYEjlypXt/87MzHTY9sMPP2jZsmXavXu3zp49qypVqig4OFhDhw7V3XffXer5zp8/rw8%2B%2BEDbtm1TUlKSMjIy5OXlpbp166pTp04aNmyYqlat6nBM48aNJUnffvutXnrpJW3ZskXu7u5q1qyZ3n33XZUvX1579%2B7VkiVLdODAAZ06dUoVK1ZUgwYN1LVrVw0ePLjUmz9ycnL0wQcfaOPGjUpKSlJeXp5q1Kihe%2B65RyNGjFD9%2BvUd9t%2B5c6eGDRumli1basWKFVq2bJk%2B/vhjHTt2TB4eHmrWrJmGDh2qrl27Xs9UA8BV0dgBMOTYsWP2f9esWdP%2B79jYWC1atEiSVLVqVQUFBen06dPasmWLtmzZopEjR2ry5MkO5zp69KiGDx%2BuU6dOqXz58qpbt65q1aqlEydOaP/%2B/dq/f78%2B%2B%2BwzrV27Vj4%2BPiVqiYyMVEJCgoKCgpSeni5/f3%2BVL19emzdv1vjx45Wfn69q1aqpYcOGyszM1L///W/t3btX69ev1wcffODQ3P3%2B%2B%2B969NFHdeTIEUlS/fr15ePjo8OHD2vVqlX6%2BOOP9dJLL6lnz54l6sjLy9OoUaP0/fffq1q1agoMDNSvv/6qHTt2aMeOHXruuef00EMPGZt4ACiNDQD%2BJDk52RYUFGQLCgqy7dix44r7TpkyxRYUFGRr1qyZLTU11Waz2Wzvv/%2B%2BLSgoyBYaGmr75JNP7PsWFhbaPvvsM1twcLAtKCjI9uGHHzqca8iQIbagoCDboEGDbCkpKQ7HffTRR7YmTZrYgoKCbMuXL3c4rrjW5s2b2%2BLj4202m81WUFBg%2B89//mMrKCiwtWvXzhYUFGRbtGiRLT8/337cTz/9ZLvrrrtsQUFBtoULF9rH8/PzbX379rUFBQXZunfvbvv555/t2y5cuGB75pln7K95z5499m07duyw1xIcHGxbv369fdv58%2BdtjzzyiC0oKMjWtm1bW15e3hXnFQCuB9fYAbhmOTk5OnDggGbOnKmPP/5YkjR8%2BHD5%2BfkpNzdX8%2BfPlyTNmTNHffr0sR/n5uamnj172pO6%2BfPnKz8/X5J05swZHTp0SJIUExOjgIAAh%2BP69euntm3bSpIOHjxYal09evRQmzZtJEnu7u7y9fVVenq6UlNTJUmDBg1SuXLl7Ps3a9ZM48ePV9euXeXr62sf//zzz/Xzzz%2BrYsWKWrRokZo0aWLfVqlSJb3wwgvq0KGD8vLy9MYbb5RaS1RUlHr37m1/XrlyZfvrPnv2rH799dfLzC4AXD%2BWYgFc0bBhw666z//8z/8oOjpaUtHdsWlpafLx8bnshxz36dNHMTExSklJ0YEDB9SiRQvdcsst2rFjh3JycuTp6VnimIKCAvtSaU5OTqnnbd26dYmxatWqqWrVqjp37pwmTZqk0aNHq2XLlnJ3L/q9dtCgQRo0aJDDMV9%2B%2BaUkqXPnzqpTp06p3%2BvRRx/V9u3bFR8frwsXLjhcayhJnTp1KnFMYGCg/d/nz58v9bwAYASNHYAr%2BvMHFLu5ualixYry9fVV48aN1bVrVzVs2NC%2BvTh1y8vL08MPP3zZ85YrV06FhYU6cuSIWrRoYR/39PTUqVOntHfvXv32229KTk7W4cOH9fPPPysrK0uSVFhYWOo5/f39S/0%2BkyZN0vTp07Vt2zZt27ZNVatWVVhYmNq1a6eOHTs6XBsoyZ6mNWvW7LL1F28rKCjQsWPH1Lx5c4ftNWrUKHHMpQ1rQUHBZc8NANeLxg7AFT377LOX/YDi0ly4cEGSlJubq927d191/0uTqyNHjuiVV17Rtm3bHJq3SpUqKTQ0VKdPn1ZiYuJlz1Va0icVpXL16tXTe%2B%2B9p%2B%2B%2B%2B07nzp3T5s2btXnzZrm5ualjx4567rnn7A1eRkaGJJVI4S51abP757uBpaI/u3YlNj4bHsANQGMHwKm8vLwkFSVa69atK/NxZ86c0ZAhQ3TmzBnddtttGjRokO644w7dfvvtql27ttzc3DRx4sQrNnZXEhYWprCwMOXk5GjXrl364YcftH37du3fv19bt27VqVOn9PHHH8vNzc1%2Bx21xk1qaSxvS0u7QBQBXoLED4FQNGjSQVPTRJfn5%2BSpfvuR/Zmw2m3bu3KmaNWvqtttuU4UKFbR27VqdOXNGvr6%2BWrt2rapXr17iuJSUlGuuJzc3V8nJycrIyFDLli3l6emp9u3bq3379ho/frw%2B%2B%2BwzTZgwQYmJiTp48KCaNGmi22%2B/XQcOHND%2B/fsve959%2B/ZJKlqarlu37jXXBQA3AnfFAnCqNm3aqHLlysrMzLxsYrdhwwY98sgj6tGjh37//XdJRX%2BfVpJuu%2B22Upu6pKQk7dmzR9K1XZ/29ddfq2fPnnr88ceVm5tbYvs999xj/3fxeYtvfPjyyy%2BVnJxc6nmXLl0qSQoODlaVKlXKXA8A3Eg0dgCcytvbW48//rgkafbs2Vq7dq3D9XJffPGFZs6cKano40mK067bb79dkpSYmKhNmzbZ97fZbPr66681cuRI5eXlSZKys7PLXM%2B9996ratWq6ezZs5o6darOnj1r35aZmamXX35ZknTrrbeqUaNGkqT7779fjRs31sWLFzVq1CiH5d%2BMjAxNnz5d33zzjcqXL69JkyaVfXIA4AZjKRaA040aNUrJycn68MMP9fTTT%2BvVV19V7dq1lZKSotOnT0uSWrVqpRdeeMF%2BzMCBA7Vy5UodO3ZMUVFRqlWrlqpVq6ZTp07pzJkz8vDwUNu2bRUfH39NS7IVKlTQ3Llz9dhjj2njxo3asmWL6tatK3d3dyUnJysrK0teXl566aWXVKFCBUlS%2BfLltWDBAo0aNUpHjhxR3759Hf7yRPFHssyaNUuhoaHOnTwAMIDGDoDTubm5KSYmRt27d9cHH3ygPXv22D/wNzg4WA888IDCw8PtjZRUdJfpmjVrtGjRIm3dulXHjx9XWlqaatasqY4dO%2BqRRx6Rt7e3unbtqsTERJ08eVK33XZbmeoJCwvT6tWr9d577%2BnHH3/U0aNHVb58edWsWVPt27fXiBEjSpyrdu3aWrt2rd5//319/vnnOnz4sH7//Xfdeuut6tChgx5%2B%2BOESfysWAFzNzcY99wAAAJbANXYAAAAWQWMHAABgETR2AAAAFkFjBwAAcBXp6enq1q2bdu7cedl9tm3bpt69eys4OFg9evTQ1q1bHbYvWrRI9957r4KDgzV06FAdOXLE6XXS2AEAAFzBjz/%2BqPDwcP3222%2BX3efo0aOKjIxUdHS0du3apcjISI0bN87%2B8UwfffSRli1bpsWLF2vnzp1q1qyZoqKinP53o2nsAAAALuOjjz7SpEmTNH78%2BKvuFxoaqq5du6p8%2BfLq2bOn2rRpo1WrVkmSPvzwQw0ePFiNGjVSxYoVNXHiRJ08efKKCeD1oLEDAACWdfr0ae3fv9/hUfxB6WXRvn17/etf/1LPnj2vuF9SUpKCgoIcxho2bGj/yzV/3u7h4aH69es7/GUbZ%2BADil3Jzc3VFThXgwbSoUNSo0bSr7%2B6uhrnueRPUN303NykypWlCxckPsLSvKz8c7rvPldX4Dy33SatWSMNHCidPOnqapzLySlSmd2A98VV8%2BYpLi7OYWzs2LGKjIws0/H%2B/v5l2i8zM1NeXl4OY56ensrKyirTdmehsYPz%2BPpK5coVfYU5ubn938NqDYOV8HO6OVSuXPTfvMqVXV0JriA8PFydO3d2GCtrs3YtvLy8lJOT4zCWk5MjHx%2BfMm13Fho7AABgDu7Ov0IsICBAAQEBTj/vnwUFBWn//v0OY0lJSWrevLkkqVGjRjp06JA6deokScrLy9PRo0dLLN8axTV2AAAABvXp00fx8fHauHGj8vPztXHjRsXHx6tv376SpAEDBmj58uVKTEzUxYsX9dprr8nPz0%2BhoaFOrYPEDgAAmMMNSOxupJCQEM2aNUt9%2BvRRYGCg3nzzTcXGxuqZZ55RrVq1NH/%2BfDVo0ECSNHDgQF24cEFjxoxRenq67rzzTi1cuFAeHh5OrYnGDgAAmIPJG7uDBw86PE9ISHB43qFDB3Xo0KHUY93c3DRixAiNGDHihtUnsRQLAABgGSR2AADAHEye2N0MmEEAAACLILEDAADmQGJnGI0dAAAwBxo7w5hBAAAAiyCxAwAA5kBiZxgzCAAAYBEkdgAAwBxI7AyjsQMAAOZAY2cYMwgAAGARJHYAAMAcSOwMYwYBAAAsgsQOAACYA4mdYTR2AADAHGjsDGMGAQAALILEDgAAmAOJnWHMIAAAgEWQ2AEAAHMgsTOMxg4AAJgDjZ1hzCAAAIBFkNgBAABzILEzjBkEAACwCBI7AABgDiR2htHYAQAAc6CxM4wZBAAAsAgSOwAAYA4kdoYxgwAAABZBYgcAAMyBxM4wGjsAAGAONHaGMYMAAAAWQWIHAADMgcTOMBo7AABgDjR2hjGDAAAAFkFiBwAAzIHEzjBmEAAAwCJI7AAAgDmQ2BlGYwcAAMyBxs4wZhAAAMAiSOwAAIA5kNgZxgwCAABYBIkdAAAwBxI7w2jsAACAOdDYGfZf3djNmDFDGzZskCTl5%2BcrLy9PXl5ekqTs7GzZbDZ98sknatKkicNxBQUF6tq1qx555BENHz78ry4bAAD8Rc6cOaPp06crPj5e5cqVU58%2BfTR16lSVL%2B/YQo0cOVI//vijw1hWVpbCw8P1/PPPKy0tTe3atZO3t7d9e7Vq1fTll186td7/6sbu%2Beef1/PPPy9JWrduneLi4hwmuH///lq9erWmT5/ucNxXX32ls2fPauDAgX9pvQAAWJoJE7tx48apRo0a2r59u9LS0jR69GgtWbJEI0eOdNjvnXfecXi%2BZs0axcXFaezYsZKkffv2qVatWk5v5P7MfDNoIkOHDtX69euVk5PjML5y5UoNGDBAlSpVclFlAADgRjt27Jji4%2BM1efJkeXl5qU6dOoqIiNCKFSuueNyRI0cUExOj2NhYBQQESCpq7Jo3b37Da/6vTuyuplevXnrllVf0%2Beefq1%2B/fpKk5ORkff/99yVSvKs5ffq0UlNTHcb8GzRQgK%2Bv0%2Bp1ueIl6z8tXd/0TPgb5HUrfi1Wek1WZOWfU%2BPGrq7AeerVc/xqFQcPuu5734D/zZf6/uvvb2%2B4ruTQoUPy9fVVjRo17GOBgYE6efKkzp8/rypVqpR63KxZs9SvXz%2BFhobax/bt26dz587pgQceUFpamu68805NnTpVDRs2vM5XVjoauyuoUKGCBg0apNWrV9sbu/fff1/t27dX/fr1r%2Blcq1atUlxcnMPY2OhoRUZHO6tc81i50tUV4Gp8fFxdAcrCij%2BnpUtdXYHzxcS4ugLnCgtz3fe%2BAY1dqe%2B/Y8cqMjLyqsdmZmbar70vVvw8Kyur1MZu165d2rt3r2JjYx3Gq1SpooYNG2rUqFGqUKGC5s6dq0cffVQbN25U5cqVr/VlXRaN3VUMHjxYixcv1uHDh1WnTh2tW7euxA%2BrLMLDw9W5c2eHMf/evaX/9/%2BcVarrNWlS1NQNHiwlJrq6GufZts3VFTiPu3tRs5CZKRUWuroaXI6Vf05jxri6AuepV6%2BoqZs%2BXTp2zNXV4DJKff/19y/Tsd7e3srOznYYK37uc5lfvFatWqUePXqU%2BB6vvfaaw/Np06Zp7dq12rVrlzp16lSmesqCxu4qatSooS5dumjNmjVq2rSpqlWrpnbt2l3zeQICAkrGvr/%2B6qQqTSYxUUpIcHUVzmO1N1ap6DVZ8XVZjRV/Tq5c5rtRjh2z5utyhRuQ2JX6/ltGjRo10tmzZ5WWliY/Pz9J0uHDh1WzZs1SU7b8/Hxt2bJFb775psN4RkaG3nzzTQ0ZMkS1atWSVPQJG/n5%2BfL09Lyu2i7HghdwON/QoUP16aef6qOPPtLQoUPl5ubm6pIAAMANVr9%2BfbVu3Vpz5sxRRkaGkpOTtWDBgst%2BKsbBgwd18eJFtWrVymG8UqVK%2Bu677/Tyyy/rwoULyszMVExMjGrXru1wHZ4z0NiVQWhoqPz8/PTTTz/Zr7UDAABO5u7u/IdB8%2BbNU35%2Bvrp06aJBgwapQ4cOioiIkCSFhIRo/fr19n2Tk5NVtWpVVaxYscR5FixYoMLCQnXt2lUdOnRQamqqFi1aJA8PD8M1XsrNZrPZnHpGlJ3Vkr%2BQEGn3bqlVK2stxZ496%2BoKnMfdXapcWbpwwXpLfFZi5Z/Tffe5ugLnady46GaQYcOstxS7c6drvm/37s4/56ZNzj%2BniZHYAQAAWAQ3TwAAAHOw4mc3/sWYQQAAAIsgsQMAAOZAYmcYjR0AADAHGjvDmEEAAACLILEDAADmQGJnGDMIAABgESR2AADAHEjsDKOxAwAA5kBjZxgzCAAAYBEkdgAAwBxI7AxjBgEAACyCxA4AAJgDiZ1hNHYAAMAcaOwMYwYBAAAsgsQOAACYA4mdYcwgAACARZDYAQAAcyCxM4zGDgAAmAONnWHMIAAAgEWQ2AEAAHMgsTOMxg4AAJgDjZ1hzCAAAIBFkNgBAABzILEzjBkEAACwCBI7AABgDiR2htHYAQAAc6CxM4wZBAAAsAgSOwAAYA4kdoYxgwAAABZBYgcAAMyBxM4wGjsAAGAONHaGMYMAAAAWQWIHAADMgcTOMGYQAADAIkjsAACAOZDYGUZjBwAAzIHGzjBmEAAAwCJI7AAAgDmQ2BnGDAIAAFgEiR0AADAHEjvDaOwAAIA50NgZxgwCAABcxpkzZxQREaHQ0FCFhYVp9uzZys/PL3XfkSNH6s4771RISIj98fXXX0uSCgoK9PLLL%2Buee%2B5RSEiIRo8erdOnTzu9Xho7AABgDu7uzn8YNG7cOHl7e2v79u1as2aNvv/%2Bey1ZsqTUfX/66SctXrxYCQkJ9se9994rSXrrrbf07bffau3atdq%2Bfbs8PT317LPPGq7vz2jsAAAASnHs2DHFx8dr8uTJ8vLyUp06dRQREaEVK1aU2Dc5OVnnzp3THXfcUeq5Vq9erVGjRunWW29VpUqV9Mwzz%2Bjrr79WcnKyU2vmGjtXOnvW1RU4V/FvRtu2SYWFrq3FmXx9XV2B84SESLt3S3/7m5SQ4OpqnGvZMldX4DzVq0s9e0rbt0vp6a6uxrnatnV1Bc5Tu3bR12bNpKpVXVuLVdyAa%2BxOnz6t1NRUhzF/f38FBARc9dhDhw7J19dXNWrUsI8FBgbq5MmTOn/%2BvKpUqWIf37dvn3x8fDR%2B/Hjt27dPfn5%2BGj58uAYOHKgLFy7o999/V1BQkH1/Pz8/Va1aVQcPHlSdOnWc8EqL0NgBAABzuAGN3apVqxQXF%2BcwNnbsWEVGRl712MzMTHl5eTmMFT/PyspyaOxyc3MVHBys8ePHq1GjRtq5c6ciIyPl4%2BOjkJAQSZK3t7fDuTw9PZWZmXldr%2BtyaOwAAIBlhYeHq3Pnzg5j/v7%2BZTrW29tb2dnZDmPFz318fBzG%2B/Xrp379%2Btmft2/fXv369dM///lP3XPPPQ7HFsvJySlxHqNo7AAAgDncgMQuICCgTMuupWnUqJHOnj2rtLQ0%2Bfn5SZIOHz6smjVrqnLlyg77rlmzRj4%2BPurRo4d9LDc3VxUrVlTVqlVVo0YNJSUl2ZdjU1NTdfbsWYflWWfg5gkAAIBS1K9fX61bt9acOXOUkZGh5ORkLViwQAMHDiyxb0ZGhmJiYnTgwAEVFhbqq6%2B%2B0qeffqrw8HBJUv/%2B/fXWW28pOTlZGRkZmjNnjtq2bau6des6tWYSOwAAYA4m/IDiefPm6fnnn1eXLl3k7u6ufv36KSIiQpIUEhKiWbNmqU%2BfPnrkkUeUlZWlsWPH6syZM6pTp45efvllhYaGSpLGjBmj/Px8Pfzww8rMzFRYWJj%2B8Y9/OL1eGjsAAGAOJmzs/Pz8NG/evFK3JVzy6QJubm6KiIiwN31/5uHhoUmTJmnSpEk3pM5i5ptBAAAAXBcSOwAAYA4mTOxuNswgAACARZDYAQAAcyCxM4zGDgAAmAONnWHMIAAAgEWQ2AEAAHMgsTOMGQQAALAIEjsAAGAOJHaG0dgBAABzoLEzjBkEAACwCBI7AABgDiR2htHYAQAAc6CxM4wZBAAAsAgSOwAAYA4kdoYxgwAAABZBYgcAAMyBxM4wGjsAAGAONHaGMYMAAAAWQWIHAADMgcTOMGYQAADAIkjsAACAOZDYGUZjBwAAzIHGzjBmEAAAwCJI7AAAgDmQ2BnGDAIAAFgEiR0AADAHEjvDaOwAAIA50NgZxgwCAABYBIkdAAAwBxI7w5hBAAAAiyCxAwAA5kBiZxiNHQAAMAcaO8OYQQAAAIsgsQMAAOZAYmcYMwgAAGARJHYAAMAcSOwMo7EDAADmQGNnGDMIAABgESR2AADAHEjsDGMGAQAALILEDgAAmAOJnWE0dgAAwBxo7Ay7KRu7zp07KzU1VeXLF5Vvs9nk7u6upk2b6plnntEdd9xxzed86qmnJEkvvfSS3n77be3atUvvvPOOU%2BsGAAA3lzNnzmj69OmKj49XuXLl1KdPH02dOtXeg1zq/fff15IlS3T69GkFBARo2LBhevjhhyVJhYWFat26tWw2m9zc3OzHfPvtt/L29nZavTdlYydJs2bNUv/%2B/e3P09LS9Oyzz2rs2LH64osv5G6g63/yySedUSIAALgWJkzsxo0bpxo1amj79u1KS0vT6NGjtWTJEo0cOdJhvy%2B%2B%2BEKvv/66Fi1apJYtW2rPnj16/PHH5efnp%2B7duyspKUl5eXnavXu3KlSocMPqNd8MXic/Pz%2BFh4frxIkTOnv2rHbv3q1hw4apffv2uvPOO9W/f3/t2bPHvv%2BWLVvUq1cvBQcH64knntB//vMf%2B7b58%2Bdr6NCh9udffPGF%2Bvfvr1atWql79%2B5asmSJCgsL/9LXBwAA/lrHjh1TfHy8Jk%2BeLC8vL9WpU0cRERFasWJFiX1TUlI0atQoBQcHy83NTSEhIQoLC9MPP/wgSdq3b58aN258Q5s66SZO7P7s1KlTWr58ue688055e3tr9OjRioqK0kMPPaScnBw9/fTTeuWVV7Ry5UodOXJE0dHRmjNnjnr27KmvvvpKUVFR6tOnT4nz7tixQ%2BPGjdMrr7yi%2B%2B67TwcPHlRERIQkafjw4WWu7/Tp00pNTXUY8/fyUoC/v6HXbSrFv2mZ8DcuQ0JCXF2B8zRp4vjVSqpXd3UFzlOliuNXK6ld29UVOE%2BNGo5freL4cdd97xvw/lHq%2B6%2B/vwICAq567KFDh%2BTr66sal/yMAwMDdfLkSZ0/f15VLvn/aPGSa7EzZ87ohx9%2B0LRp0yQVNXYXL17UgAEDdOLECQUGBmrixIlq1aqVkZdXwk3b2M2aNUtz5sxRfn6%2B8vLyVLNmTXXr1k1PPPGEPDw8tGrVKtWrV08XL17UiRMn5Ovrq3379kmSNm7cqObNm9sbua5du6pTp06lfp9169apS5cu6tmzpySpWbNmevzxx7Vs2bJrauxWrVqluLg4h7GxY8YoMirqOl69yfn4uLoC59q929UVON/Kla6uAGXRvr2rK3C%2BP/5bainX8F5wU4iMdN33vgGNXanvv2PHKrIMrzMzM1NeXl4OY8XPs7KyHBq7S6WmpuqJJ55Q8%2BbN9cADD0iSPD091aJFC0VHR6tq1apasWKFHnvsMa1fv1516tS5npdWqpu2sZs5c6b69%2B%2Bv3NxcLV26VG%2B//bb%2B9re/qVq1apKknTt3atSoUcrKylLDhg1Vvnx52Ww2SUVx6W233eZwvrp16zosxxY7c%2BaMmjZt6jBWu3ZtnThx4prqDQ8PV%2BfOnR3G/L28pAsXruk8pubuXtTUZWZKVlqq/tvfXF2B8zRpUtTUDR4sJSa6uhrneuEFV1fgPFWqFDV133wjnT/v6mqc649fsC2hRo2ipm7JEiklxdXV4DJKff8t42qZt7e3srOzHcaKn/tcJsTYs2ePoqOjFRoaqhdffNF%2Bk0XxTZrFHnvsMa1bt07btm3TkCFDylRPWdy0jV2xChUqaOTIkTp37pwiIiL0/vvv6%2BLFi4qJidEHH3yg5s2bS5Leffdd/frrr5KkmjVr6quvvnI4z%2B%2B//66KFSuWOH%2BtWrX022%2B/OYwlJyeX%2BX8UxQICAkrGvufOWasBKlZYaK3XlZDg6gqcLzHReq8rPd3VFTjf%2BfPWe12uXOa7UVJSrPm6XOEGJHalvv%2BWUaNGjXT27FmlpaXJz89PknT48GHVrFlTlStXLrH/mjVr9MILLygqKkojRoxw2PbGG2%2Boe/fuDp/ckZubW2rvYYRlLoYaN26cGjdurAkTJig1NVXu7u7y9PSUVNQ9L126VLm5uZKkPn366JdfftGHH36o/Px8ffPNN/rXv/5V6nkHDBigL7/8Uv/85z9VUFCgAwcOaNGiRRowYMBf9toAAMBfr379%2BmrdurXmzJmjjIwMJScna8GCBRo4cGCJfTdt2qTnnntO8%2BfPL9HUSdIvv/yi2bNnKzU1VbnwrBZfAAAgAElEQVS5uYqLi1NGRoa6devm1Jot09iVK1dOr776qlJSUvTtt99q8ODBevjhh9WmTRvNmjVLQ4cOVXp6utLS0lSnTh29/fbbWrFihVq3bq0FCxZcdmJbtmypuXPnatGiRQoNDdXYsWP10EMP8ZEoAAA4m7u78x8GzZs3T/n5%2BerSpYsGDRqkDh062G%2BiDAkJ0fr16yVJcXFxKigoUFRUlEJCQuyPGTNmSJJefPFF1a1bV3379lVYWJji4%2BP13nvvydfX13CNl3KzFV94hr/euXOursC53N2lypWLrhu00lKsk/9P51IhIUU3g7RqZb2l2GXLXF2B81SvXnSTwcaN1luK3bnT1RU4T%2B3a0tSp0ssvW28pdv5813zf7793/jnvvtv55zQxyyR2AAAA/%2B1u%2BpsnAACARVjtc1BdgMYOAACYA42dYcwgAACARZDYAQAAcyCxM4wZBAAAsAgSOwAAYA4kdobR2AEAAHOgsTOMGQQAALAIEjsAAGAOJHaGMYMAAAAWQWIHAADMgcTOMBo7AABgDjR2hjGDAAAAFkFiBwAAzIHEzjBmEAAAwCJI7AAAgDmQ2BlGYwcAAMyBxs4wZhAAAMAiSOwAAIA5kNgZxgwCAABYBIkdAAAwBxI7w2jsAACAOdDYGcYMAgAAWASJHQAAMAcSO8OYQQAAAIsgsQMAAOZAYmcYjR0AADAHGjvDmEEAAACLILEDAADmQGJnGDMIAABgESR2AADAHEjsDKOxAwAA5kBjZxgzCAAAYBEkdgAAwBxI7AxjBgEAACyCxA4AAJgDiZ1hNHYAAMAcaOwMYwYBAAAsgsQOAACYA4mdYcwgAACARZDYAQAAcyCxM4zGDgAAmAONnWHMIAAAwGWcOXNGERERCg0NVVhYmGbPnq38/PxS9922bZt69%2B6t4OBg9ejRQ1u3bnXYvmjRIt17770KDg7W0KFDdeTIEafXS2MHAADMwd3d%2BQ%2BDxo0bJ29vb23fvl1r1qzR999/ryVLlpTY7%2BjRo4qMjFR0dLR27dqlyMhIjRs3TikpKZKkjz76SMuWLdPixYu1c%2BdONWvWTFFRUbLZbIZrvBSNHQAAQCmOHTum%2BPh4TZ48WV5eXqpTp44iIiK0YsWKEvt%2B9NFHCg0NVdeuXVW%2BfHn17NlTbdq00apVqyRJH374oQYPHqxGjRqpYsWKmjhxok6ePKmdO3c6tWausQOuZtkyV1fgPNWrF3194QUpPd21tTjb0KGursB5QkKknj2lZ5%2BVEhJcXY1zbd/u6gqcx8en6Ot990mZma6txSpuwDV2p0%2BfVmpqqsOYv7%2B/AgICrnrsoUOH5Ovrqxo1atjHAgMDdfLkSZ0/f15VqlSxjyclJSkoKMjh%2BIYNGyoxMdG%2BfdSoUfZtHh4eql%2B/vhITE3XXXXdd12srDY0dAAAwBZvcnH7OVatWKS4uzmFs7NixioyMvOqxmZmZ8vLychgrfp6VleXQ2JW2r6enp7Kyssq03Vlo7AAAgGWFh4erc%2BfODmP%2B/v5lOtbb21vZ2dkOY8XPfYoT2z94eXkpJyfHYSwnJ8e%2B39W2OwuNHQAAMIXCQuefMyAgoEzLrqVp1KiRzp49q7S0NPn5%2BUmSDh8%2BrJo1a6py5coO%2BwYFBWn//v0OY0lJSWrevLn9XIcOHVKnTp0kSXl5eTp69GiJ5VujuHkCAACYQmGh8x9G1K9fX61bt9acOXOUkZGh5ORkLViwQAMHDiyxb58%2BfRQfH6%2BNGzcqPz9fGzduVHx8vPr27StJGjBggJYvX67ExERdvHhRr732mvz8/BQaGmqsyD%2BhsQMAALiMefPmKT8/X126dNGgQYPUoUMHRURESJJCQkK0fv16SUU3Vbz55ptauHCh2rRpowULFmj%2B/Plq0KCBJGngwIEaPny4xowZo7vuuksHDhzQwoUL5eHh4dR6WYoFAACmcCOWYo3y8/PTvHnzSt2W8Ke71jt06KAOHTqUuq%2Bbm5tGjBihESNGOL3GS5HYAQAAWASJHQAAMAUzJnY3Gxo7AABgCjR2xrEUCwAAYBEkdgAAwBRI7IwjsQMAALAIEjsAAGAKJHbG0dgBAABToLEzjqVYAAAAiyCxAwAApkBiZxyJHQAAgEWQ2AEAAFMgsTOOxg4AAJgCjZ1xLMUCAABYBIkdAAAwBRI740jsAAAALILEDgAAmAKJnXE0dgAAwBRo7IxjKRYAAMAiSOwAAIApkNgZR2IHAABgESR2AADAFEjsjKOxAwAApkBjZxxLsQAAABZBYgcAAEyBxM44EjsAAACLILEDAACmQGJnHI0dAAAwBRo741iKBQAAsAgSOwAAYAokdsaR2AEAAFgEiR0AADAFEjvjaOwAAIAp0NgZx1IsAACARZDYAQAAUyCxM47EDgAAwCJI7AAAgCmQ2BlHYwcAAEyBxs44lmIBAAAsgsQOAACYAomdcTR2AADAFGjsjGMpFgAAwCJI7AAAgCmQ2Bl3TYld48aN9fjjj8tmszmMr1u3Tp07d3ZqYQAAAGaXlZWladOmKSwsTK1bt9aUKVOUmZl52f03bdqkvn37qlWrVurcubPi4uJUeElH26NHD7Vs2VIhISH2x%2BHDh8tczzUvxW7btk3vvPPOtR4GAABwRYWFzn/caDExMTp16pQ2bdqkzZs369SpU4qNjS11359%2B%2BklTpkzRuHHjtGvXLi1atEjr1q3TkiVLJEkZGRn69ddftXHjRiUkJNgfgYGBZa7nmhu7oUOHau7cudq9e/dl9/ntt9/05JNPKiwsTJ06ddIbb7yh3NxcnTt3Ts2aNdPPP/8sSbp48aJatGihV1991X5sVFSU5s6dq4yMDI0fP15hYWFq166dHnvsMXvHOn/%2BfEVERCgyMlLBwcHq3LmzVq1aZT/H4cOH9cQTT6hjx45q0aKFevbsqa1bt0qSjh8/rsaNG2vZsmVq166dWrdurcmTJysjI8N%2B/GeffabevXurdevW6t%2B/v7755huH1//UU0%2BpU6dO6tixo8NxAADg%2Bt1sjV12drY2bNigqKgo%2Bfr66pZbbtGkSZO0bt06ZWdnl9j/xIkTevDBB9WpUye5u7srMDBQ3bp10w8//CCpqPHz9fVVrVq1rruma77Grlu3brLZbJowYYI%2B/vhj%2Bfr6OmzPysrS8OHD1atXL82dO1fp6emKiopSYWGhJk6cqLZt2%2Brrr79W06ZNFR8fLzc3N3333XeSpNzcXH3zzTcaPXq03n33XWVkZGjbtm1yd3fXjBkzFBsbq7feekuStGXLFj311FN6/fXXtXPnTj355JOqW7eu7r77bkVGRqpLly6Ki4uTzWZTbGysnnvuOXXq1Mle5%2BbNm7VhwwYVFBRozJgxmjVrll599VVt27ZNM2fO1FtvvaVWrVrp66%2B/VmRkpD788EM1atRIkvTdd99p9erV8vLyUqVKlco0b6dPn1ZqaqrDmL%2BXlwL8/a/1R2Be7u6OX62ienVXV%2BA8Vao4frWSkBBXV%2BA8TZo4frUSHx9XV%2BA8Xl6OX63iCsuIN6NS33/9/RUQEFCm43NycpSSklLqtuzsbOXl5SkoKMg%2BFhgYqJycHB09elRNmzZ12L979%2B7q3r27w7m/%2Buor9e7dW5K0b98%2BeXl5aciQITp06JBq1aqlyMhIh/7laq7r5ompU6cqISFBTz31lL3RKvbVV18pNzdXEyZMkJubm2699VZFR0crKipKEydOVNeuXbVx40Y98cQT%2BuabbxQeHq7ly5crPT1dP/30k6pVq6amTZtq%2B/btSkxM1Mcff6x27dppzpw5cr%2BkYWjcuLEeffRRSVL79u3VvXt3ffLJJ7r77ru1cOFC1ahRQzabTSdOnFCVKlVK/FCmTZum6n%2B8YUdFRWn06NGaPXu2li9froceekht2rSRJHXq1EmdO3fWBx98oOnTp0uS7r33XtWoUeOa5mzVqlWKi4tzGBs7Zowio6Ku6Tw3BSv9h1uSevZ0dQXO1769qytwPiv%2BnFaudHUFKAurNeCXrFL91W5Ewlbq%2B%2B/YsYqMjCzT8Xv37tWwYcNK3RYdHS1J8vb2to95/dHoX%2Bk6O6lo2TU6Olqenp4aPny4JMnNzU133nmnJkyYoNtuu02ff/65IiMjtXz5cgUHB5ep3utq7CpUqKB//OMf%2Bvvf/653331X1apVs287ceKE0tPT7Y2RJNlsNuXl5enMmTPq2rWrXnzxRV24cEHbt2/Xiy%2B%2BqPj4eO3YsUM7d%2B7UfffdJ0kaNWqUKlSooDVr1uj5559XnTp1NHHiRPv2%2BvXrO9R066232pd4ExMTFRERodTUVAUGBqp69eolbvioV6%2Bew7G5ubk6e/asTpw4ofj4eL3//vv27QUFBbrrrrvsz8va5V8qPDy8xA0m/l5e0oUL13wu03J3L2rqMjOtdWvT9u2ursB5qlQpauq%2B%2BUY6f97V1TjXs8%2B6ugLnadKkqKkbPFhKTHR1Nc61eLGrK3AeL6%2Bin1ViolTKshvModT332tYLQsLC9PBgwdL3XbgwAHNnTtX2dnZ8vkj1Chegr3Sit6RI0cUFRWlW265RUuXLrXvO3LkSIf9%2BvTpo08//VSbNm26sY2dJNWtW1cxMTGaMmWK%2Bvfvbx%2BvWbOm6tatq88//9w%2BlpGRoTNnzqh69epyc3NTkyZNtG7dOqWlpal58%2BZq3769vvvuO23fvl3/%2BMc/JEkHDx5U586dNXz4cF24cEErV67U%2BPHjtWPHDkkqkcAdP35ct956q1JSUhQdHa24uDj7D7L4gsZLpaSk6Pbbb7cf6%2BXlpWrVqqlmzZrq16%2BfHn/8cfu%2BJ0%2BelKenp/25m5vbNc9XQEBAyYbw3DlrNUDF/qorVv8q6emursD5zp%2B33utKSHB1Bc6XmGi912WxZT5JRU2dFV%2BXC9yIt45S33%2BdpEGDBvLw8FBSUpJatmwpqeg6fw8PjxIBVLFt27ZpwoQJGjRokCZOnKjy5f%2BvFVu8eLHuuOMO3X333fax3NxcVaxYscw1GboYqmfPnhowYIDDjQudOnVSZmam3nnnHeXm5ur8%2BfOaOnWqxo8fb2%2BIunXrprfeekt33XWXypUrp3bt2unTTz9VYWGhvSNdvXq1pkyZojNnzqhSpUqqVKmSvL29VaFCBUnSnj179Mknn6igoEDbtm3Tli1bNGDAAGVmZqqgoMAehSYlJenNN9%2B0T06x1157TRkZGUpJSdG8efPUt29feXh4aNCgQVq6dKn%2B/e9/Sypa7%2B7fv78%2B/fRTI1MFAACu4ma7ecLLy0s9evRQbGys0tPTlZ6ertjYWD3wwAMOgVCxPXv2aMyYMZo2bZqmTp3q0NRJ0qlTpzRr1iwlJycrPz9fa9asUUJCgv7%2B97%2BXuSbDH1D89NNPa%2B/evTr/x7JOpUqVtGTJEr300kt65513VFhYqLCwMIdr8bp27arXX39d7dq1kyS1bt1abm5u6tq1q735mzBhgp5//nn16tVLFy9e1O23364FCxbYu9amTZtqy5YteuGFF%2BTn56dXX31VIX9cPD1lyhRNnjxZ2dnZqlmzpgYNGqRXX31Vv/zyi/1mj7p16%2BqBBx5Qdna2evfurcmTJ0uS7r//fmVlZenpp5/WyZMn5evrq%2BHDh2vo0KFGpwoAAFjMzJkz9fLLL6t3797Ky8tTly5d7NfkS1KvXr3Uu3dvPfnkk3r77beVn5%2Bv2bNna/bs2fZ9WrdurXfeeUdTpkyRu7u7Bg8erAsXLqhhw4b63//9X4fLx67Gzfbni89uAvPnz1d8fLyWLVt2zcceP35cXbp00ZYtW1S7du0bUN01OHfOtd/f2dzdpcqVi64btNJS7IYNrq7AeapXL7rJYONG6y3FWumXr5AQafduqVUr6y3FWumaVR%2Bfop9VQoL1lmJddIPVpk3OP%2BclN6H%2BV7DY51IAAAD89%2BJvxQIAAFOw0mKPq9yUjV1ZP3umNLVr177sbcsAAMB1aOyMYykWAADAIm7KxA4AAFgPiZ1xJHYAAAAWQWIHAABMgcTOOBo7AABgCjR2xrEUCwAAYBEkdgAAwBRI7IwjsQMAALAIEjsAAGAKJHbG0dgBAABToLEzjqVYAAAAiyCxAwAApkBiZxyJHQAAgEWQ2AEAAFMgsTOOxg4AAJgCjZ1xLMUCAABYBIkdAAAwBRI740jsAAAALILEDgAAmAKJnXE0dgAAwBRo7IxjKRYAAMAiSOwAAIApkNgZR2IHAABgESR2AADAFEjsjKOxAwAApkBjZxxLsQAAABZBYgcAAEyBxM44GjsAAGAKNHbGsRQLAABgESR2AADAFEjsjCOxAwAAsAgSOwAAYAokdsbR2AEAAFOgsTOOpVgAAACLILEDAACmQGJnHIkdAACARZDYAQAAUyCxM47GDgAAmAKNnXEsxQIAAFgEjR0AADCFwkLnP260rKwsTZs2TWFhYWrdurWmTJmizMzMy%2B4/c%2BZMNW/eXCEhIfbHqlWr7NsXLVqke%2B%2B9V8HBwRo6dKiOHDlyTfXQ2AEAAFynmJgYnTp1Sps2bdLmzZt16tQpxcbGXnb/ffv2KSYmRgkJCfZHeHi4JOmjjz7SsmXLtHjxYu3cuVPNmjVTVFSUbDZbmeuhsQMAAKZwsyV22dnZ2rBhg6KiouTr66tbbrlFkyZN0rp165SdnV1i/9zcXP3yyy9q3rx5qef78MMPNXjwYDVq1EgVK1bUxIkTdfLkSe3cubPMNXHzBAAAMAUz3jyRk5OjlJSUUrdlZ2crLy9PQUFB9rHAwEDl5OTo6NGjatq0qcP%2BiYmJys/P17x58/Tjjz%2BqcuXKGjBggEaOHCl3d3clJSVp1KhR9v09PDxUv359JSYm6q677ipTvTR2rnTffa6uwLkaN5aWLpXGjJEOHnR1Nc7Ttq2rK3Ce2rWlnj2lffuk48ddXY1zbd/u6gqcx8en6OvixdIVrtW5KXXo4OoKnCckRNq9W3rsMSkhwdXVONc1LP2Z3enTp5Wamuow5u/vr4CAgDIdv3fvXg0bNqzUbdHR0ZIkb29v%2B5iXl5cklXqd3YULF9S2bVsNHTpUr7/%2Bun7%2B%2BWeNGTNG7u7uGjlypDIzM%2B3HF/P09FRWVlaZapVo7AAAgEnciMRu1apViouLcxgbO3asIiMjy3R8WFiYDl4mrDhw4IDmzp2r7Oxs%2BfzxC1nxEmylSpVK7N%2BuXTu1a9fO/rxFixZ65JFHtHHjRo0cOVJeXl7KyclxOCYnJ8d%2B7rKgsQMAAJYVHh6uzp07O4z5%2B/s75dwNGjSQh4eHkpKS1LJlS0nS4cOH7Uuof/bFF18oLS1NDz74oH0sNzdXnp6ekqRGjRrp0KFD6tSpkyQpLy9PR48edVjqvRpungAAAKZwI26eCAgIULNmzRweZV2GvRovLy/16NFDsbGxSk9PV3p6umJjY/XAAw/Ym7VL2Ww2vfjii/r%2B%2B%2B9ls9mUkJCgpUuX2u%2BKHTBggJYvX67ExERdvHhRr732mvz8/BQaGlrmmkjsAACAKZjx5omrmTlzpl5%2B%2BWX17t1beXl56tKli6ZPn27f3qtXL/Xu3VtPPvmkunXrpmnTpum5555TSkqK/Pz8FBkZqb59%2B0qSBg4cqAsXLmjMmDFKT0/XnXfeqYULF8rDw6PM9dDYAQAAXKdKlSopJiZGMTExpW7/7LPPHJ4/%2BOCDDkuxl3Jzc9OIESM0YsSI666Hxg4AAJjCzZjYmQ3X2AEAAFgEiR0AADAFEjvjaOwAAIAp0NgZx1IsAACARZDYAQAAUyCxM47EDgAAwCJI7AAAgCmQ2BlHYwcAAEyBxs44lmIBAAAsgsQOAACYAomdcSR2AAAAFkFiBwAATIHEzjgaOwAAYAo0dsaxFAsAAGARJHYAAMAUSOyMI7EDAACwCBI7AABgCiR2xtHYAQAAU6CxM46lWAAAAIsgsQMAAKZAYmcciR0AAIBFkNgBAABTILEzjsYOAACYAo2dcSzFAgAAWASJHQAAMAUSO%2BNo7AAAgCnQ2BnHUiwAAIBFkNgBAABTILEzjsQOAADAIkjsAACAKZDYGUdjBwAATIHGzjiWYgEAACyCxA4AAJgCiZ1xJHYAAAAWQWIHAABMgcTOOBo7AABgCjR2xrEUCwAAYBEkdgAAwBRI7IwjsQMAALAIEjsAAGAKJHbG0dgBAABToLEzjqVYAAAAi7ipE7tz587pjTfe0NatW3Xu3DlVqlRJ7dq10/jx41WzZs0rHnv8%2BHF16dJFW7ZsUe3atf%2BiigEAwOXcjIldVlaWYmJi9OWXXyo/P19dunTRzJkz5ePjU2LfGTNmaMOGDQ5jOTk5uueee7R48WIVFhaqdevWstlscnNzs%2B/z7bffytvbu0z13NSJ3fjx4/Wf//xHa9as0Z49e/Txxx8rNzdXjz76qPLz811dHgAAsLiYmBidOnVKmzZt0ubNm3Xq1CnFxsaWuu/zzz%2BvhIQE%2B2P%2B/PmqUqWKnnrqKUlSUlKS8vLyFB8f77BfWZs66SZv7H788Ud169ZN/v7%2BkiQ/Pz89/fTTatmypc6fP6/Dhw/riSeeUMeOHdWiRQv17NlTW7duLfVcaWlpmjRpktq1a6f27dtrxowZysjIkCTl5%2BfrueeeU7t27RQWFqbBgwfrxx9//MteJwAA/w0KC53/uJGys7O1YcMGRUVFydfXV7fccosmTZqkdevWKTs7%2B4rHpqena9KkSXrmmWfUqFEjSdK%2BffvUuHFjVahQ4bpruqmXYnv16qWZM2dq165datu2rVq2bKlatWrppZdekiQNGTJEXbp0UVxcnGw2m2JjY/Xcc8%2BpU6dODucpLCxURESE6tevr02bNikvL0/Tpk3TjBkz9Prrr%2BuTTz5RQkKC/vnPf8rHx0fz5s3TrFmztH79%2BjLXevr0aaWmpjqM%2Bfv7K6B6deMTYRb16jl%2BtQorLdXXqOH41UpKWfa4aXl5OX61kpAQV1fgPE2aOH61ioQEl33rG9GIXfb9NyCgTMfn5OQoJSWl1G3Z2dnKy8tTUFCQfSwwMFA5OTk6evSomjZtetnzxsbGqnnz5urTp499bN%2B%2Bfbp48aIGDBigEydOKDAwUBMnTlSrVq3KVKt0kzd2L7zwgsLCwrRx40bNmDFDFy5cUN26dRUZGak%2Bffpo4cKFqlGjhmw2m06cOKEqVaqU%2BsP56aeftH//fr333nv2NfGpU6fq/vvv1/Tp0%2BXp6anjx49rzZo1uvfeexUdHa3x48dfU62rVq1SXFycw9jYiAhFRkdf/wSYVUyMqyvA1Qwf7uoKUBZWaxgkafduV1fgfCtXuroC57rk2i4rKPX9d%2BxYRUZGlun4vXv3atiwYaVui/7jPfzSpVKvP34hy8zMvOw5k5OTtX79eq1evdph3NPTUy1atFB0dLSqVq2qFStW6LHHHtP69etVp06dMtV7Uzd27u7u6tu3r/r27SubzabDhw/rk08%2B0ZQpU%2BTv76%2BMjAxFREQoNTVVgYGBql69umw2W4nzHD9%2BXAUFBfrb3/7mMF6hQgUlJyerV69eysvL0%2BrVq/X666/rlltu0ZNPPqmHHnqozLWGh4erc%2BfODmP%2BU6dKVlrSrVevqKmbPl06dszV1ThPs2aursB5atQoauqWLJEu8xvoTeu%2B%2B1xdgfN4eRU1dYmJ0lWWc246jz3m6gqcp0mToqZu8OCinxUMuxGJXanvv39cwlUWYWFhOnjwYKnbDhw4oLlz5yo7O9seDBUvwVaqVOmy51y7dq1CQkJKJHrF19oVe%2Byxx7Ru3Tpt27ZNQ4YMKVO9N21jt337dkVFRWnr1q3y9fWVm5ubGjZsqIkTJ%2Brbb7/Vjz/%2BqAULFiguLs7%2BAy2%2BsPHPatasKU9PT%2B3cuVPlypWTJOXm5io5OVn16tXTr7/%2BqmbNmqlfv37KycnR559/rqlTpyo0NNS%2BLn41AQEBJWPf1NSih9UcOyZd5v8EN6WqVV1dgfOlpEjHj7u6Cue6wm/HN63sbOu9Lhcu890wiYnWfF0WUer7r5M0aNBAHh4eSkpKUsuWLSVJhw8floeHh%2BrXr3/Z4zZv3qwRI0aUGH/jjTfUvXt33XHHHfax3NxcVaxYscw13bQ3T7Rp00a33HKLpk2bpoMHDyovL08ZGRlav369jh49qq5du6qgoMAeiSYlJenNN9%2BUVDRJl2rRooXq1aunl156SZmZmcrJydGcOXM0fPhwFRQUaOvWrRo7dqyOHz8uT09P%2Bfr6qnz58qpcufJf/roBALCqm%2B3mCS8vL/Xo0UOxsbFKT09Xenq6YmNj9cADD8jT07PUY/7zn//o8OHDatOmTYltv/zyi2bPnq3U1FTl5uYqLi5OGRkZ6tatW5lrumkbO09PT61cuVL%2B/v4aPXq0QkND1bFjR61fv17vvfeemjRpoilTpmjy5Mlq3bq1oqOjNWDAAHl4eOiXX35xOFf58uW1cOFCpaWl6b777lP79u3122%2B/6b333lPFihU1bNgwdezYUQ8%2B%2BKCCg4P16quv6o033rjqZ%2BUBAICyu9kaO0maOXOm6tevr969e%2Bv%2B%2B%2B9X7dq1NWPGDPv2Xr166e2337Y/P/7HakmNUm5ie/HFF1W3bl317dtXYWFhio%2BP13vvvSdfX98y1%2BNmK%2B2iM/w1wsJcXYFzNW4sLV0qDRtmraXYtm1dXYHz1K4tTZ0qvfyy9ZZiw8NdXYHz%2BPgU3T2akGC9pdgOHVxdgfOEhBTdDNKqlfWWYl3UGrRr5/xzfvut889pZjftNXYAAMBabsa/PGE2N%2B1SLAAAAByR2AEAAFMgsTOOxg4AAJgCjZ1xLMUCAABYBIkdAAAwBRI740jsAAAALILEDgAAmAKJnXE0dgAAwBRo7IxjKRYAAMAiSOwAAIApkNgZR2IHAABgESR2AADAFEjsjKOxAwAApkBjZxxLsQAAABZBYgcAAEyBxM44GjsAAGAKNHbGsRQLAABgESR2AADAFEjsjCOxAwAAsAgSOwAAYAokdsbR2AEAAFOgsWaJKk4AABOMSURBVDOOpVgAAACLILEDAACmQGJnHIkdAACARZDYAQAAUyCxM47GDgAAmAKNnXH/v727j875vv84/rpSuZMslRgilmOz0sTGaE5ImqBy5xAs5n4RqraUTpBaN1Hd1hl2VJi5aY4aFnXUzbCm1Bak5i5h06TWRUWcNmmcXnEbBCfR5PeH9vqJokm1Pt/r8nyc45xen%2B8V1%2Bucr17nlff3jkOxAAAALoKJHQAAsAQmdvePiR0AAICLYGIHAAAsgYnd/aPYAQAAS6DY3T8OxQIAALgIJnYAAMASmNjdPyZ2AAAALoKJHQAAsAQmdvePYgcAACyBYnf/OBQLAADgIpjYAQAAS2Bid/%2BY2AEAALgIJnYAAMASmNjdP4odAACwBIrd/eNQLAAAgIug2AEAAEuoq/v6/zwo165d08iRI7Vly5Z7vq%2BoqEjDhw9X9%2B7dFRMTo02bNjXYvnXrVsXHx6tbt276yU9%2BonfffbdJOSh2AAAA96GkpETJyckqLCy85/uqqqqUmpqqpKQkHTlyRHPmzNG8efP03nvvSZIKCgo0e/Zs/fGPf9SRI0c0ePBgTZo0SdeuXWt0FoodAACwBGec2B06dEjjxo3TkCFDFBQUdM/3/vOf/1SLFi2UnJysZs2aKTIyUoMGDdK6deskSZs2bVJiYqLCwsLk7u6up59%2BWv7%2B/tqxY0ej83DxBAAAsIRvoohVVlbqzJkzDdZatWql1q1bN%2Brnr1%2B/LrvdfsdtrVq1UkhIiPLy8uTp6anVq1ff8%2B8qKSlRp06dGqw99thj2rx5syTp5MmTGjp06Be2Hz9%2BvFFZJYqdWQUFphN8rSorK7VhyRKNXLCg0f/D4MFy7KPx49lHFubYTyNHut5%2Bqq83neBr49hPO3e63n4y5Jv457FkyQYtXbq0wdrkyZOVlpbWqJ8vKirS2LFj77ht2bJliouLa3SW6upqeXt7N1jz8vLS1atXG7W9MSh2%2BNqcOXNGS5cuVUxMDF9yFsU%2Bcg7sJ%2BfAfnIOI0eOVExMTIO1Vq1aNfrne/bsqQ8%2B%2BOBryeLt7a3Lly83WLt%2B/bp8fHwc269fv/6F7f7%2B/o3%2BDIodAABwWa1bt7ZM8e7UqZMOHDjQYO3kyZPq2LGjJKljx44qKSn5wvbevXs3%2BjO4eAIAAOABiI%2BP19mzZ7VmzRrV1tYqPz9fOTk5jvPqhg0bppycHOXn56u2tlZr1qzRuXPnFB8f3%2BjPoNgBAAB8QxITE5WVlSVJ8vf316pVq7Rz50717NlTs2bN0qxZsxQRESFJioyM1G9/%2B1v97ne/U48ePbR9%2B3a99tpratGiRaM/z1Zf70JnssKoyspKbdiwwTVP%2BHYR7CPnwH5yDuwnWBHFDgAAwEVwKBYAAMBFUOwAAABcBMUOAADARVDsAAAAXATFDgAAwEVQ7AAAAFwExQ4AAMBFUOwAAABcBMUOAADARVDsAMACrl69ajoCABdAsUOTZWdnq7q62nQMwKUMHDhQV65cMR0DTVRaWiq73W46BuBAsUOTrVmzRr1799bcuXNVXl5uOg7gMq5du2Y6Ar7E0aNHlZSUJEl64403lJiYqNjYWO3atctwMuAmW319fb3pEHAudXV1ysvL0/r165Wfn6/o6GiNGzdOkZGRpqPhLurr65Wdna0NGzaooqJCrVq10rBhw/Tss8/KZrOZjgdJGRkZOnTokHr37q3WrVs32DZ58mRDqXC75ORkhYeHa%2BrUqYqJidHUqVPVokULZWZmKicnx3Q8gGKH%2B1NeXq7169dr69atCggIUEpKipKSkuTl5WU6Gm7x17/%2BVatXr1Zqaqq%2B853vqKysTCtXrtRPf/pTpaammo4HSSkpKXdct9lsys7OfsBpcDeRkZE6ePCgTp06paSkJP3nP/%2BRh4eHunfvrnfffdd0PIBih69HTU2N/vGPf2jr1q16//33VVBQYDoSbtG/f39lZmaqc%2BfOjrX//e9/SktL0%2B7duw0mA5xLdHS0du7cqU2bNmnPnj1au3atKioqNGrUKO3bt890PIBz7PD1qKioUHFxsU6ePKl27dqZjoPbVFZWKiQkpMFaSEiILl68aCgR7qS0tFR/%2BMMfNHnyZF24cEGvv/666Ui4TVxcnMaMGaPly5dr2LBhOnnypJ555hkNHDjQdDRAktTMdAA4r5qaGsdvroWFhYqLi9OiRYsUFhZmOhpu0759e%2BXm5qpfv36OtdzcXLVv395gKtzqwIEDSktLU9%2B%2BfXXw4EFdv35dy5Yt09WrVzlcbiEvvfSS/v73v8vLy0sDBgzQhx9%2BqFGjRmns2LGmowGSOBSLr%2BDEiRPauHGjcnJy9Mgjj2jEiBEaPXq02rRpYzoa7mLXrl2aNm2a4uPjFRwcrLKyMu3evVt//vOf1bdvX9PxIGno0KGaMmWK%2BvTpo/DwcB05ckTHjh3TtGnTOFxuQVVVVSovL1fnzp1148YNeXh4mI4ESOJQLL6CwYMHq7CwUBkZGXrnnXc0bdo0Sp3FxcXFaeXKlfLw8ND7778vPz8/rVu3jlJnIR999JF69%2B4tSY4rlbt06aKqqiqTsXCb6upqTZ8%2BXT179tSYMWP04YcfKj4%2BXqdOnTIdDZDEoVh8BTabTZs3bzYdA00UERGhiIgI0zFwF0FBQTp69GiDUxmOHTumtm3bGkyF282fP19Xr17V22%2B/rREjRig4OFh9%2B/bVnDlz9Je//MV0PIBih6bz9vY2HQGNlJqaqhUrViglJeWu96vjVhrW8Oyzz2rSpEkaPXq0amtr9dprr2nt2rV6/vnnTUfDLfLy8pSTk6NHH31UNptN7u7umjFjhmPaCphGsQNc2OfTnx49enAjYotLTEyUr6%2Bv1q1bp6CgIOXn5%2BvFF19scMELzKurq3OcT/f5Keq3rgGmcfEEmiw0NFRBQUH3fA8newNfTW1traqqquTv769HHnnEdBzc5pe//KXc3d31m9/8Rn369NHhw4c1d%2B5cnT17VgsXLjQdD2Bih6Zzd3fnEUdOIiMj40vfM2/evAeQBF/mypUrmj17tnbu3Kmamhp5eXlpyJAhmjFjBtMgC8nIyNCkSZMUHh6uTz/9VN27d9d3v/tdZWVlmY4GSKLY4Sto1qyZhgwZYjoGmuDChQvat2%2Bf%2Bvbtq%2BDgYNntduXm5iohIcF0NHzm97//vT766CMtX75cbdu2VXl5uZYsWaIFCxZo5syZpuPhMy1bttSGDRt07NgxVVRUKDAwUF27dmW6CsvgUCyajGciOp%2BJEydq%2BPDhio2Ndazt379fWVlZPN3AIsLDw7Vz5061bNnSsWa32/XjH/9Y%2Bfn5BpNBkk6fPv2l7/myU1SAB4GJHZps8ODBpiOgiQoKCrR8%2BfIGa5GRkUpLSzOUCLfz9PT8wtTHx8eHq9AtIiYmxnEBUn19fYOLkT5/XVxcbCoe4ECxQ5O9/PLLpiOgidq1a6e3335biYmJjrUtW7bwSDELmThxoqZMmaKZM2eqffv2stvtyszM1IABAxpMi5gKmcEFYXAWHIoFHgK7d%2B/W1KlT1bVrV7Vt21Yff/yxTpw4oaysLPXs2dN0PEgKCQlx/LfNZtOtX82fv2YqZE03btzQiRMn1LlzZ9NRAIod8LA4deqUduzYocrKSgUGBmrQoEEKDg42HQufqaioaNT72rVr9w0nwb288847evnll2W32xuU72bNmunYsWMGkwE3UeyAh9j58%2BcVEBBgOgbugkmQ9QwcOFBRUVHy8/PTBx98oIEDB2rZsmUaNmyYUlJSTMcDOMcOeBgUFRXplVdekd1uV11dnaSbN8I9f/68/vvf/xpOB4lJkLMoLy/XCy%2B8oI8//lj5%2BflKSEhQhw4dlJ6eTrGDJVDsgIfA7NmzFRwcrI4dO6q8vFxRUVHKzs7W9OnTTUfDZxYsWKCEhIQ7ToJgHQEBAXJzc1NQUJBKS0slSY899pg%2B%2BeQTw8mAm9xMBwDwzSspKdG8efOUnJysTz/9VOPHj9eiRYuUk5NjOho%2B8/kkKDExURcuXFBCQoIyMzO1ceNG09Fwi8cff1yLFy%2BWdPNmxXv37lVBQYE8PT0NJwNuotgBDwE/Pz95eXkpODhYJSUlkqRu3bo1%2BoR9fPOYBDmHF154Qbt27dKZM2c0ZcoUPffcc3r66ac1YcIE09EASRQ74KHQoUMHrV%2B/Xp6enmrevLmKi4tVWlra4CarMItJkPXV1dUpICBA27dvV7t27fStb31Lzz33nLZt26bx48ebjgdIotgBD4WpU6fqT3/6k8rKyjRhwgSNGDFCQ4cO5Zm/FsIkyNrsdrsGDRqk%2BfPnS5JycnL0zDPPaPfu3UpOTuYCF1gGtzsBHgIXL16Ut7e33N3d5ebmpvfee09nzpzRwYMH9dJLL5mOhzuorKxUdXW1vve975mOAkkzZsxQTU2NXnzxRbVs2VIJCQnq37%2B/0tPT9eabb%2Bqtt97SihUrTMcEmNgBrqy4uFixsbGKjIzU2LFjdfnyZUk3n0u6cOFCvfnmm4YT4lb5%2BfnKyMjQz372My1dutSxv2DegQMHNGvWLLVs2VKnT59WWVmZ47nZsbGxKiwsNJwQuIliB7iwOXPmqFOnTnr11Vfl6%2BurrKws5efna/To0fLz89PWrVtNR8RnNm7cqJ///OeqqalRaGioLl%2B%2BrJSUFOXm5pqOBklXrlxx3My7qKhIfn5%2B%2Bv73vy/p5i9KtbW1JuMBDtzHDnBhxcXFys3NVUBAgEJCQjRmzBj97W9/05gxYzRt2jS5ufG7nVWsWLFCWVlZioqKcqzt3btX8%2BfPV3x8vMFkkKRHH33U8aSWw4cP64knnnBsO3XqlPz9/Q2mA/4f3%2BqAC/v8Kj5JCgwM1CeffKKJEyfq%2Beefp9RZzLlz5xQREdFgrVevXjpz5oyhRLhV3759NXv2bO3YsUM5OTlKTEyUJF26dEmLFy9Wr169DCcEbuKbHXBht9/OxN3dncceWVSvXr30%2BuuvN1jbvn27nnzySUOJcKv09HRVVVVp5syZ6tevnwYNGiRJ6tOnj0pKSpSWlmY4IXATV8UCLuyJJ57Q0aNHHa979Oihw4cPG0yEu/nFL36hPXv26PHHH1f79u1lt9tVVFSk0NBQ%2Bfr6Ot6XnZ1tMCVut3//foWHh3O/QVgG59gBLuzGjRvatm2b43VtbW2D15KUlJT0oGPhDkJDQxUaGup43bFjR0VHRxtMhMZgH8FqmNgBLiwmJuae2202m3bv3v2A0qAprly5Ig8PD3l4eJiOAsCJUOwAwAJKS0u1cOFCLVu2TLm5uUpPT5ePj4%2BWL1%2BusLAw0/EAOAmKHQBYwIQJE9S6dWvNnTtXAwYM0JAhQ%2BTj46Nt27Zp06ZNpuMBcBIUOwCwgOjoaOXl5clut6tfv34qKCiQj4%2BPwsLCGlwAAwD3wu1OAMACbty4ofr6eh04cEA/%2BMEP5OvrqwsXLnC1JYAm4apYALCAJ598UmlpaTp%2B/LgmTJig8vJy/epXv9JTTz1lOhoAJ8KhWACwgOrqaq1atUqenp5KTU3V8ePHtXnzZk2fPl3e3t6m4wFwEhQ7ALCAJUuWKD4%2BXiEhIaajAHBiHIoFAAsoKSnRmjVrFBAQoISEBCUkJOhHP/qR6VgAnAwTOwCwiNraWh06dEh79uzR3r17VVdXp/j4eM2aNct0NABOgmIHABZy8eJFHTp0SAcPHtRbb70lm83G7U4ANBrFDgAsIDMzUwcOHNCJEyfUqVMnRUVFKSoqSmFhYXJ3dzcdD4CToNgBgAV07dpVbm5uGjVqlAYMGKAuXbrIZrOZjgXAyVDsAMACampqdPjwYe3fv1/79u3T2bNnFRERoejoaA0fPtx0PABOgmIHABZz5coVbdmyRa%2B%2B%2BqouXryo4uJi05EAOAludwIAFnD8%2BHH961//0r59%2B1RYWKjQ0FCNHz9ecXFxpqMBcCJM7ADAAn74wx%2BqR48eio2NVVxcnNq0aWM6EgAnRLEDAAu4dOmS/Pz8JEnnz59XQECA4UQAnJGb6QAAAKl58%2BZatGiRwsLCFBMTo7KyMg0dOlSVlZWmowFwIhQ7ALCAJUuWKD8/X4sXL5a7u7u%2B/e1vKzAwUHPmzDEdDYAT4eIJALCAnJwcrV%2B/Xm3atJHNZlPz5s01b948xcfHm44GwIkwsQMAC7h69arjvLrPT3328vKSmxtf0wAaj28MALCAbt26aenSpZLkeOLE2rVr1aVLF5OxADgZrooFAAsoLy/XuHHjdOPGDZ07d07t27dXdXW1Vq9erQ4dOpiOB8BJUOwAwCKuXbumvLw8nT59WoGBgXrqqafk6%2BtrOhYAJ0KxAwAAcBFcFQsABsXExDjOqbsTm82mXbt2PcBEAJwZxQ4ADEpLS7vjemFhoTZs2KDOnTs/4EQAnBmHYgHAYlatWqWFCxdq%2BPDhysjIkIeHh%2BlIAJwEEzsAsIhLly7p17/%2Btf7973/rlVdeUf/%2B/U1HAuBkKHYAYAGFhYVKT0%2BXv7%2B/tmzZouDgYNORADghblAMAIatXLlSKSkpio2N1RtvvEGpA/CVcY4dABg0ceJE7d27V2PGjFFCQsId3xMeHv6AUwFwVhQ7ADAoJCTkntttNpuKi4sfUBoAzo5iBwAA4CI4xw4AAMBFUOwAAABcBMUOAADARVDsAAAAXATFDgAAwEVQ7AAAAFwExQ4AAMBFUOwAAABcxP8B1JpvRioqW0QAAAAASUVORK5CYII%3D\" class=\"center-img\">\n",
       "    <img src=\"data:image/png;base64,iVBORw0KGgoAAAANSUhEUgAAAnYAAAIqCAYAAACpGAd1AAAABHNCSVQICAgIfAhkiAAAAAlwSFlzAAAPYQAAD2EBqD%2BnaQAAADl0RVh0U29mdHdhcmUAbWF0cGxvdGxpYiB2ZXJzaW9uIDMuMC4yLCBodHRwOi8vbWF0cGxvdGxpYi5vcmcvOIA7rQAAIABJREFUeJzs3Xt8z/X///H7xtgJk22UQzSGEDOsQjF8fJyFH1EkURnbyCk6CJFq1QdL%2BUj5OJWcSqX0IUmnLRkfHeas5vDZMYedN3v//thn7693m0yvt94vL7fr5fK%2BrD1fhz3ez2nvx%2B7P1%2Bs9N5vNZhMAAACuee6uLgAAAADOQWMHAABgETR2AAAAFkFjBwAAYBE0dgAAABZBYwcAAGARNHYAAAAWQWMHAABgETR2AAAAFlHR1QUA%2BGslJiZq/fr1%2Buabb5ScnKy8vDzdcMMNatSokTp16qRBgwbJ09PT1WUCAP4EN/6kGHD9WLhwoV577TUVFRXJ19dX9erVk4eHh1JTU3Xq1ClJ0o033qhXX31VzZo1c3G1AIArRWMHXCc2bNigGTNmyNvbW88995y6deumChUq2LcfOXJEM2bM0N69e1W9enVt2bJFN9xwgwsrBgBcKa6xA64Tr7/%2BuiRp6tSp%2Bvvf/%2B7Q1ElSUFCQXnvtNdWoUUO//fabVqxY4YoyAQAG0NgB14Fz587p119/lSS1bNnykvvdcMMN6tq1qyTpP//5z19SGwDAebh5ArgOVKz4f/%2Br79ixQ7feeusl942MjNSIESNUo0YN%2B9jjjz%2BuTZs2afr06erYsaNeeeUVfffdd8rPz9fNN9%2Bse%2B65R/fee68qV65c5jm/%2B%2B47rVy5Unv27NGZM2dUtWpVtWrVSsOHD9cdd9xR5jHnzp3TO%2B%2B8o507d%2Brw4cPKzMyUl5eX6tWrp86dO2vEiBGqVq2awzGNGzeWJH311VeaP3%2B%2Btm/fLnd3dzVr1kxvvvmmnnzySW3atEnPPvus2rZtq0WLFunbb7/V%2BfPnVadOHf2///f/NHLkSLm5uenTTz/Vv/71L/38888qKipSkyZNNHbsWN19992las3NzdWGDRu0bds2HThwQOfOnVOlSpV00003qUOHDnrwwQdVs2ZNh2PCw8N18uRJbdmyRenp6XrjjTe0b98%2BZWdnq06dOurRo4ceeugh%2Bfj4XPJ7BQC/xzV2wHVi6NCh2rNnj9zc3NSvXz8NGjRIrVu3LrUkW5aSxm7AgAHaunWrsrOz1ahRIxUWFuro0aOSpNDQUC1ZskRVqlRxODYmJkZLly6VJFWrVk116tRRSkqKUlNTJUmjR4/WlClTHI45fvy4Ro4cqdOnT6tixYqqV6%2BevLy8dPLkSZ05c0aS1KBBA23YsMGh8Slp7Fq3bq2EhAQFBwcrIyNDYWFheumllxyex8cff6zCwkIFBQUpPT3dXs/DDz8sNzc3LVmyRFWrVlXdunV17NgxZWdny83NTf/85z9111132b9mRkaGHnjgAR08eFBubm6qV6%2BeqlSpouTkZPs5a9SooY0bN6pWrVr240oauwcffFDLly9XpUqVVL9%2BfZ09e1b//e9/JUkhISFavXp1ub5HACBJsgG4Lvz444%2B2Vq1a2YKDg%2B2P1q1b28aMGWNbsmSJbe/evbYLFy6Ueey0adPsx3Tu3Nn2008/2bft2bPHduedd9qCg4NtTz31lMNxb7/9ti04ONjWpk0b2/vvv28fLyoqsn300Uf2et59912H4%2B6//35bcHCwbfDgwbbk5GSH4zZt2mRr0qSJLTg42LZq1SqH40pqbN68uS0%2BPt5ms9lsFy5csP3222%2BlnsfQoUNtKSkp9n0ef/xxW3BwsK1Jkya2xo0b25YtW2afj4yMDFv//v1twcHBtvvvv7/MuenWrZvt2LFjDtu%2B%2BOILW8uWLW3BwcG2%2BfPnO2zr3LmzvZbHH3/cdu7cOftzXLVqlX3bv//97zK/JwBQFq6xA64Tt956q9atW6fQ0FD7WGZmpnbu3KmXXnpJgwcPVocOHfTKK68oJyenzHO4u7tr8eLFatq0qX0sJCREzz//vCRp3bp1Sk5OliTl5%2Bdr0aJFkqR58%2Bapb9%2B%2B9mPc3NzUs2dPe1K3aNEiFRYWSpLS09N16NAhSdKcOXMUGBjocFz//v3Vrl07SdKBAwfKrLNHjx5q27atvWY/Pz%2BH7RUrVtTLL7%2BsgIAA%2Bz4PP/ywJKmoqEj9%2BvXTqFGj5O5e/COyevXqGjFihCTpp59%2Bsp%2BnsLBQu3fvlpubm6ZPn6769es7fJ2OHTuqZ8%2BekqSDBw%2BWWWuTJk00b948e9Lp5uam%2B%2B67z54%2Bfv/992UeBwBlobEDriMNGzbUmjVr9N5772n8%2BPEKCQmRh4eHfXt6erpef/119e3b174ceLHbb79dTZo0KTXeoUMH1alTR0VFRdqxY4ckKSEhQWlpafLx8VGXLl3KrKdv375yd3dXcnKyvWGqUaOGvv32W%2B3bt0/BwcGljrlw4YJ8fX0lFV/bVpaLm9eyNG7c2GFZVJJq165t/%2B%2ByrqMraTAzMzPtYxUrVtS2bdu0b98%2BderUqdQxNptN3t7ef1hrp06d5ObmVmr8lltukSSdP3/%2BD58LAFyMmyeA61DTpk3VtGlTRUZGKicnR3v27NGXX36p999/X%2Bnp6fr1118VHR2ttWvXOhx32223XfKcjRs31okTJ3T8%2BHFJsqduBQUFuu%2B%2B%2By55XIUKFVRUVKSjR486nN/T01OnT5/Wvn379OuvvyopKUlHjhzRzz//rOzsbEnF6VpZSpK4S7nxxhtLjVWqVMn%2B39WrVy%2B1/eIbUH6vcuXKSk9P1969e3X8%2BHGdOHFCR48e1c8//6yzZ8/%2BYa0XJ5IXK/nrHxcuXLj0EwGA36GxA65zXl5eat%2B%2Bvdq3b6/o6GjNmDFDH330kfbu3asff/zR4S9Q/P4u1IuVJFPnzp2T9H9JU35%2Bvvbs2XPZOkqOk6SjR4/qhRde0M6dOx0aIl9fX7Vp00YpKSlKTEy85Lku9yfRvLy8/nB7yRJseaSmpur555/XJ598ooKCAoev0aJFC124cOEPl1MvbijLYuP%2BNgBXgMYOuA48/fTT%2Bvbbb3XPPfdo7Nixl9zP09NTs2fP1qeffqqCggIdO3bMobErScrKUrJEWfI2KSXNU7NmzbRx48Zy15qenq77779f6enpuummmzR48GDdeuutuuWWW1SnTh25ublp0qRJf9jY/VXy8vL0wAMP6MiRI/Lz89PQoUPVvHlzBQUFqV69eqpQoYJeeeUVrpMD8JehsQOuA3l5efrll1%2B0bdu2P2zspOJUzMfHR2fOnCn1J8VKllfLUtJoNWzYUFLx25FIxW9dUlhYWOZSps1mU1xcnGrVqqWbbrpJlSpV0oYNG5Seni4/Pz9t2LChzD9rVnKDhqtt27ZNR44cUcWKFbV27dpSN09IKvNaRQC4Wrh5ArgOlNyR%2BsMPP1w2Pfvyyy915swZ%2Bfn5lforFV988YX9vdkutmPHDp0%2BfVqVKlVSeHi4JKlt27aqUqWKsrKyLvk1P/jgAz3wwAPq0aOHvQE6ceKEJOmmm24qs6k7fPiw9u7dK8n115%2BV1Orj41NmU5eWlqbPP/9ckutrBXB9oLEDrgPt27dX9%2B7dJUlPPvmk5s6da29KSuTl5WnDhg2aMGGCJCk6OrrUXz3Izs5WRESETp8%2BbR%2BLi4vT9OnTJRW/uW/J23Z4e3vb30Jk7ty52rBhg8P1ctu2bdPMmTMlFb89Sb169ST9392giYmJ2rp1q31/m82mL774QqNHj7Zfy3apt2X5q5TUevbsWf3rX/9yuB5u7969evDBB%2B1vqOzqWgFcH1iKBa4TMTEx8vb21nvvvacVK1ZoxYoVuummm1SjRg3l5eXp%2BPHjys/Pl4eHhyZNmqRhw4aVOkf9%2BvX1888/q2vXrgoODlZ2drb9LtjevXvrkUcecdh/zJgxSkpK0rvvvqsZM2boxRdfVJ06dZScnKyUlBRJxX8l4tlnn7UfM2jQIK1Zs0a//PKLoqKiVLt2bVWvXl2nT59Wenq6PDw81K5dO8XHx7t8STY8PFwhISFKSEjQvHnztHTpUtWsWVOpqalKTk6Wm5ub7rzzTn399ddKSUmRzWYr861NAMBZaOyA60SlSpU0f/583XfffdqyZYvi4uKUnJysxMREeXl5qUGDBurQoYMGDRpkT6J%2Br0WLFoqJidHChQv1/fffq2LFimrXrp2GDh1qfyPei7m5uWnOnDnq3r273nnnHe3du1c///yzKleurFatWql3794aMmSIw52hvr6%2BWr9%2BvZYuXaodO3boxIkTSktLU61atdSpUyc98MAD8vb2VteuXZWYmKhTp07ppptuumrz9kcqVKig5cuXa%2BXKlfroo4%2BUlJSkgwcPKiAgQD179tR9992nZs2aKSwsTGfOnNGePXsu%2Bx57AGAEfysWwGWV/I3VPn36KCYmxtXlAAAugWvsAAAALILGDgAAwCJo7AAAACyCxg4AAOAyMjIy1K1bN8XFxV1yn507d6pPnz5q1aqVevTooR07djhsX7p0qe666y61atVKw4cP19GjR51eJ40dgMuaP3%2B%2BDhw4wI0TAK5L33//vYYMGaJff/31kvscP35ckZGRio6O1u7duxUZGakJEybY35Zp06ZNWrlypZYtW6a4uDg1a9ZMUVFRTv970DR2AAAAl7Bp0yZNnjxZEydOvOx%2Bbdq0UdeuXVWxYkX17NlTbdu21dq1ayVJ7777roYNG6ZGjRqpcuXKmjRpkk6dOvWHCeCfQWMHAAAsKyUlRT/%2B%2BKPDo%2BQN0sujQ4cO%2Bve//13me3Ve7PDhwwoODnYYa9iwof3vaP9%2Bu4eHh%2BrXr2/f7iy8QbErWe0d6Bs0kA4dkho1ko4dc3U1zvO/PwllCW5uUpUq0vnzktXewtLdQr%2BnurlJPj5SVpb1vk933%2B3qCpyndm3pvfek/v2lkyddXY1z7dnjmq97FV4X1y5cqNjYWIex8ePHKzIyslzHBwQElGu/rKwseXl5OYx5enoqOzu7XNudhcYOzuPnJ1WoUPwR5uTm9n8PqzUMVsL36dpQpUrxz7z//X1kmNOQIUMUHh7uMFbeZu1KeHl5KTc312EsNzfX/je3L7fdWWjsAACAOVyF5D0wMFCBgYFOP%2B/vBQcH68cff3QYO3z4sJo3by5JatSokQ4dOqTOnTtLkgoKCnT8%2BPFSy7dGWWjtAgAAwDX69u2r%2BPh4bdmyRYWFhdqyZYvi4%2BPVr18/SdLAgQO1atUqJSYmKi8vTy%2B99JL8/f3Vpk0bp9ZBYgcAAMzhGrtWNiQkRLNmzVLfvn0VFBSkV199VTExMXriiSdUu3ZtLVq0SA0aNJAkDRo0SOfPn9e4ceOUkZGhFi1aaMmSJfLw8HBqTTR2AADAHEze2B04cMDh84SEBIfPO3bsqI4dO5Z5rJubm0aNGqVRo0ZdtfoklmIBAAAsg8QOAACYg8kTu2sBMwgAAGARJHYAAMAcSOwMo7EDAADmQGNnGDMIAABgESR2AADAHEjsDGMGAQAALILEDgAAmAOJnWE0dgAAwBxo7AxjBgEAACyCxA4AAJgDiZ1hzCAAAIBFkNgBAABzILEzjMYOAACYA42dYcwgAACARZDYAQAAcyCxM4wZBAAAsAgSOwAAYA4kdobR2AEAAHOgsTOMGQQAALAIEjsAAGAOJHaGMYMAAAAWQWIHAADMgcTOMBo7AABgDjR2hjGDAAAAFkFiBwAAzIHEzjBmEAAAwCJI7AAAgDmQ2BlGYwcAAMyBxs4wZhAAAMAiSOwAAIA5kNgZRmMHAADMgcbOMGYQAADAIkjsAACAOZDYGcYMAgAAWASJHQAAMAcSO8No7AAAgDnQ2BnGDAIAAFgEiR0AADAHEjvDmEEAAACLILEDAADmQGJnGI0dAAAwBxo7w67rxu7pp5/WBx98IEkqLCxUQUGBvLy8JEk5OTmy2Wx6//331aRJE4fjLly4oK5du%2BqBBx7QyJEj/%2BqyAQDAXyQ9PV1PPfWU4uPjVaFCBfXt21fTpk1TxYqOLdTo0aP1/fffO4xlZ2dryJAhmj17ttLS0tS%2BfXt5e3vbt1evXl2fffaZU%2Bu9rhu72bNna/bs2ZKkjRs3KjY21mGCBwwYoHXr1umpp55yOO7zzz/XmTNnNGjQoL%2B0XgAALM2Eid2ECRNUs2ZN7dq1S2lpaRo7dqyWL1%2Bu0aNHO%2Bz3xhtvOHy%2Bfv16xcbGavz48ZKk/fv3q3bt2k5v5H7PfDNoIsOHD9fmzZuVm5vrML5mzRoNHDhQvr6%2BLqoMAABcbb/88ovi4%2BM1ZcoUeXl5qW7duoqIiNDq1av/8LijR49qzpw5iomJUWBgoKTixq558%2BZXvebrOrG7nF69eumFF17QJ598ov79%2B0uSkpKS9M0335RK8S4nJSVFqampDmMBDRoo0M/PafW6XMmS9e%2BWrq95JvwN8k8reS5Wek4lrPScrPx9stLPh/r1HT9aRWKi6772Vfg3X%2Bbrb0CAveH6I4cOHZKfn59q1qxpHwsKCtKpU6d07tw5Va1atczjZs2apf79%2B6tNmzb2sf379%2Bvs2bPq3bu30tLS1KJFC02bNk0NGzb8k8%2BsbDR2f6BSpUoaPHiw1q1bZ2/s3n77bXXo0EH1r/B/5LVr1yo2NtZhbHx0tCKjo51VrnmsWePqCnA5Pj6urgDl8b9rfi3Fij8f5s1zdQXO1bq16772VWjsynz9HT9ekZGRlz02KyvLfu19iZLPs7Ozy2zsdu/erX379ikmJsZhvGrVqmrYsKHGjBmjSpUqacGCBXrwwQe1ZcsWValS5Uqf1iXR2F3GsGHDtGzZMh05ckR169bVxo0bS32zymPIkCEKDw93GAvo00f617%2BcVarrNWlS/EN72DDX/sbnbDt3uroC53F3L27qsrKkoiJXV%2BNcVkq33N2Lm7qcHOt9n8aMcXUFzlO/fnFTN2OGdPy4q6vBJZT5%2BhsQUK5jvb29lZOT4zBW8rnPJX5BXrt2rXr06FHqa7z00ksOn0%2BfPl0bNmzQ7t271blz53LVUx40dpdRs2ZNdenSRevXr1fTpk1VvXp1tW/f/orPExgYWDr2PXbMSVWaTGKilJDg6iqcx2ovrFLxc7Li87IaK36frPRLX4njx635vFzhKvyCVubrbzk1atRIZ86cUVpamvz9/SVJR44cUa1atcpM2QoLC7V9%2B3a9%2BuqrDuOZmZl69dVXdf/996t27dqSit9ho7CwUJ6enn%2Bqtkux0K%2B4V8/w4cP14YcfatOmTRo%2BfLjc3NxcXRIAALjK6tevr9DQUM2bN0%2BZmZlKSkrS4sWLL/muGAcOHFBeXp5a/24529fXV19//bWef/55nT9/XllZWZozZ47q1KnjcB2eM9DYlUObNm3k7%2B%2BvH374wX6tHQAAcDJ3d%2Bc/DFq4cKEKCwvVpUsXDR48WB07dlRERIQkKSQkRJs3b7bvm5SUpGrVqqly5cqlzrN48WIVFRWpa9eu6tixo1JTU7V06VJ5eHgYrvFibjabzebUM6L8rJb8hYRIe/YUX3hrpaXYM2dcXYHzuLtLVapI589bb4nPatfYWfVayLvvdnUFzmPV64ql4p/lrtC9u/PPuXWr889pYhb6SQgAAHB94%2BYJAABgDlZK3l2EGQQAALAIEjsAAGAOJHaG0dgBAABzoLEzjBkEAACwCBI7AABgDiR2hjGDAAAAFkFiBwAAzIHEzjAaOwAAYA40doYxgwAAABZBYgcAAMyBxM4wZhAAAMAiSOwAAIA5kNgZRmMHAADMgcbOMGYQAADAIkjsAACAOZDYGcYMAgAAWASJHQAAMAcSO8No7AAAgDnQ2BnGDAIAAFgEiR0AADAHEjvDaOwAAIA50NgZxgwCAABYBIkdAAAwBxI7w5hBAAAAiyCxAwAA5kBiZxiNHQAAMAcaO8OYQQAAAIsgsQMAAOZAYmcYMwgAAGARJHYAAMAcSOwMo7EDAADmQGNnGDMIAABgESR2AADAHEjsDGMGAQAALILEDgAAmAOJnWE0dgAAwBxo7AxjBgEAACyCxA4AAJgDiZ1hzCAAAIBFkNgBAABzILEzjMYOAACYA42dYcwgAADAJaSnpysiIkJt2rRRWFiY5s6dq8LCwjL3HT16tFq0aKGQkBD744svvpAkXbhwQc8//7zuvPNOhYSEaOzYsUpJSXF6vTR2AADAHNzdnf8waMKECfL29tauXbu0fv16ffPNN1q%2BfHmZ%2B/7www9atmyZEhIS7I%2B77rpLkvTaa6/pq6%2B%2B0oYNG7Rr1y55enrqySefNFzf79HYAQAAlOGXX35RfHy8pkyZIi8vL9WtW1cRERFavXp1qX2TkpJ09uxZ3XrrrWWea926dRozZoxuvPFG%2Bfr66oknntAXX3yhpKQkp9bMNXaudOaMqytwrpLfjHbulIqKXFuLM/n5uboC5wkJkfbske6%2BW0pIcHU1zrVxo6srcJ5q1aTwcCkuTjp71tXVOFenTq6uwHlq1y7%2BGBoq1arl2lqs4ipcY5eSkqLU1FSHsYCAAAUGBl722EOHDsnPz081a9a0jwUFBenUqVM6d%2B6cqlatah/fv3%2B/fHx8NHHiRO3fv1/%2B/v4aOXKkBg0apPPnz%2Bu///2vgoOD7fv7%2B/urWrVqOnDggOrWreuEZ1qMxg4AAJjDVWjs1q5dq9jYWIex8ePHKzIy8rLHZmVlycvLy2Gs5PPs7GyHxi4/P1%2BtWrXSxIkT1ahRI8XFxSkyMlI%2BPj4KCQmRJHl7ezucy9PTU1lZWX/qeV0KjR0AALCsIUOGKDw83GEsICCgXMd6e3srJyfHYazkcx8fH4fx/v37q3///vbPO3TooP79%2B%2Bvjjz/WnXfe6XBsidzc3FLnMYrGDgAAmMNVSOwCAwPLtexalkaNGunMmTNKS0uTv7%2B/JOnIkSOqVauWqlSp4rDv%2BvXr5ePjox49etjH8vPzVblyZVWrVk01a9bU4cOH7cuxqampOnPmjMPyrDNw8wQAAEAZ6tevr9DQUM2bN0%2BZmZlKSkrS4sWLNWjQoFL7ZmZmas6cOfrpp59UVFSkzz//XB9%2B%2BKGGDBkiSRowYIBee%2B01JSUlKTMzU/PmzVO7du1Ur149p9ZMYgcAAMzBhG9QvHDhQs2ePVtdunSRu7u7%2Bvfvr4iICElSSEiIZs2apb59%2B%2BqBBx5Qdna2xo8fr/T0dNWtW1fPP/%2B82rRpI0kaN26cCgsLdd999ykrK0thYWH6xz/%2B4fR6aewAAIA5mLCx8/f318KFC8vclnDRuwu4ubkpIiLC3vT9noeHhyZPnqzJkydflTpLmG8GAQAA8KeQ2AEAAHMwYWJ3rWEGAQAALILEDgAAmAOJnWE0dgAAwBxo7AxjBgEAACyCxA4AAJgDiZ1hzCAAAIBFkNgBAABzILEzjMYOAACYA42dYcwgAACARZDYAQAAcyCxM4zGDgAAmAONnWHMIAAAgEWQ2AEAAHMgsTOMGQQAALAIEjsAAGAOJHaG0dgBAABzoLEzjBkEAACwCBI7AABgDiR2hjGDAAAAFkFiBwAAzIHEzjAaOwAAYA40doYxgwAAABZBYgcAAMyBxM4wZhAAAMAiSOwAAIA5kNgZRmMHAADMgcbOMGYQAADAIkjsAACAOZDYGcYMAgAAWASJHQAAMAcSO8No7AAAgDnQ2BnGDAIAAFgEiR0AADAHEjvDmEEAAACLILEDAADmQGJnGI0dAAAwBxo7w5hBAAAAiyCxAwAA5kBiZxgzCAAAYBEkdgAAwBxI7AyjsQMAAOZAY2fYNdnYhYeHKzU1VRUrFpdvs9nk7u6upk2b6oknntCtt956xed8/PHHJUnz58/X66%2B/rt27d%2BuNN95wat0AAODakp6erqeeekrx8fGqUKGC%2Bvbtq2nTptl7kIu9/fbbWr58uVJSUhQYGKgRI0bovvvukyQVFRUpNDRUNptNbm5u9mO%2B%2BuoreXt7O63ea7Kxk6RZs2ZpwIAB9s/T0tL05JNPavz48dq2bZvcDXT9jz76qDNKBAAAV8KEid2ECRNUs2ZN7dq1S2lpaRo7dqyWL1%2Bu0aNHO%2By3bds2vfzyy1q6dKlatmypvXv36uGHH5a/v7%2B6d%2B%2Buw4cPq6CgQHv27FGlSpWuWr3mm8E/yd/fX0OGDNHJkyd15swZ7dmzRyNGjFCHDh3UokULDRgwQHv37rXvv337dvXq1UutWrXSI488ot9%2B%2B82%2BbdGiRRo%2BfLj9823btmnAgAFq3bq1unfvruXLl6uoqOgvfX4AAOCv9csvvyg%2BPl5TpkyRl5eX6tatq4iICK1evbrUvsnJyRozZoxatWolNzc3hYSEKCwsTN99950kaf/%2B/WrcuPFVbeqkazix%2B73Tp09r1apVatGihby9vTV27FhFRUVp6NChys3N1YwZM/TCCy9ozZo1Onr0qKKjozVv3jz17NlTn3/%2BuaKiotS3b99S5/322281YcIEvfDCC/rb3/6mAwcOKCIiQpI0cuTIcteXkpKi1NRUh7EALy8FBgQYet6mUvKblgl/4zIkJMTVFThPkyaOH62kWjVXV%2BA8vr6OH62kdm1XV%2BA8gYGOH63i5EnXfe2r8PpR5utvQIACy/F9O3TokPz8/FSzZk37WFBQkE6dOqVz586patWq9vGSJdcS6enp%2Bu677zR9%2BnRJxY1dXl6eBg4cqJMnTyooKEiTJk1S69atjTy9Uq7Zxm7WrFmaN2%2BeCgsLVVBQoFq1aqlbt2565JFH5OHhobVr1%2Brmm29WXl6eTp48KT8/P%2B3fv1%2BStGXLFjVv3tzeyHXt2lWdO3cu8%2Bts3LhRXbp0Uc%2BePSVJzZo108MPP6yVK1deUWO3du1axcbGOoyNHzdOkVFRf%2BLZm5yPj6srcK49e1xdgfOtWePqClAe7dq5ugLnCw93dQXOd9EKjyU89pjrvvZVaOzKfP0dP16RkZGXPTYrK0teXl4OYyWfZ2dnOzR2F0tNTdUjjzyi5s2bq3fv3pIkT09P3XbbbYqOjla1atW0evVqPfTQQ9q8ebPq1q37Z55ama7Zxm7mzJkaMGCA8vPztWLFCr3%2B%2Buu6%2B%2B67Vb16dUlSXFycxowZo%2BzsbDVs2FAVK1ZZbONKAAAgAElEQVSUzWaTVByX3nTTTQ7nq1evnsNybIn09HQ1bdrUYaxOnTo6eYW/0QwZMkThv/uBFuDlJZ0/f0XnMTV39%2BKmLitLstJS9d13u7oC52nSpLipGzZMSkx0dTXOFRPj6gqcx9e3uKmLj5cyM11djXMlJLi6AucJDCxu6laulFJSXF0NLqHM199yrpZ5e3srJyfHYazkc59LhBh79%2B5VdHS02rRpo%2Beee85%2Bk0XJTZolHnroIW3cuFE7d%2B7U/fffX656yuOabexKVKpUSaNHj9bZs2cVERGht99%2BW3l5eZozZ47eeecdNW/eXJL05ptv6tixY5KkWrVq6fPPP3c4z3//%2B19Vrly51Plr166tX3/91WEsKSmp3P8oSgQGBpaOfc%2BetVYDVKKoyFrPy0ovRCUSE633vM6edXUFzpeZab3n5cplvqslJcWaz8sVrkJiV%2Bbrbzk1atRIZ86cUVpamvz9/SVJR44cUa1atVSlSpVS%2B69fv17PPvusoqKiNGrUKIdtr7zyirp37%2B7wzh35%2Bfll9h5GWOZiqAkTJqhx48Z67LHHlJqaKnd3d3l6ekoq7p5XrFih/Px8SVLfvn118OBBvfvuuyosLNSXX36pf//732Wed%2BDAgfrss8/08ccf68KFC/rpp5%2B0dOlSDRw48C97bgAA4K9Xv359hYaGat68ecrMzFRSUpIWL16sQYMGldp369ateuaZZ7Ro0aJSTZ0kHTx4UHPnzlVqaqry8/MVGxurzMxMdevWzak1W6axq1Chgl588UUlJyfrq6%2B%2B0rBhw3Tfffepbdu2mjVrloYPH66MjAylpaWpbt26ev3117V69WqFhoZq8eLFl5zYli1basGCBVq6dKnatGmj8ePHa%2BjQobwlCgAAzubu7vyHQQsXLlRhYaG6dOmiwYMHq2PHjvabKENCQrR582ZJUmxsrC5cuKCoqCiFhITYH08//bQk6bnnnlO9evXUr18/hYWFKT4%2BXm%2B99Zb8/PwM13gxN1vJhWf461lticXdXapSpfi6QSstxTr5fzqXCgkpvhmkdWvrLcVu3OjqCpynWrXimww%2B%2B8x6Pyd27XJ1Bc5Tu7Y0aZL00kvWW4p9%2BWXXfN1vvnH%2BOe%2B4w/nnNDHLJHYAAADXu2v%2B5gkAAGARVnsfVBegsQMAAOZAY2cYMwgAAGARJHYAAMAcSOwMYwYBAAAsgsQOAACYA4mdYTR2AADAHGjsDGMGAQAALILEDgAAmAOJnWHMIAAAgEWQ2AEAAHMgsTOMxg4AAJgDjZ1hzCAAAIBFkNgBAABzILEzjBkEAACwCBI7AABgDiR2htHYAQAAc6CxM4wZBAAAsAgSOwAAYA4kdoYxgwAAABZBYgcAAMyBxM4wGjsAAGAONHaGMYMAAAAWQWIHAADMgcTOMGYQAADAIkjsAACAOZDYGUZjBwAAzIHGzjBmEAAAwCJI7AAAgDmQ2BnGDAIAAFgEiR0AADAHEjvDaOwAAIA50NgZxgwCAABYBIkdAAAwBxI7w5hBAAAAiyCxAwAA5kBiZxiNHQAAMAcaO8OYQQAAAIsgsQMAAOZAYmcYMwgAAGARJHYAAMAcSOwMo7EDAADmQGNnGDMIAABwCenp6YqIiFCbNm0UFhamuXPnqrCwsMx9d%2B7cqT59%2BqhVq1bq0aOHduzY4bB96dKluuuuu9SqVSsNHz5cR48edXq9NHYAAMAc3N2d/zBowoQJ8vb21q5du7R%2B/Xp98803Wr58ean9jh8/rsjISEVHR2v37t2KjIzUhAkTlJycLEnatGmTVq5cqWXLlikuLk7NmjVTVFSUbDab4RovRmMHAABQhl9%2B%2BUXx8fGaMmWKvLy8VLduXUVERGj16tWl9t20aZPatGmjrl27qmLFiurZs6fatm2rtWvXSpLeffddDRs2TI0aNVLlypU1adIknTp1SnFxcU6tmWvsXMlq1xKUPB%2BrPa%2BNG11dgfNUq1b8MSZGOnvWtbU424ABrq7AeUJCpD17pMmTpYQEV1fjXHv2uLoC5/HyKv7Yq5eUk%2BPaWqziKrx%2BpKSkKDU11WEsICBAgYGBlz320KFD8vPzU82aNe1jQUFBOnXqlM6dO6eqVavaxw8fPqzg4GCH4xs2bKjExET79jFjxti3eXh4qH79%2BkpMTNTtt9/%2Bp55bWWjsAACAKdjk5vRzrl27VrGxsQ5j48ePV2Rk5GWPzcrKkldJA/8/JZ9nZ2c7NHZl7evp6ans7OxybXcWGjsAAGBZQ4YMUXh4uMNYQEBAuY719vZWzu/S2JLPfXx8HMa9vLyUm5vrMJabm2vf73LbnYXGDgAAmEJRkfPPGRgYWK5l17I0atRIZ86cUVpamvz9/SVJR44cUa1atVSlShWHfYODg/Xjjz86jB0%2BfFjNmze3n%2BvQoUPq3LmzJKmgoEDHjx8vtXxrlMUuhgIAANeqoiLnP4yoX7%2B%2BQkNDNW/ePGVmZiopKUmLFy/WoEGDSu3bt29fxcfHa8uWLSosLNSWLVsUHx%2Bvfv36SZIGDhyoVatWKTExUXl5eXrppZfk7%2B%2BvNm3aGCvyd2jsAAAALmHhwoUqLCxUly5dNHjwYHXs2FERERGSpJCQEG3evFlS8U0Vr776qpYsWaK2bdtq8eLFWrRokRo0aCBJGjRokEaOHKlx48bp9ttv108//aQlS5bIw8PDqfWyFAsAAEzhaizFGuXv76%2BFCxeWuS3hd3etd%2BzYUR07dixzXzc3N40aNUqjRo1yeo0XI7EDAACwCBI7AABgCmZM7K41NHYAAMAUaOyMYykWAADAIkjsAACAKZDYGUdiBwAAYBEkdgAAwBRI7IyjsQMAAKZAY2ccS7EAAAAWQWIHAABMgcTOOBI7AAAAiyCxAwAApkBiZxyNHQAAMAUaO%2BNYigUAALAIEjsAAGAKJHbGkdgBAABYBIkdAAAwBRI742jsAACAKdDYGcdSLAAAgEWQ2AEAAFMgsTOOxA4AAMAiSOwAAIApkNgZR2MHAABMgcbOOJZiAQAALILEDgAAmAKJnXEkdgAAABZBYgcAAEyBxM44GjsAAGAKNHbGsRQLAABgESR2AADAFEjsjCOxAwAAsAgSOwAAYAokdsbR2AEAAFOgsTOOpVgAAACLILEDAACmQGJnHIkdAACARZDYAQAAUyCxM47GDgAAmAKNnXEsxQIAAFgEiR0AADAFEjvjaOwAAIAp0NgZx1IsAACARZDYAQAAUyCxM%2B6KErvGjRvr4Ycfls1mcxjfuHGjwsPDnVoYAACA2WVnZ2v69OkKCwtTaGiopk6dqqysrEvuv3XrVvXr10%2BtW7dWeHi4YmNjVXRRR9ujRw%2B1bNlSISEh9seRI0fKXc8VL8Xu3LlTb7zxxpUeBgAA8IeKipz/uNrmzJmj06dPa%2BvWrfr00091%2BvRpxcTElLnvDz/8oKlTp2rChAnavXu3li5dqo0bN2r58uWSpMzMTB07dkxbtmxRQkKC/REUFFTueq64sRs%2BfLgWLFigPXv2XHKfX3/9VY8%2B%2BqjCwsLUuXNnvfLKK8rPz9fZs2fVrFkz/fzzz5KkvLw83XbbbXrxxRftx0ZFRWnBggXKzMzUxIkTFRYWpvbt2%2Buhhx6yd6yLFi1SRESEIiMj1apVK4WHh2vt2rX2cxw5ckSPPPKIOnXqpNtuu009e/bUjh07JEknTpxQ48aNtXLlSrVv316hoaGaMmWKMjMz7cd/9NFH6tOnj0JDQzVgwAB9%2BeWXDs//8ccfV%2BfOndWpUyeH4wAAwJ93rTV2OTk5%2BuCDDxQVFSU/Pz/VqFFDkydP1saNG5WTk1Nq/5MnT%2Bree%2B9V586d5e7urqCgIHXr1k3fffedpOLGz8/PT7Vr1/7TNV3xNXbdunWTzWbTY489pvfee09%2Bfn4O27OzszVy5Ej16tVLCxYsUEZGhqKiolRUVKRJkyapXbt2%2BuKLL9S0aVPFx8fLzc1NX3/9tSQpPz9fX375pcaOHas333xTmZmZ2rlzp9zd3fX0008rJiZGr732miRp%2B/btevzxx/Xyyy8rLi5Ojz76qOrVq6c77rhDkZGR6tKli2JjY2Wz2RQTE6NnnnlGnTt3ttf56aef6oMPPtCFCxc0btw4zZo1Sy%2B%2B%2BKJ27typmTNn6rXXXlPr1q31xRdfKDIyUu%2B%2B%2B64aNWokSfr666%2B1bt06eXl5ydfXt1zzlpKSotTUVIexAG9vBQYGXum3wLzc3R0/WkW1aq6uwHlK/r2W89/tNSUkxNUVOE%2BTJo4frcTLy9UVOE/lyo4fraKMhuRaVubrb0BAuV9/c3NzlZycXOa2nJwcFRQUKDg42D4WFBSk3NxcHT9%2BXE2bNnXYv3v37urevbvDuT///HP16dNHkrR//355eXnp/vvv16FDh1S7dm1FRkY69C%2BX86dunpg2bZoSEhL0%2BOOP2xutEp9//rny8/P12GOPyc3NTTfeeKOio6MVFRWlSZMmqWvXrtqyZYseeeQRffnllxoyZIhWrVqljIwM/fDDD6pevbqaNm2qXbt2KTExUe%2B9957at2%2BvefPmyf2ihqFx48Z68MEHJUkdOnRQ9%2B7d9f777%2BuOO%2B7QkiVLVLNmTdlsNp08eVJVq1Yt9U2ZPn26brjhBknFKeHYsWM1d%2B5crVq1SkOHDlXbtm0lSZ07d1Z4eLjeeecdPfXUU5Kku%2B66SzVr1ryiOVu7dq1iY2MdxsaPG6fIqKgrOs81wUo/uCXJitePtmvn6gqc7w9WEa5Za9a4ugKUR4MGrq7AuRISXPalr0bCVubr7/jxioyMLNfx%2B/bt04gRI8rcFh0dLUny9va2j3n97zXwj66zk4qXXaOjo%2BXp6amRI0dKktzc3NSiRQs99thjuummm/TJJ58oMjJSq1atUqtWrcpV759q7CpVqqR//OMfuueee/Tmm2%2BqevXq9m0nT55URkaGvTGSJJvNpoKCAqWnp6tr16567rnndP78ee3atUvPPfec4uPj9e233youLk5/%2B9vfJEljxoxRpUqVtH79es2ePVt169bVpEmT7Nvr16/vUNONN95oX%2BJNTExURESEUlNTFRQUpBtuuKHUDR8333yzw7H5%2Bfk6c%2BaMTp48qfj4eL399tv27RcuXNDtt99u//zPpGxDhgwpdYNJgLe3dJlv/DXF3b24qcvJsdatTXFxrq7AeXx9i5u6%2BHjJapcRTJ7s6gqcp0mT4qZu2DApMdHV1TiXlZrVypWLm7pjx6S8PFdXg0so8/U3IKDcx4eFhenAgQNlbvvpp5%2B0YMEC5eTkyMfHR5LsS7B/tKJ39OhRRUVFqUaNGlqxYoV939GjRzvs17dvX3344YfaunXr1W3sJKlevXqaM2eOpk6dqgEDBtjHa9WqpXr16umTTz6xj2VmZio9PV033HCD3Nzc1KRJE23cuFFpaWlq3ry5OnTooK%2B//lq7du3SP/7xD0nSgQMHFB4erpEjR%2Br8%2BfNas2aNJk6cqG%2B//VaSSiVwJ06c0I033qjk5GRFR0crNjbW/o0suaDxYsnJybrlllvsx3p5eal69eqqVauW%2Bvfvr4cffti%2B76lTp%2BTp6Wn/3M3N7YrnKzAwsHRDeP68tRqgEn/VFat/lbNnXV2B82VmWu95uTBluGoSE633vCy2zCepuKmz4vNygavx0lHm66%2BTNGjQQB4eHjp8%2BLBatmwpqfg6fw8Pj1IBVImdO3fqscce0%2BDBgzVp0iRVrPh/rdiyZct066236o477rCP5efnq/IVLPcbuhiqZ8%2BeGjhwoMONC507d1ZWVpbeeOMN5efn69y5c5o2bZomTpxob4i6deum1157TbfffrsqVKig9u3b68MPP1RRUZG9I123bp2mTp2q9PR0%2Bfr6ytfXV97e3qpUqZIkae/evXr//fd14cIF7dy5U9u3b9fAgQOVlZWlCxcu2KPQw4cP69VXX7VPTomXXnpJmZmZSk5O1sKFC9WvXz95eHho8ODBWrFihf7zn/9IKl7vHjBggD788EMjUwUAAC7jWrt5wsvLSz169FBMTIwyMjKUkZGhmJgY9e7d2yEQKrF3716NGzdO06dP17Rp0xyaOkk6ffq0Zs2apaSkJBUWFmr9%2BvVKSEjQPffcU%2B6aDL9B8YwZM7Rv3z6dO3dOUnH0uHz5cs2fP19vvPGGioqKFBYW5nAtXteuXfXyyy%2Brffv2kqTQ0FC5ubmpa9eu9ubvscce0%2BzZs9WrVy/l5eXplltu0eLFi%2B1da9OmTbV9%2B3Y9%2B%2Byz8vf314svvqiQ/108PXXqVE2ZMkU5OTmqVauWBg8erBdffFEHDx603%2BxRr1499e7dWzk5OerTp4%2BmTJkiSfr73/%2Bu7OxszZgxQ6dOnZKfn59Gjhyp4cOHG50qAABgMTNnztTzzz%2BvPn36qKCgQF26dLFfky9JvXr1Up8%2BffToo4/q9ddfV2FhoebOnau5c%2Bfa9wkNDdUbb7yhqVOnyt3dXcOGDdP58%2BfVsGFD/fOf/3S4fOxy3Gy/v/jsGrBo0SLFx8dr5cqVV3zsiRMn1KVLF23fvl116tS5CtVdgfPnXfv1nc3dXfLxKb5u0EpLsdu2uboC56lWrfhmkM8%2Bs95S7EWXhFzzQkKKbwZp3dp6S7FWusnFy6v4esjEROstxbroLvOtW51/zotuQr0uWOx9KQAAAK5f/K1YAABgClZa7HGVa7KxK%2B97z5SlTp06l7xtGQAAuA6NnXEsxQIAAFjENZnYAQAA6yGxM47EDgAAwCJI7AAAgCmQ2BlHYwcAAEyBxs44lmIBAAAsgsQOAACYAomdcSR2AAAAFkFiBwAATIHEzjgaOwAAYAo0dsaxFAsAAGARJHYAAMAUSOyMI7EDAACwCBI7AABgCiR2xtHYAQAAU6CxM46lWAAAAIsgsQMAAKZAYmcciR0AAIBFkNgBAABTILEzjsYOAACYAo2dcSzFAgAAWASJHQAAMAUSO%2BNI7AAAACyCxA4AAJgCiZ1xNHYAAMAUaOyMYykWAADAIkjsAACAKZDYGUdjBwAATIHGzjiWYgEAACyCxA4AAJgCiZ1xJHYAAAAWQWIHAABMgcTOOBo7AABgCjR2xrEUCwAAYBEkdgAAwBRI7IwjsQMAALAIEjsAAGAKJHbG0dgBAABToLEzjqVYAAAAi6CxAwAAplBU5PzH1Zadna3p06crLCxMoaGhmjp1qrKysi65/8yZM9W8eXOFhITYH2vXrrVvX7p0qe666y61atVKw4cP19GjR6%2BoHho7AACAP2nOnDk6ffq0tm7dqk8//VSnT59WTEzMJfffv3%2B/5syZo4SEBPtjyJAhkqRNmzZp5cqVWrZsmeLi4tSsWTNFRUXJZrOVux4aOwAAYArXWmKXk5OjDz74QFFRUfLz81ONGjU0efJkbdy4UTk5OaX2z8/P18GDB9W8efMyz/fuu%2B9q2LBhatSokSpXrqxJkybp1KlTiouLK3dN3DwBAABMwYw3T%2BTm5io5ObnMbTk5OSooKFBwcLB9LCgoSLm5uTp%2B/LiaNm3qsH9iYqIKCwu1cOFCff/996pSpYoGDhyo0aNHy93dXYcPH9aYMWPs%2B3t4eKh%2B/fpKTEzU7bffXq56aexc6e67XV2BczVpIq1ZI40ZIyUmuroa5%2BnUydUVOE/t2lJ4uJSQIJ086epqnGvPHldX4DxeXsUf16yRyvit/5rWurWrK3CekJDif3fDhhX/P2UlV7D0Z3YpKSlKTU11GAsICFBgYGC5jt%2B3b59GjBhR5rbo6GhJkre3t33M63///5Z1nd358%2BfVrl07DR8%2BXC%2B//LJ%2B/vlnjRs3Tu7u7ho9erSysrLsx5fw9PRUdnZ2uWqVaOwAAIBJXI3Ebu3atYqNjXUYGz9%2BvCIjI8t1fFhYmA4cOFDmtp9%2B%2BkkLFixQTk6OfHx8JMm%2BBOvr61tq//bt26t9%2B/b2z2%2B77TY98MAD2rJli0aPHi0vLy/l5uY6HJObm2s/d3nQ2AEAAMsaMmSIwsPDHcYCAgKccu4GDRrIw8NDhw8fVsuWLSVJR44csS%2Bh/t62bduUlpame%2B%2B91z6Wn58vT09PSVKjRo106NAhde7cWZJUUFCg48ePOyz1Xg43TwAAAFO4GjdPBAYGqlmzZg6P8i7DXo6Xl5d69OihmJgYZWRkKCMjQzExMerdu7e9WbuYzWbTc889p2%2B%2B%2BUY2m00JCQlasWKF/a7YgQMHatWqVUpMTFReXp5eeukl%2Bfv7q02bNuWuicQOAACYghlvnricmTNn6vnnn1efPn1UUFCgLl266KmnnrJv79Wrl/r06aNHH31U3bp10/Tp0/XMM88oOTlZ/v7%2BioyMVL9%2B/SRJgwYN0vnz5zVu3DhlZGSoRYsWWrJkiTw8PMpdD40dAADAn%2BTr66s5c%2BZozpw5ZW7/6KOPHD6/9957HZZiL%2Bbm5qZRo0Zp1KhRf7oeGjsAAGAK12JiZzZcYwcAAGARJHYAAMAUSOyMo7EDAACmQGNnHEuxAAAAFkFiBwAATIHEzjgSOwAAAIsgsQMAAKZAYmccjR0AADAFGjvjWIoFAACwCBI7AABgCiR2xpHYAQAAWASJHQAAMAUSO%2BNo7AAAgCnQ2BnHUiwAAIBFkNgBAABTILEzjsQOAADAIkjsAACAKZDYGUdjBwAATIHGzjiWYgEAACyCxA4AAJgCiZ1xJHYAAAAWQWIHAABMgcTOOBo7AABgCjR2xrEUCwAAYBEkdgAAwBRI7IyjsQMAAKZAY2ccS7EAAAAWQWIHAABMgcTOOBI7AAAAiyCxAwAApkBiZxyNHQAAMAUaO%2BNYigUAALAIEjsAAGAKJHbGkdgBAABYBIkdAAAwBRI742jsAACAKdDYGcdSLAAAgEWQ2AEAAFMgsTOOxA4AAMAiSOwAAIApkNgZR2MHAABMgcbOOJZiAQAALOKaTuzOnj2rV155RTt27NDZs2fl6%2Bur9u3ba%2BLEiapVq9YfHnvixAl16dJF27dvV506df6iigEAwKVci4lddna25syZo88%2B%2B0yFhYXq0qWLZs6cKR8fn1L7Pv300/rggw8cxnJzc3XnnXdq2bJlKioqUmhoqGw2m9zc3Oz7fPXVV/L29i5XPdd0Yjdx4kT99ttvWr9%2Bvfbu3av33ntP%2Bfn5evDBB1VYWOjq8gAAgMXNmTNHp0%2Bf1tatW/Xpp5/q9OnTiomJKXPf2bNnKyEhwf5YtGiRqlatqscff1ySdPjwYRUUFCg%2BPt5hv/I2ddI13th9//336tatmwICAiRJ/v7%2BmjFjhlq2bKlz587pyJEjeuSRR9SpUyfddttt6tmzp3bs2FHmudLS0jR58mS1b99eHTp00NNPP63MzExJUmFhoZ555hm1b99eYWFhGjZsmL7//vu/7HkCAHA9KCpy/uNqysnJ0QcffKCoqCj5%2BfmpRo0amjx5sjZu3KicnJw/PDYjI0OTJ0/WE088oUaNGkmS9u/fr8aNG6tSpUp/uqZreim2V69emjlzpnbv3q127dqpZcuWql27tubPny9Juv/%2B%2B9WlSxfFxsbKZrMpJiZGzzzzjDp37uxwnqKiIkVERKh%2B/fraunWrCgoKNH36dD399NN6%2BeWX9f777yshIUEff/yxfHx8tHDhQs2aNUubN28ud60pKSlKTU11GAuoWVOB1asbnwizqF/f8aNV1K7t6gqcJzDQ8aOVeHm5ugLnqVzZ8aOVhIS4ugLnadLE8aNVJCS47EtfjUaszNffgAAFlvPnYG5urpKTk8vclpOTo4KCAgUHB9vHgoKClJubq%2BPHj6tp06aXPG9MTIyaN2%2Buvn372sf279%2BvvLw8DRw4UCdPnlRQUJAmTZqk1q1bl6tW6Rpv7J599lmFhYVpy5Ytevrpp3X%2B/HnVq1dPkZGR6tu3r5YsWaKaNWvKZrPp5MmTqlq1apnfnB9%2B%2BEE//vij3nrrLfua%2BLRp0/T3v/9dTz31lDw9PXXixAmtX79ed911l6KjozVx4sQrqnXt2rWKjY11GBsfEaHI6Og/PwFmNW%2BeqyvA5Qwf7uoKUB4NGri6Aufbs8fVFTjfmjWursC5Lrq2ywrKfP0dP16RkZHlOn7fvn0aMWJEmdui//cafvFSqdf/fsnMysq65DmTkpK0efNmrVu3zmHc09NTt912m6Kjo1WtWjWtXr1aDz30kDZv3qy6deuWq95rurFzd3dXv3791K9fP9lsNh05ckTvv/%2B%2Bpk6dqoCAAGVmZioiIkKpqakKCgrSDTfcIJvNVuo8J06c0IULF3T33Xc7jFeqVElJSUnq1auXCgoKtG7dOr388suqUaOGHn30UQ0dOrTctQ4ZMkTh4eEOYwGTJ0txcX/uyZtR/frFTd2MGdLx466uxnlCQ11dgfMEBhY3dStXSikprq7GuXr1cnUFzlO5cnFTd%2ByYlJfn6mqca9gwV1fgPE2aFDd1w4ZJiYmursYSrkZiV%2Bbr7/8u4SqPsLAwHThwoMxtP/30kxYsWKCcnBx7MFSyBOvr63vJc27YsEEhISGlEr2Sa%2B1KPPTQQ9q4caN27typ%2B%2B%2B/v1z1XrON3a5duxQVFaUdO3bIz89Pbm5uatiwoSZNmqSvvvpK33//vRYvXqzY2Fj7N7Tkwsbfq1Wrljw9PRUXF6cKFSpIkvLz85WUlKSbb75Zx44dU7NmzdS/f3/l5ubqk08%2B0bRp09SmTRv7uvjlBAYGlo59k5OLH1Zz/Li1fshd5g7ra1JKinTypKurcK7LXM9yTcrLs97zcuEy31WTmGjN52URZb7%2BOkmDBg3k4eGhw4cPq2XLlpKkI0eOyMPDQ/X/4LKkTz/9VKNGjSo1/sorr6h79%2B669dZb7WP5%2BfmqfAWXZVyzN0%2B0bdtWNWrU0PTp03XgwAEVFBQoMzNTmzdv1vHjx9W1a1dduHDBHokePnxYr776qqTiSbrYbbfdpptvvlnz589XVlaWcnNzNW/ePI0cOVIXLlzQjh07NH78eJ04cUKenp7y8/NTxYoVVaVKlT/oU74AABW%2BSURBVL/8eQMAYFXX2s0TXl5e6tGjh2JiYpSRkaGMjAzFxMSod%2B/e8vT0LPOY3377TUeOHFHbtm1LbTt48KDmzp2r1NRU5efnKzY2VpmZmerWrVu5a7pmGztPT0%2BtWbNGAQEBGjt2rNq0aaNOnTpp8%2BbNeuutt9SkSRNNnTpVU6ZMUWhoqKKjozVw4EB5eHjo4MGDDueqWLGilixZorS0NP3tb39Thw4d9Ouvv%2Bqtt95S5cqVNWLECHXq1En33nuvWrVq9f/bu/vonO/7j%2BOvK5VIsFRiiGims9LExpATpHGbOyMoc78IVZvSCVLrJqrtOiM7NNTcNEcNo466GdaU2iJSI0RsGrUuKjhtgtMk7kk4iSa/P7TXTxRNGvX5Xl/PxznOcX2/V5LXOV%2Bu88r7873RvHnztGDBgm%2B8Vx4AAKg%2BVyt2kvTqq6/q8ccfV//%2B/fWzn/1Mjz32mF555RXn/piYGKWkpDhfnzp1SpLUtGnTr32vpKQk/eAHP9DTTz%2Btzp07Kzs7WytXrlTDhg2rncdReaeTzvBg1OAqF5dg1/NNevY0neD%2Bad5cmjZNSk6231KsnS4I8fK6%2Bf/p6FH7LcXa6XOvQ4ebF4N07Gi/pVhD1SAs7P5/z8zM%2B/89rcxlz7EDAAD24opPnrAal12KBQAAQFVM7AAAgCUwsas9ih0AALAEil3tsRQLAABgE0zsAACAJTCxqz0mdgAAADbBxA4AAFgCE7vao9gBAABLoNjVHkuxAAAANsHEDgAAWAITu9pjYgcAAGATTOwAAIAlMLGrPYodAACwBIpd7bEUCwAAYBNM7AAAgCUwsas9ih0AALAEil3tsRQLAABgE0zsAACAJTCxqz0mdgAAADbBxA4AAFgCE7vao9gBAABLoNjVHkuxAAAANsHEDgAAWAITu9pjYgcAAGATTOwAAIAlMLGrPYodAACwBIpd7bEUCwAAYBNM7AAAgCUwsas9JnYAAAA2wcQOAABYAhO72qPYAQAAS6DY1R5LsQAAADbBxA4AAFgCE7vaY2IHAABgE0zsAACAJTCxqz2KHQAAsASKXe2xFAsAAGATTOwAAIAlMLGrPSZ2AAAANsHEDgAAWAITu9qj2AEAAEug2NUeS7EAAAA2QbEDAACWUFFx//88KNeuXdPw4cO1efPme77v8OHDGjp0qDp06KDw8HBt3Lixyv4tW7YoKipK7du3189//nN9%2BOGHNcpBsQMAAKiFvLw8xcbGKicn557vu3TpksaPH6%2BBAwfq4MGDmj17tpKSkvTRRx9Jkg4cOKBZs2bpT3/6kw4ePKgBAwZo4sSJunbtWrWzUOwAAIAluOLEbv/%2B/RozZowGDRokf3//e773n//8pxo2bKjY2FjVqVNHoaGh6t%2B/v9auXStJ2rhxo2JiYhQcHCx3d3c988wz8vHx0fbt26udh4snAACAJXwXRayoqEjFxcVVtjVu3FhNmjSp1tdfv35dhYWFd9zXuHFjBQYGKiMjQ3Xr1tXKlSvv%2Bb3y8vLUunXrKtueeOIJbdq0SZJ0/PhxDR48%2BGv7jx49Wq2sEsXOrEOHTCe4r4qKirR%2B0SINf%2BONav%2BHwYPlPEZxcRwjC3Mep%2BHD7XecKitNJ7hvnMdpxw77HSdDvot/HosWrdfixYurbJs0aZLi4%2BOr9fWHDx/W6NGj77hvyZIlioyMrHaWkpISeXl5Vdnm6emp0tLSau2vDood7pvi4mItXrxY4eHhfMhZFMfINXCcXAPHyTUMHz5c4eHhVbY1bty42l/fuXNnffLJJ/cli5eXl65cuVJl2/Xr11W/fn3n/uvXr39tv4%2BPT7V/BsUOAADYVpMmTSxTvFu3bq3MzMwq244fP65WrVpJklq1aqW8vLyv7e/evXu1fwYXTwAAADwAUVFROnv2rFatWqXy8nJlZWUpNTXVeV7dkCFDlJqaqqysLJWXl2vVqlU6d%2B6coqKiqv0zKHYAAADfkZiYGKWkpEiSfHx8tGLFCu3YsUOdO3fWzJkzNXPmTHXp0kWSFBoaqldffVW///3v1alTJ23btk1vvfWWGjZsWO2f56istNGZrDCqqKhI69evt%2BcJ3zbBMXINHCfXwHGCFVHsAAAAbIKlWAAAAJug2AEAANgExQ4AAMAmKHYAAAA2QbEDAACwCYodAACATVDsAAAAbIJiBwAAYBMUOwAAAJug2AGABZSWlpqOAMAGKHaosdWrV6ukpMR0DMBW%2BvXrp6tXr5qOgRo6ceKECgsLTccAnCh2qLFVq1ape/fumjNnjgoKCkzHAWzj2rVrpiPgGxw6dEgDBw6UJL3zzjuKiYlRRESEdu7caTgZcJOjsrKy0nQIuJaKigplZGRo3bp1ysrKUteuXTVmzBiFhoaajoa7qKys1OrVq7V%2B/XqdPn1ajRs31pAhQ/Tcc8/J4XCYjgdJiYmJ2r9/v7p3764mTZpU2Tdp0iRDqXC72NhYhYSEaMqUKQoPD9eUKVPUsGFDJScnKzU11XQ8gGKH2ikoKNC6deu0ZcsW%2Bfr6Ki4uTgMHDpSnp6fpaLjFX//6V61cuVLjx4/XY489pvz8fC1fvly/%2BMUvNH78eNPxICkuLu6O2x0Oh1avXv2A0%2BBuQkNDtW/fPp08eVIDBw7Uf/7zH3l4eKhDhw768MMPTccDKHa4P8rKyvSPf/xDW7Zs0ccff6wDBw6YjoRb9OnTR8nJyWrTpo1z2//%2B9z/Fx8crPT3dYDLAtXTt2lU7duzQxo0btWvXLq1Zs0anT5/WiBEjtGfPHtPxAM6xw/1x%2BvRp5ebm6vjx42revLnpOLhNUVGRAgMDq2wLDAzUxYsXDSXCnZw4cUJ//OMfNWnSJF24cEFvv/226Ui4TWRkpEaNGqWlS5dqyJAhOn78uJ599ln169fPdDRAklTHdAC4rrKyMudvrjk5OYqMjNSCBQsUHBxsOhpu06JFC6Wlpal3797ObWlpaWrRooXBVLhVZmam4uPj1atXL%2B3bt0/Xr1/XkiVLVFpaynK5hbz88sv6%2B9//Lk9PT/Xt21effvqpRowYodGjR5uOBkhiKRbfwrFjx7RhwwalpqbqkUce0bBhwzRy5Eg1bdrUdDTcxc6dOzV16lRFRUUpICBA%2Bfn5Sk9P15///Gf16tXLdDxIGjx4sCZPnqwePXooJCREBw8e1JEjRzR16lSWyy3o0qVLKigoUJs2bXTjxg15eHiYjgRIYikW38KAAQOUk5OjxMREffDBB5o6dSqlzuIiIyO1fPlyeXh46OOPP5a3t7fWrl1LqbOQzz77TN27d5ck55XKbdu21aVLl0zGwm1KSko0bdo0de7cWaNGjdKnn36qqKgonTx50nQ0QBJLsfgWHA6HNm3aZDoGaqhLly7q0qWL6Ri4C39/fx06dKjKqQxHjhxRs2bNDKbC7ebOnavS0lK9//77GjZsmAICAtSrVy/Nnj1bf/nLX0zHAyh2qDkvLy/TEVBN48eP17JlyxQXF3fX%2B9VxKw1reO655zRx4kSNHDlS5eXleuutt7RmzRq98MILpqPhFhkZGUpNTdWjjz4qh8Mhd3d3TZ8%2B3TltBUyj2AE29tX0p1OnTtyI2OJiYmLUoEEDrV27Vv7%2B/srKytJLL71U5YIXmFdRUeE8n%2B6rU9Rv3QaYxsUTqLGgoCD5%2B/vf8z2c7A18O%2BXl5bp06ZJ8fHz0yCOPmI6D2/zmN7%2BRu7u7XnnlFfXo0UPZ2dmaM2eOzp49q/nz55uOBzCxQ825u7vziCMXkZiY%2BI3vSUpKegBJ8E2uXr2qWbNmaceOHSorK5Onp6cGDRqk6dOnMw2ykMTERE2cOFEhISH64osv1KFDBz3%2B%2BONKSUkxHQ2QRLHDt1CnTh0NGjTIdAzUwIULF7Rnzx716tVLAQEBKiwsVFpamqKjo01Hw5f%2B8Ic/6LPPPtPSpUvVrFkzFRQUaNGiRXr99dc1Y8YM0/HwpUaNGmn9%2BvU6cuSITp8%2BLT8/P7Vr147pKiyDpVjUGM9EdD0TJkzQ0KFDFRER4dy2d%2B9epaSk8HQDiwgJCdGOHTvUqFEj57bCwkI9/fTTysrKMpgMknTmzJlvfM83naICPAhM7FBjAwYMMB0BNXTgwAEtXbq0yrbQ0FDFx8cbSoTb1a1b92tTn/r163MVukWEh4c7L0CqrKyscjHSV69zc3NNxQOcKHaosddee810BNRQ8%2BbN9f777ysmJsa5bfPmzTxSzEImTJigyZMna8aMGWrRooUKCwuVnJysvn37VpkWMRUygwvC4CpYigUeAunp6ZoyZYratWunZs2a6dSpUzp27JhSUlLUuXNn0/EgKTAw0Pl3h8OhWz%2Bav3rNVMiabty4oWPHjqlNmzamowAUO%2BBhcfLkSW3fvl1FRUXy8/NT//79FRAQYDoWvnT69Olqva958%2BbfcRLcywcffKDXXntNhYWFVcp3nTp1dOTIEYPJgJsodsBD7Pz58/L19TUdA3fBJMh6%2BvXrp7CwMHl7e%2BuTTz5Rv379tGTJEg0ZMkRxcXGm4wGcYwc8DA4fPqx58%2BapsLBQFRUVkm7eCPf8%2BfP673//azgdJCZBrqKgoEAvvviiTp06paysLEVHR6tly5ZKSEig2MESKHbAQ2DWrFkKCAhQq1atVFBQoLCwMK1evVrTpk0zHQ1fev311xUdHX3HSRCsw9fXV25ubvL399eJEyckSU888YQ%2B//xzw8mAm9xMBwDw3cvLy1NSUpJiY2P1xRdfaOzYsVqwYIFSU1NNR8OXvpoExcTE6MKFC4qOjlZycrI2bNhgOhpu8eSTT2rhwoWSbt6sePfu3Tpw4IDq1q1rOBlwE8UOeAh4e3vL09NTAQEBysvLkyS1b9%2B%2B2ifs47vHJMg1vPjii9q5c6eKi4s1efJkPf/883rmmWc0btw409EASRQ74KHQsmVLrVu3TnXr1lW9evWUm5urEydOVLnJKsxiEmR9FRUV8vX11bZt29S8eXN973vf0/PPP6%2BtW7dq7NixpuMBkih2wENhypQpeuONN5Sfn69x48Zp2LBhGjx4MM/8tRAmQdZWWFio/v37a%2B7cuZKk1NRUPfvss0pPT1dsbCwXuMAyuN0J8BC4ePGivLy85O7uLjc3N3300UcqLi7Wvn379PLLL5uOhzsoKipSSUmJfvjDH5qOAknTp09XWVmZXnrpJTVq1EjR0dHq06ePEhIS9O677%2Bq9997TsmXLTMcEmNgBdpabm6uIiAiFhoZq9OjRunLliqSbzyWdP3%2B%2B3n33XcMJcausrCwlJibql7/8pRYvXuw8XjAvMzNTM2fOVKNGjXTmzBnl5%2Bc7n5sdERGhnJwcwwmBmyh2gI3Nnj1brVu31ptvvqkGDRooJSVFWVlZGjlypLy9vbVlyxbTEfGlDRs26Fe/%2BpXKysoUFBSkK1euKC4uTmlpaaajQdLVq1edN/M%2BfPiwvL299aMf/UjSzV%2BUysvLTcYDnLiPHWBjubm5SktLk6%2BvrwIDAzVq1Cj97W9/06hRozR16lS5ufG7nVUsW7ZMKSkpCgsLc27bvXu35s6dq6ioKIPJIEmPPvqo80kt2dnZ6tixo3PfyZMn5ePjYzAd8P/4VAds7Kur%2BCTJz89Pn3/%2BuSZMmKAXXniBUmcx586dU5cuXaps69atm4qLiw0lwq169eqlWbNmafv27UpNTVVMTIwk6fLly1q4cKG6detmOCFwE5/sgI3dfjsTd3d3HntkUd26ddPbb79dZdu2bdv01FNPGUqEWyUkJOjSpUuaMWOGevfurf79%2B0uSevTooby8PMXHxxtOCNzEVbGAjXXs2FGHDh1yvu7UqZOys7MNJsLd/PrXv9auXbv05JNPqkWLFiosLNThw4cVFBSkBg0aON%2B3evVqgylxu7179yokJIT7DcIyOMcOsLEbN25o69atztfl5eVVXkvSwIEDH3Qs3EFQUJCCgoKcr1u1aqWuXbsaTITq4BjBapjYATYWHh5%2Bz/0Oh0Pp6ekPKA1q4urVq/Lw8JCHh4fpKABcCMUOACzgxIkTmj9/vpYsWaK0tDQlJCSofv36Wrp0qYKDg03HA%2BAiKHYAYAHjxo1TkyZNNGfOHPXt21eDBg1S/fr1tXXrVm3cuNF0PAAugmIHABbQtWtXZWRkqLCwUL1799aBAwdUv359BQcHV7kABgDuhdudAIAF3LhxQ5WVlcrMzNSPf/xjNWjQQBcuXOBqSwA1wlWxAGABTz31lOLj43X06FGNGzdOBQUF%2Bu1vf6uePXuajgbAhbAUCwAWUFJSohUrVqhu3boaP368jh49qk2bNmnatGny8vIyHQ%2BAi6DYAYAFLFq0SFFRUQoMDDQdBYALYykWACwgLy9Pq1atkq%2Bvr6KjoxUdHa2f/vSnpmMBcDFM7ADAIsrLy7V//37t2rVLu3fvVkVFhaKiojRz5kzT0QC4CIodAFjIxYsXtX//fu3bt0/vvfeeHA4HtzsBUG0UOwCwgOTkZGVmZurYsWNq3bq1wsLCFBYWpuDgYLm7u5uOB8BFUOwAwALatWsnNzc3jRgxQn379lXbtm3lcDhMxwLgYih2AGABZWVlys7O1t69e7Vnzx6dPXtWXbp0UdeuXTV06FDT8QC4CIodAFjM1atXtXnzZr355pu6ePGicnNzTUcC4CK43QkAWMDRo0f1r3/9S3v27FFOTo6CgoI0duxYRUZGmo4GwIUwsQMAC/jJT36iTp06KSIiQpGRkWratKnpSABcEMUOACzg8uXL8vb2liSdP39evr6%2BhhMBcEVupgMAAKR69eppwYIFCg4OVnh4uPLz8zV48GAVFRWZjgbAhVDsAMACFi1apKysLC1cuFDu7u76/ve/Lz8/P82ePdt0NAAuhIsnAMACUlNTtW7dOjVt2lQOh0P16tVTUlKSoqKiTEcD4EKY2AGABZSWljrPq/vq1GdPT0%2B5ufExDaD6%2BMQAAAto3769Fi9eLEnOJ06sWbNGbdu2NRkLgIvhqlgAsICCggKNGTNGN27c0Llz59SiRQuVlJRo5cqVatmypel4AFwExQ4ALOLatWvKyMjQmTNn5Ofnp549e6pBgwamYwFwIRQ7AAAAm%2BCqWAAwKDw83HlO3Z04HA7t3LnzASYC4MoodgBgUHx8/B235%2BTkaP369WrTps0DTgTAlbEUCwAWs2LFCs2fP19Dhw5VYmKiPDw8TEcC4CKY2AGARVy%2BfFm/%2B93v9O9//1vz5s1Tnz59TEcC4GIodgBgATk5OUpISJCPj482b96sgIAA05EAuCBuUAwAhi1fvlxxcXGKiIjQO%2B%2B8Q6kD8K1xjh0AGDRhwgTt3r1bo0aNUnR09B3fExIS8oBTAXBVFDsAMCgwMPCe%2Bx0Oh3Jzcx9QGgCujmIHAABgE5xjBwAAYBMUOwAAAJug2AEAANgExQ4AAMAmKHYAAAA2QbEDAACwCYodAACATVDsAAAAbOL/ALQcNMAEsjr1AAAAAElFTkSuQmCC\" class=\"center-img\">\n",
       "</div>\n",
       "    <div class=\"row headerrow highlight\">\n",
       "        <h1>Sample</h1>\n",
       "    </div>\n",
       "    <div class=\"row variablerow\">\n",
       "    <div class=\"col-md-12\" style=\"overflow:scroll; width: 100%%; overflow-y: hidden;\">\n",
       "        <table border=\"1\" class=\"dataframe sample\">\n",
       "  <thead>\n",
       "    <tr style=\"text-align: right;\">\n",
       "      <th></th>\n",
       "      <th>TV</th>\n",
       "      <th>Radio</th>\n",
       "      <th>Newspaper</th>\n",
       "      <th>Sales</th>\n",
       "    </tr>\n",
       "  </thead>\n",
       "  <tbody>\n",
       "    <tr>\n",
       "      <th>0</th>\n",
       "      <td>230.1</td>\n",
       "      <td>37.8</td>\n",
       "      <td>69.2</td>\n",
       "      <td>22.1</td>\n",
       "    </tr>\n",
       "    <tr>\n",
       "      <th>1</th>\n",
       "      <td>44.5</td>\n",
       "      <td>39.3</td>\n",
       "      <td>45.1</td>\n",
       "      <td>10.4</td>\n",
       "    </tr>\n",
       "    <tr>\n",
       "      <th>2</th>\n",
       "      <td>17.2</td>\n",
       "      <td>45.9</td>\n",
       "      <td>69.3</td>\n",
       "      <td>9.3</td>\n",
       "    </tr>\n",
       "    <tr>\n",
       "      <th>3</th>\n",
       "      <td>151.5</td>\n",
       "      <td>41.3</td>\n",
       "      <td>58.5</td>\n",
       "      <td>18.5</td>\n",
       "    </tr>\n",
       "    <tr>\n",
       "      <th>4</th>\n",
       "      <td>180.8</td>\n",
       "      <td>10.8</td>\n",
       "      <td>58.4</td>\n",
       "      <td>12.9</td>\n",
       "    </tr>\n",
       "  </tbody>\n",
       "</table>\n",
       "    </div>\n",
       "</div>\n",
       "</div>"
      ],
      "text/plain": [
       "<pandas_profiling.ProfileReport at 0x1fb9659b3c8>"
      ]
     },
     "execution_count": 6,
     "metadata": {},
     "output_type": "execute_result"
    }
   ],
   "source": [
    "import pandas_profiling as pf\n",
    "pf.ProfileReport(advt)"
   ]
  },
  {
   "cell_type": "code",
   "execution_count": 7,
   "metadata": {},
   "outputs": [],
   "source": [
    "def var_summary(x):\n",
    "    return pd.Series([x.count(),x.isnull().sum(),x.sum(),x.min(),x.max(),x.mean(),x.median(),x.std(),\n",
    "                      x.var(),x.quantile(0.01),x.quantile(0.05),x.quantile(0.10),x.quantile(0.25),x.quantile(0.50),x.quantile(0.75),\n",
    "                      x.quantile(0.90),x.quantile(0.95),x.quantile(0.99)],\n",
    "                    index=['N','NMISS','SUM','MIN','MAX','MEAN','MEDIAN','STD','VAR','P1','P5','P10',\n",
    "                           'P25','P50','P75','P90','P95','P99'])\n"
   ]
  },
  {
   "cell_type": "code",
   "execution_count": 8,
   "metadata": {},
   "outputs": [
    {
     "data": {
      "text/html": [
       "<div>\n",
       "<style scoped>\n",
       "    .dataframe tbody tr th:only-of-type {\n",
       "        vertical-align: middle;\n",
       "    }\n",
       "\n",
       "    .dataframe tbody tr th {\n",
       "        vertical-align: top;\n",
       "    }\n",
       "\n",
       "    .dataframe thead th {\n",
       "        text-align: right;\n",
       "    }\n",
       "</style>\n",
       "<table border=\"1\" class=\"dataframe\">\n",
       "  <thead>\n",
       "    <tr style=\"text-align: right;\">\n",
       "      <th></th>\n",
       "      <th>N</th>\n",
       "      <th>NMISS</th>\n",
       "      <th>SUM</th>\n",
       "      <th>MIN</th>\n",
       "      <th>MAX</th>\n",
       "      <th>MEAN</th>\n",
       "      <th>MEDIAN</th>\n",
       "      <th>STD</th>\n",
       "      <th>VAR</th>\n",
       "      <th>P1</th>\n",
       "      <th>P5</th>\n",
       "      <th>P10</th>\n",
       "      <th>P25</th>\n",
       "      <th>P50</th>\n",
       "      <th>P75</th>\n",
       "      <th>P90</th>\n",
       "      <th>P95</th>\n",
       "      <th>P99</th>\n",
       "    </tr>\n",
       "  </thead>\n",
       "  <tbody>\n",
       "    <tr>\n",
       "      <th>TV</th>\n",
       "      <td>200.0</td>\n",
       "      <td>0.0</td>\n",
       "      <td>29408.5</td>\n",
       "      <td>0.7</td>\n",
       "      <td>296.4</td>\n",
       "      <td>147.0425</td>\n",
       "      <td>149.75</td>\n",
       "      <td>85.854236</td>\n",
       "      <td>7370.949893</td>\n",
       "      <td>5.387</td>\n",
       "      <td>13.195</td>\n",
       "      <td>24.88</td>\n",
       "      <td>74.375</td>\n",
       "      <td>149.75</td>\n",
       "      <td>218.825</td>\n",
       "      <td>261.44</td>\n",
       "      <td>280.735</td>\n",
       "      <td>292.907</td>\n",
       "    </tr>\n",
       "    <tr>\n",
       "      <th>Radio</th>\n",
       "      <td>200.0</td>\n",
       "      <td>0.0</td>\n",
       "      <td>4652.8</td>\n",
       "      <td>0.0</td>\n",
       "      <td>49.6</td>\n",
       "      <td>23.2640</td>\n",
       "      <td>22.90</td>\n",
       "      <td>14.846809</td>\n",
       "      <td>220.427743</td>\n",
       "      <td>0.399</td>\n",
       "      <td>1.995</td>\n",
       "      <td>3.40</td>\n",
       "      <td>9.975</td>\n",
       "      <td>22.90</td>\n",
       "      <td>36.525</td>\n",
       "      <td>43.52</td>\n",
       "      <td>46.810</td>\n",
       "      <td>49.400</td>\n",
       "    </tr>\n",
       "    <tr>\n",
       "      <th>Newspaper</th>\n",
       "      <td>200.0</td>\n",
       "      <td>0.0</td>\n",
       "      <td>6110.8</td>\n",
       "      <td>0.3</td>\n",
       "      <td>114.0</td>\n",
       "      <td>30.5540</td>\n",
       "      <td>25.75</td>\n",
       "      <td>21.778621</td>\n",
       "      <td>474.308326</td>\n",
       "      <td>0.999</td>\n",
       "      <td>3.600</td>\n",
       "      <td>5.99</td>\n",
       "      <td>12.750</td>\n",
       "      <td>25.75</td>\n",
       "      <td>45.100</td>\n",
       "      <td>59.07</td>\n",
       "      <td>71.825</td>\n",
       "      <td>89.515</td>\n",
       "    </tr>\n",
       "    <tr>\n",
       "      <th>Sales</th>\n",
       "      <td>200.0</td>\n",
       "      <td>0.0</td>\n",
       "      <td>2804.5</td>\n",
       "      <td>1.6</td>\n",
       "      <td>27.0</td>\n",
       "      <td>14.0225</td>\n",
       "      <td>12.90</td>\n",
       "      <td>5.217457</td>\n",
       "      <td>27.221853</td>\n",
       "      <td>4.784</td>\n",
       "      <td>6.600</td>\n",
       "      <td>7.96</td>\n",
       "      <td>10.375</td>\n",
       "      <td>12.90</td>\n",
       "      <td>17.400</td>\n",
       "      <td>21.71</td>\n",
       "      <td>23.800</td>\n",
       "      <td>25.507</td>\n",
       "    </tr>\n",
       "  </tbody>\n",
       "</table>\n",
       "</div>"
      ],
      "text/plain": [
       "               N  NMISS      SUM  MIN    MAX      MEAN  MEDIAN        STD  \\\n",
       "TV         200.0    0.0  29408.5  0.7  296.4  147.0425  149.75  85.854236   \n",
       "Radio      200.0    0.0   4652.8  0.0   49.6   23.2640   22.90  14.846809   \n",
       "Newspaper  200.0    0.0   6110.8  0.3  114.0   30.5540   25.75  21.778621   \n",
       "Sales      200.0    0.0   2804.5  1.6   27.0   14.0225   12.90   5.217457   \n",
       "\n",
       "                   VAR     P1      P5    P10     P25     P50      P75     P90  \\\n",
       "TV         7370.949893  5.387  13.195  24.88  74.375  149.75  218.825  261.44   \n",
       "Radio       220.427743  0.399   1.995   3.40   9.975   22.90   36.525   43.52   \n",
       "Newspaper   474.308326  0.999   3.600   5.99  12.750   25.75   45.100   59.07   \n",
       "Sales        27.221853  4.784   6.600   7.96  10.375   12.90   17.400   21.71   \n",
       "\n",
       "               P95      P99  \n",
       "TV         280.735  292.907  \n",
       "Radio       46.810   49.400  \n",
       "Newspaper   71.825   89.515  \n",
       "Sales       23.800   25.507  "
      ]
     },
     "execution_count": 8,
     "metadata": {},
     "output_type": "execute_result"
    }
   ],
   "source": [
    "advt.apply(lambda x:var_summary(x)).T"
   ]
  },
  {
   "cell_type": "code",
   "execution_count": 10,
   "metadata": {},
   "outputs": [
    {
     "data": {
      "text/plain": [
       "<seaborn.axisgrid.JointGrid at 0x1fb97b5bd30>"
      ]
     },
     "execution_count": 10,
     "metadata": {},
     "output_type": "execute_result"
    },
    {
     "data": {
      "image/png": "[encoded data removed]",
      "text/plain": [
       "<Figure size 432x432 with 3 Axes>"
      ]
     },
     "metadata": {
      "needs_background": "light"
     },
     "output_type": "display_data"
    }
   ],
   "source": [
    "sns.jointplot(  advt.TV, advt.Sales )"
   ]
  },
  {
   "cell_type": "code",
   "execution_count": 11,
   "metadata": {},
   "outputs": [
    {
     "data": {
      "text/plain": [
       "<seaborn.axisgrid.JointGrid at 0x1fb97db4160>"
      ]
     },
     "execution_count": 11,
     "metadata": {},
     "output_type": "execute_result"
    },
    {
     "data": {
      "image/png": "[encoded data removed]",
      "text/plain": [
       "<Figure size 432x432 with 3 Axes>"
      ]
     },
     "metadata": {
      "needs_background": "light"
     },
     "output_type": "display_data"
    }
   ],
   "source": [
    "sns.jointplot(  advt.Radio, advt.Sales )"
   ]
  },
  {
   "cell_type": "code",
   "execution_count": null,
   "metadata": {},
   "outputs": [],
   "source": [
    "# Sales and spend on newpaper is not highly correlaed where are sales and spend on tv is highly correlated."
   ]
  },
  {
   "cell_type": "code",
   "execution_count": 13,
   "metadata": {},
   "outputs": [
    {
     "data": {
      "text/plain": [
       "<seaborn.axisgrid.PairGrid at 0x1fb9885ddd8>"
      ]
     },
     "execution_count": 13,
     "metadata": {},
     "output_type": "execute_result"
    },
    {
     "data": {
      "image/png": "[encoded data removed]",
      "text/plain": [
       "<Figure size 720x720 with 20 Axes>"
      ]
     },
     "metadata": {
      "needs_background": "light"
     },
     "output_type": "display_data"
    }
   ],
   "source": [
    "sns.pairplot(advt)"
   ]
  },
  {
   "cell_type": "code",
   "execution_count": 14,
   "metadata": {},
   "outputs": [
    {
     "data": {
      "text/plain": [
       "<matplotlib.axes._subplots.AxesSubplot at 0x1fb9a3bc6a0>"
      ]
     },
     "execution_count": 14,
     "metadata": {},
     "output_type": "execute_result"
    },
    {
     "data": {
      "image/png": "[encoded data removed]",
      "text/plain": [
       "<Figure size 432x288 with 1 Axes>"
      ]
     },
     "metadata": {
      "needs_background": "light"
     },
     "output_type": "display_data"
    }
   ],
   "source": [
    "sns.distplot(advt.Sales)"
   ]
  },
  {
   "cell_type": "code",
   "execution_count": 15,
   "metadata": {},
   "outputs": [
    {
     "data": {
      "text/plain": [
       "<matplotlib.axes._subplots.AxesSubplot at 0x1fb9a6346a0>"
      ]
     },
     "execution_count": 15,
     "metadata": {},
     "output_type": "execute_result"
    },
    {
     "data": {
      "image/png": "[encoded data removed]",
      "text/plain": [
       "<Figure size 432x288 with 1 Axes>"
      ]
     },
     "metadata": {
      "needs_background": "light"
     },
     "output_type": "display_data"
    }
   ],
   "source": [
    "sns.distplot(np.log(advt.Sales))"
   ]
  },
  {
   "cell_type": "code",
   "execution_count": 16,
   "metadata": {},
   "outputs": [
    {
     "data": {
      "text/html": [
       "<div>\n",
       "<style scoped>\n",
       "    .dataframe tbody tr th:only-of-type {\n",
       "        vertical-align: middle;\n",
       "    }\n",
       "\n",
       "    .dataframe tbody tr th {\n",
       "        vertical-align: top;\n",
       "    }\n",
       "\n",
       "    .dataframe thead th {\n",
       "        text-align: right;\n",
       "    }\n",
       "</style>\n",
       "<table border=\"1\" class=\"dataframe\">\n",
       "  <thead>\n",
       "    <tr style=\"text-align: right;\">\n",
       "      <th></th>\n",
       "      <th>TV</th>\n",
       "      <th>Radio</th>\n",
       "      <th>Newspaper</th>\n",
       "      <th>Sales</th>\n",
       "    </tr>\n",
       "  </thead>\n",
       "  <tbody>\n",
       "    <tr>\n",
       "      <th>TV</th>\n",
       "      <td>1.000000</td>\n",
       "      <td>0.054809</td>\n",
       "      <td>0.056648</td>\n",
       "      <td>0.782224</td>\n",
       "    </tr>\n",
       "    <tr>\n",
       "      <th>Radio</th>\n",
       "      <td>0.054809</td>\n",
       "      <td>1.000000</td>\n",
       "      <td>0.354104</td>\n",
       "      <td>0.576223</td>\n",
       "    </tr>\n",
       "    <tr>\n",
       "      <th>Newspaper</th>\n",
       "      <td>0.056648</td>\n",
       "      <td>0.354104</td>\n",
       "      <td>1.000000</td>\n",
       "      <td>0.228299</td>\n",
       "    </tr>\n",
       "    <tr>\n",
       "      <th>Sales</th>\n",
       "      <td>0.782224</td>\n",
       "      <td>0.576223</td>\n",
       "      <td>0.228299</td>\n",
       "      <td>1.000000</td>\n",
       "    </tr>\n",
       "  </tbody>\n",
       "</table>\n",
       "</div>"
      ],
      "text/plain": [
       "                 TV     Radio  Newspaper     Sales\n",
       "TV         1.000000  0.054809   0.056648  0.782224\n",
       "Radio      0.054809  1.000000   0.354104  0.576223\n",
       "Newspaper  0.056648  0.354104   1.000000  0.228299\n",
       "Sales      0.782224  0.576223   0.228299  1.000000"
      ]
     },
     "execution_count": 16,
     "metadata": {},
     "output_type": "execute_result"
    }
   ],
   "source": [
    "#Calculating correlations\n",
    "advt.corr()"
   ]
  },
  {
   "cell_type": "code",
   "execution_count": 17,
   "metadata": {},
   "outputs": [
    {
     "data": {
      "text/plain": [
       "<matplotlib.axes._subplots.AxesSubplot at 0x1fb9a706ac8>"
      ]
     },
     "execution_count": 17,
     "metadata": {},
     "output_type": "execute_result"
    },
    {
     "data": {
      "image/png": "[encoded data removed]",
      "text/plain": [
       "<Figure size 432x288 with 2 Axes>"
      ]
     },
     "metadata": {
      "needs_background": "light"
     },
     "output_type": "display_data"
    }
   ],
   "source": [
    "#Visualizing the correlations using a heat map\n",
    "sns.heatmap(advt.corr())"
   ]
  },
  {
   "cell_type": "code",
   "execution_count": null,
   "metadata": {},
   "outputs": [],
   "source": [
    "#correlation betweeb TV and Sales is highest i.e. 0.78 and then betweeb sales and radio i.e. 0.576.\n",
    "#correlations can vary from -1 to +1. Closer to +1 means strong positive correlation and close -1 means strong negative correlation."
   ]
  },
  {
   "cell_type": "code",
   "execution_count": 18,
   "metadata": {},
   "outputs": [],
   "source": [
    "#Outlier Treatment\n",
    "advt['Sales']=advt.Sales.clip(lower=advt.Sales.quantile(0.01),upper=advt.Sales.quantile(0.99))"
   ]
  },
  {
   "cell_type": "code",
   "execution_count": 19,
   "metadata": {},
   "outputs": [],
   "source": [
    "#Missing Value Treatment\n",
    "advt['Sales']=advt['Sales'].fillna(advt['Sales'].mean())"
   ]
  },
  {
   "cell_type": "code",
   "execution_count": 20,
   "metadata": {},
   "outputs": [],
   "source": [
    "#Model Building\n",
    "import statsmodels.formula.api as smf"
   ]
  },
  {
   "cell_type": "code",
   "execution_count": 21,
   "metadata": {},
   "outputs": [],
   "source": [
    "lm=smf.ols('Sales~TV+Radio+Newspaper',advt).fit()"
   ]
  },
  {
   "cell_type": "code",
   "execution_count": 22,
   "metadata": {},
   "outputs": [
    {
     "data": {
      "text/html": [
       "<table class=\"simpletable\">\n",
       "<caption>OLS Regression Results</caption>\n",
       "<tr>\n",
       "  <th>Dep. Variable:</th>          <td>Sales</td>      <th>  R-squared:         </th> <td>   0.905</td> \n",
       "</tr>\n",
       "<tr>\n",
       "  <th>Model:</th>                   <td>OLS</td>       <th>  Adj. R-squared:    </th> <td>   0.904</td> \n",
       "</tr>\n",
       "<tr>\n",
       "  <th>Method:</th>             <td>Least Squares</td>  <th>  F-statistic:       </th> <td>   623.9</td> \n",
       "</tr>\n",
       "<tr>\n",
       "  <th>Date:</th>             <td>Sun, 05 Jul 2020</td> <th>  Prob (F-statistic):</th> <td>5.61e-100</td>\n",
       "</tr>\n",
       "<tr>\n",
       "  <th>Time:</th>                 <td>13:26:03</td>     <th>  Log-Likelihood:    </th> <td> -375.20</td> \n",
       "</tr>\n",
       "<tr>\n",
       "  <th>No. Observations:</th>      <td>   200</td>      <th>  AIC:               </th> <td>   758.4</td> \n",
       "</tr>\n",
       "<tr>\n",
       "  <th>Df Residuals:</th>          <td>   196</td>      <th>  BIC:               </th> <td>   771.6</td> \n",
       "</tr>\n",
       "<tr>\n",
       "  <th>Df Model:</th>              <td>     3</td>      <th>                     </th>     <td> </td>    \n",
       "</tr>\n",
       "<tr>\n",
       "  <th>Covariance Type:</th>      <td>nonrobust</td>    <th>                     </th>     <td> </td>    \n",
       "</tr>\n",
       "</table>\n",
       "<table class=\"simpletable\">\n",
       "<tr>\n",
       "      <td></td>         <th>coef</th>     <th>std err</th>      <th>t</th>      <th>P>|t|</th>  <th>[0.025</th>    <th>0.975]</th>  \n",
       "</tr>\n",
       "<tr>\n",
       "  <th>Intercept</th> <td>    3.0831</td> <td>    0.295</td> <td>   10.443</td> <td> 0.000</td> <td>    2.501</td> <td>    3.665</td>\n",
       "</tr>\n",
       "<tr>\n",
       "  <th>TV</th>        <td>    0.0451</td> <td>    0.001</td> <td>   34.166</td> <td> 0.000</td> <td>    0.043</td> <td>    0.048</td>\n",
       "</tr>\n",
       "<tr>\n",
       "  <th>Radio</th>     <td>    0.1892</td> <td>    0.008</td> <td>   23.208</td> <td> 0.000</td> <td>    0.173</td> <td>    0.205</td>\n",
       "</tr>\n",
       "<tr>\n",
       "  <th>Newspaper</th> <td>   -0.0027</td> <td>    0.006</td> <td>   -0.483</td> <td> 0.630</td> <td>   -0.014</td> <td>    0.008</td>\n",
       "</tr>\n",
       "</table>\n",
       "<table class=\"simpletable\">\n",
       "<tr>\n",
       "  <th>Omnibus:</th>       <td>29.918</td> <th>  Durbin-Watson:     </th> <td>   2.095</td>\n",
       "</tr>\n",
       "<tr>\n",
       "  <th>Prob(Omnibus):</th> <td> 0.000</td> <th>  Jarque-Bera (JB):  </th> <td>  38.490</td>\n",
       "</tr>\n",
       "<tr>\n",
       "  <th>Skew:</th>          <td>-0.980</td> <th>  Prob(JB):          </th> <td>4.39e-09</td>\n",
       "</tr>\n",
       "<tr>\n",
       "  <th>Kurtosis:</th>      <td> 3.884</td> <th>  Cond. No.          </th> <td>    454.</td>\n",
       "</tr>\n",
       "</table><br/><br/>Warnings:<br/>[1] Standard Errors assume that the covariance matrix of the errors is correctly specified."
      ],
      "text/plain": [
       "<class 'statsmodels.iolib.summary.Summary'>\n",
       "\"\"\"\n",
       "                            OLS Regression Results                            \n",
       "==============================================================================\n",
       "Dep. Variable:                  Sales   R-squared:                       0.905\n",
       "Model:                            OLS   Adj. R-squared:                  0.904\n",
       "Method:                 Least Squares   F-statistic:                     623.9\n",
       "Date:                Sun, 05 Jul 2020   Prob (F-statistic):          5.61e-100\n",
       "Time:                        13:26:03   Log-Likelihood:                -375.20\n",
       "No. Observations:                 200   AIC:                             758.4\n",
       "Df Residuals:                     196   BIC:                             771.6\n",
       "Df Model:                           3                                         \n",
       "Covariance Type:            nonrobust                                         \n",
       "==============================================================================\n",
       "                 coef    std err          t      P>|t|      [0.025      0.975]\n",
       "------------------------------------------------------------------------------\n",
       "Intercept      3.0831      0.295     10.443      0.000       2.501       3.665\n",
       "TV             0.0451      0.001     34.166      0.000       0.043       0.048\n",
       "Radio          0.1892      0.008     23.208      0.000       0.173       0.205\n",
       "Newspaper     -0.0027      0.006     -0.483      0.630      -0.014       0.008\n",
       "==============================================================================\n",
       "Omnibus:                       29.918   Durbin-Watson:                   2.095\n",
       "Prob(Omnibus):                  0.000   Jarque-Bera (JB):               38.490\n",
       "Skew:                          -0.980   Prob(JB):                     4.39e-09\n",
       "Kurtosis:                       3.884   Cond. No.                         454.\n",
       "==============================================================================\n",
       "\n",
       "Warnings:\n",
       "[1] Standard Errors assume that the covariance matrix of the errors is correctly specified.\n",
       "\"\"\""
      ]
     },
     "execution_count": 22,
     "metadata": {},
     "output_type": "execute_result"
    }
   ],
   "source": [
    "lm.summary()"
   ]
  },
  {
   "cell_type": "code",
   "execution_count": 23,
   "metadata": {},
   "outputs": [],
   "source": [
    "lm=smf.ols('Sales~TV+Radio',advt).fit()"
   ]
  },
  {
   "cell_type": "code",
   "execution_count": 24,
   "metadata": {},
   "outputs": [
    {
     "data": {
      "text/html": [
       "<table class=\"simpletable\">\n",
       "<caption>OLS Regression Results</caption>\n",
       "<tr>\n",
       "  <th>Dep. Variable:</th>          <td>Sales</td>      <th>  R-squared:         </th> <td>   0.905</td> \n",
       "</tr>\n",
       "<tr>\n",
       "  <th>Model:</th>                   <td>OLS</td>       <th>  Adj. R-squared:    </th> <td>   0.904</td> \n",
       "</tr>\n",
       "<tr>\n",
       "  <th>Method:</th>             <td>Least Squares</td>  <th>  F-statistic:       </th> <td>   939.5</td> \n",
       "</tr>\n",
       "<tr>\n",
       "  <th>Date:</th>             <td>Sun, 05 Jul 2020</td> <th>  Prob (F-statistic):</th> <td>1.82e-101</td>\n",
       "</tr>\n",
       "<tr>\n",
       "  <th>Time:</th>                 <td>13:31:23</td>     <th>  Log-Likelihood:    </th> <td> -375.32</td> \n",
       "</tr>\n",
       "<tr>\n",
       "  <th>No. Observations:</th>      <td>   200</td>      <th>  AIC:               </th> <td>   756.6</td> \n",
       "</tr>\n",
       "<tr>\n",
       "  <th>Df Residuals:</th>          <td>   197</td>      <th>  BIC:               </th> <td>   766.5</td> \n",
       "</tr>\n",
       "<tr>\n",
       "  <th>Df Model:</th>              <td>     2</td>      <th>                     </th>     <td> </td>    \n",
       "</tr>\n",
       "<tr>\n",
       "  <th>Covariance Type:</th>      <td>nonrobust</td>    <th>                     </th>     <td> </td>    \n",
       "</tr>\n",
       "</table>\n",
       "<table class=\"simpletable\">\n",
       "<tr>\n",
       "      <td></td>         <th>coef</th>     <th>std err</th>      <th>t</th>      <th>P>|t|</th>  <th>[0.025</th>    <th>0.975]</th>  \n",
       "</tr>\n",
       "<tr>\n",
       "  <th>Intercept</th> <td>    3.0372</td> <td>    0.279</td> <td>   10.890</td> <td> 0.000</td> <td>    2.487</td> <td>    3.587</td>\n",
       "</tr>\n",
       "<tr>\n",
       "  <th>TV</th>        <td>    0.0451</td> <td>    0.001</td> <td>   34.241</td> <td> 0.000</td> <td>    0.042</td> <td>    0.048</td>\n",
       "</tr>\n",
       "<tr>\n",
       "  <th>Radio</th>     <td>    0.1878</td> <td>    0.008</td> <td>   24.663</td> <td> 0.000</td> <td>    0.173</td> <td>    0.203</td>\n",
       "</tr>\n",
       "</table>\n",
       "<table class=\"simpletable\">\n",
       "<tr>\n",
       "  <th>Omnibus:</th>       <td>29.901</td> <th>  Durbin-Watson:     </th> <td>   2.088</td>\n",
       "</tr>\n",
       "<tr>\n",
       "  <th>Prob(Omnibus):</th> <td> 0.000</td> <th>  Jarque-Bera (JB):  </th> <td>  38.439</td>\n",
       "</tr>\n",
       "<tr>\n",
       "  <th>Skew:</th>          <td>-0.980</td> <th>  Prob(JB):          </th> <td>4.50e-09</td>\n",
       "</tr>\n",
       "<tr>\n",
       "  <th>Kurtosis:</th>      <td> 3.876</td> <th>  Cond. No.          </th> <td>    425.</td>\n",
       "</tr>\n",
       "</table><br/><br/>Warnings:<br/>[1] Standard Errors assume that the covariance matrix of the errors is correctly specified."
      ],
      "text/plain": [
       "<class 'statsmodels.iolib.summary.Summary'>\n",
       "\"\"\"\n",
       "                            OLS Regression Results                            \n",
       "==============================================================================\n",
       "Dep. Variable:                  Sales   R-squared:                       0.905\n",
       "Model:                            OLS   Adj. R-squared:                  0.904\n",
       "Method:                 Least Squares   F-statistic:                     939.5\n",
       "Date:                Sun, 05 Jul 2020   Prob (F-statistic):          1.82e-101\n",
       "Time:                        13:31:23   Log-Likelihood:                -375.32\n",
       "No. Observations:                 200   AIC:                             756.6\n",
       "Df Residuals:                     197   BIC:                             766.5\n",
       "Df Model:                           2                                         \n",
       "Covariance Type:            nonrobust                                         \n",
       "==============================================================================\n",
       "                 coef    std err          t      P>|t|      [0.025      0.975]\n",
       "------------------------------------------------------------------------------\n",
       "Intercept      3.0372      0.279     10.890      0.000       2.487       3.587\n",
       "TV             0.0451      0.001     34.241      0.000       0.042       0.048\n",
       "Radio          0.1878      0.008     24.663      0.000       0.173       0.203\n",
       "==============================================================================\n",
       "Omnibus:                       29.901   Durbin-Watson:                   2.088\n",
       "Prob(Omnibus):                  0.000   Jarque-Bera (JB):               38.439\n",
       "Skew:                          -0.980   Prob(JB):                     4.50e-09\n",
       "Kurtosis:                       3.876   Cond. No.                         425.\n",
       "==============================================================================\n",
       "\n",
       "Warnings:\n",
       "[1] Standard Errors assume that the covariance matrix of the errors is correctly specified.\n",
       "\"\"\""
      ]
     },
     "execution_count": 24,
     "metadata": {},
     "output_type": "execute_result"
    }
   ],
   "source": [
    "lm.summary()"
   ]
  },
  {
   "cell_type": "code",
   "execution_count": 25,
   "metadata": {},
   "outputs": [
    {
     "data": {
      "text/html": [
       "<div>\n",
       "<style scoped>\n",
       "    .dataframe tbody tr th:only-of-type {\n",
       "        vertical-align: middle;\n",
       "    }\n",
       "\n",
       "    .dataframe tbody tr th {\n",
       "        vertical-align: top;\n",
       "    }\n",
       "\n",
       "    .dataframe thead th {\n",
       "        text-align: right;\n",
       "    }\n",
       "</style>\n",
       "<table border=\"1\" class=\"dataframe\">\n",
       "  <thead>\n",
       "    <tr style=\"text-align: right;\">\n",
       "      <th></th>\n",
       "      <th>TV</th>\n",
       "      <th>Radio</th>\n",
       "      <th>Newspaper</th>\n",
       "      <th>Sales</th>\n",
       "    </tr>\n",
       "  </thead>\n",
       "  <tbody>\n",
       "    <tr>\n",
       "      <th>0</th>\n",
       "      <td>230.1</td>\n",
       "      <td>37.8</td>\n",
       "      <td>69.2</td>\n",
       "      <td>22.1</td>\n",
       "    </tr>\n",
       "    <tr>\n",
       "      <th>1</th>\n",
       "      <td>44.5</td>\n",
       "      <td>39.3</td>\n",
       "      <td>45.1</td>\n",
       "      <td>10.4</td>\n",
       "    </tr>\n",
       "    <tr>\n",
       "      <th>2</th>\n",
       "      <td>17.2</td>\n",
       "      <td>45.9</td>\n",
       "      <td>69.3</td>\n",
       "      <td>9.3</td>\n",
       "    </tr>\n",
       "    <tr>\n",
       "      <th>3</th>\n",
       "      <td>151.5</td>\n",
       "      <td>41.3</td>\n",
       "      <td>58.5</td>\n",
       "      <td>18.5</td>\n",
       "    </tr>\n",
       "    <tr>\n",
       "      <th>4</th>\n",
       "      <td>180.8</td>\n",
       "      <td>10.8</td>\n",
       "      <td>58.4</td>\n",
       "      <td>12.9</td>\n",
       "    </tr>\n",
       "  </tbody>\n",
       "</table>\n",
       "</div>"
      ],
      "text/plain": [
       "      TV  Radio  Newspaper  Sales\n",
       "0  230.1   37.8       69.2   22.1\n",
       "1   44.5   39.3       45.1   10.4\n",
       "2   17.2   45.9       69.3    9.3\n",
       "3  151.5   41.3       58.5   18.5\n",
       "4  180.8   10.8       58.4   12.9"
      ]
     },
     "execution_count": 25,
     "metadata": {},
     "output_type": "execute_result"
    }
   ],
   "source": [
    "advt.head()"
   ]
  },
  {
   "cell_type": "code",
   "execution_count": 26,
   "metadata": {},
   "outputs": [],
   "source": [
    "lmpredict=lm.predict(advt)"
   ]
  },
  {
   "cell_type": "code",
   "execution_count": 27,
   "metadata": {},
   "outputs": [
    {
     "data": {
      "text/plain": [
       "0    20.509818\n",
       "1    12.423503\n",
       "2    12.432040\n",
       "3    17.623297\n",
       "4    13.216837\n",
       "5    12.612167\n",
       "6    11.789012\n",
       "7    12.137135\n",
       "8     3.819256\n",
       "9    12.533627\n",
       "dtype: float64"
      ]
     },
     "execution_count": 27,
     "metadata": {},
     "output_type": "execute_result"
    }
   ],
   "source": [
    "lmpredict[0:10]"
   ]
  },
  {
   "cell_type": "code",
   "execution_count": 28,
   "metadata": {},
   "outputs": [],
   "source": [
    "from sklearn import metrics"
   ]
  },
  {
   "cell_type": "code",
   "execution_count": 29,
   "metadata": {},
   "outputs": [
    {
     "data": {
      "text/plain": [
       "1.5803352244496103"
      ]
     },
     "execution_count": 29,
     "metadata": {},
     "output_type": "execute_result"
    }
   ],
   "source": [
    "mse=metrics.mean_squared_error(advt.Sales,lmpredict)\n",
    "rmse=np.sqrt(mse)\n",
    "rmse"
   ]
  },
  {
   "cell_type": "code",
   "execution_count": 30,
   "metadata": {},
   "outputs": [
    {
     "data": {
      "text/plain": [
       "0    1.590182\n",
       "1   -2.023503\n",
       "2   -3.132040\n",
       "3    0.876703\n",
       "4   -0.316837\n",
       "5   -5.412167\n",
       "6    0.010988\n",
       "7    1.062865\n",
       "8    0.980744\n",
       "9   -1.933627\n",
       "dtype: float64"
      ]
     },
     "execution_count": 30,
     "metadata": {},
     "output_type": "execute_result"
    }
   ],
   "source": [
    "lm.resid[0:10]"
   ]
  },
  {
   "cell_type": "code",
   "execution_count": 31,
   "metadata": {},
   "outputs": [
    {
     "data": {
      "image/png": "[encoded data removed]",
      "text/plain": [
       "<Figure size 432x288 with 1 Axes>"
      ]
     },
     "metadata": {
      "needs_background": "light"
     },
     "output_type": "display_data"
    }
   ],
   "source": [
    "#Q-Q Plot\n",
    "from scipy import stats \n",
    "import pylab\n",
    "stats.probplot(lm.resid,dist='norm',plot=pylab)\n",
    "pylab.show()"
   ]
  },
  {
   "cell_type": "code",
   "execution_count": 32,
   "metadata": {},
   "outputs": [],
   "source": [
    "#Check for multicollinearity -VIF\n",
    "from statsmodels.stats.outliers_influence import variance_inflation_factor\n",
    "from patsy import dmatrices"
   ]
  },
  {
   "cell_type": "code",
   "execution_count": 33,
   "metadata": {},
   "outputs": [],
   "source": [
    "y,X=dmatrices('Sales~TV+Radio',advt,return_type='dataframe')"
   ]
  },
  {
   "cell_type": "code",
   "execution_count": 34,
   "metadata": {},
   "outputs": [],
   "source": [
    "vif=pd.DataFrame()\n",
    "vif[\"VIF Factor\"]=[variance_inflation_factor(X.values,i) for i in range(X.shape[1])]\n",
    "vif[\"features\"]=X.columns"
   ]
  },
  {
   "cell_type": "code",
   "execution_count": 35,
   "metadata": {},
   "outputs": [
    {
     "data": {
      "text/html": [
       "<div>\n",
       "<style scoped>\n",
       "    .dataframe tbody tr th:only-of-type {\n",
       "        vertical-align: middle;\n",
       "    }\n",
       "\n",
       "    .dataframe tbody tr th {\n",
       "        vertical-align: top;\n",
       "    }\n",
       "\n",
       "    .dataframe thead th {\n",
       "        text-align: right;\n",
       "    }\n",
       "</style>\n",
       "<table border=\"1\" class=\"dataframe\">\n",
       "  <thead>\n",
       "    <tr style=\"text-align: right;\">\n",
       "      <th></th>\n",
       "      <th>VIF Factor</th>\n",
       "      <th>features</th>\n",
       "    </tr>\n",
       "  </thead>\n",
       "  <tbody>\n",
       "    <tr>\n",
       "      <th>0</th>\n",
       "      <td>6.135476</td>\n",
       "      <td>Intercept</td>\n",
       "    </tr>\n",
       "    <tr>\n",
       "      <th>1</th>\n",
       "      <td>1.003013</td>\n",
       "      <td>TV</td>\n",
       "    </tr>\n",
       "    <tr>\n",
       "      <th>2</th>\n",
       "      <td>1.003013</td>\n",
       "      <td>Radio</td>\n",
       "    </tr>\n",
       "  </tbody>\n",
       "</table>\n",
       "</div>"
      ],
      "text/plain": [
       "   VIF Factor   features\n",
       "0    6.135476  Intercept\n",
       "1    1.003013         TV\n",
       "2    1.003013      Radio"
      ]
     },
     "execution_count": 35,
     "metadata": {},
     "output_type": "execute_result"
    }
   ],
   "source": [
    "vif"
   ]
  },
  {
   "cell_type": "code",
   "execution_count": 36,
   "metadata": {},
   "outputs": [
    {
     "data": {
      "text/plain": [
       "<seaborn.axisgrid.JointGrid at 0x1fb9afac4a8>"
      ]
     },
     "execution_count": 36,
     "metadata": {},
     "output_type": "execute_result"
    },
    {
     "data": {
      "image/png": "[encoded data removed]",
      "text/plain": [
       "<Figure size 432x432 with 3 Axes>"
      ]
     },
     "metadata": {
      "needs_background": "light"
     },
     "output_type": "display_data"
    }
   ],
   "source": [
    "sns.jointplot(advt.Sales,lm.resid)"
   ]
  },
  {
   "cell_type": "code",
   "execution_count": 37,
   "metadata": {},
   "outputs": [
    {
     "data": {
      "text/plain": [
       "1.8192876875949893e-101"
      ]
     },
     "execution_count": 37,
     "metadata": {},
     "output_type": "execute_result"
    }
   ],
   "source": [
    "# Getting the f value\n",
    "lm.f_pvalue"
   ]
  },
  {
   "cell_type": "code",
   "execution_count": 38,
   "metadata": {},
   "outputs": [
    {
     "data": {
      "text/plain": [
       "Intercept    3.037164\n",
       "TV           0.045086\n",
       "Radio        0.187786\n",
       "dtype: float64"
      ]
     },
     "execution_count": 38,
     "metadata": {},
     "output_type": "execute_result"
    }
   ],
   "source": [
    "## Getting model parameters\n",
    "lm.params"
   ]
  },
  {
   "cell_type": "code",
   "execution_count": 39,
   "metadata": {},
   "outputs": [
    {
     "data": {
      "text/html": [
       "<div>\n",
       "<style scoped>\n",
       "    .dataframe tbody tr th:only-of-type {\n",
       "        vertical-align: middle;\n",
       "    }\n",
       "\n",
       "    .dataframe tbody tr th {\n",
       "        vertical-align: top;\n",
       "    }\n",
       "\n",
       "    .dataframe thead th {\n",
       "        text-align: right;\n",
       "    }\n",
       "</style>\n",
       "<table border=\"1\" class=\"dataframe\">\n",
       "  <thead>\n",
       "    <tr style=\"text-align: right;\">\n",
       "      <th></th>\n",
       "      <th>0</th>\n",
       "      <th>1</th>\n",
       "    </tr>\n",
       "  </thead>\n",
       "  <tbody>\n",
       "    <tr>\n",
       "      <th>Intercept</th>\n",
       "      <td>2.487161</td>\n",
       "      <td>3.587166</td>\n",
       "    </tr>\n",
       "    <tr>\n",
       "      <th>TV</th>\n",
       "      <td>0.042489</td>\n",
       "      <td>0.047683</td>\n",
       "    </tr>\n",
       "    <tr>\n",
       "      <th>Radio</th>\n",
       "      <td>0.172771</td>\n",
       "      <td>0.202802</td>\n",
       "    </tr>\n",
       "  </tbody>\n",
       "</table>\n",
       "</div>"
      ],
      "text/plain": [
       "                  0         1\n",
       "Intercept  2.487161  3.587166\n",
       "TV         0.042489  0.047683\n",
       "Radio      0.172771  0.202802"
      ]
     },
     "execution_count": 39,
     "metadata": {},
     "output_type": "execute_result"
    }
   ],
   "source": [
    "# Parameters at 95% confidence intervals\n",
    "lm.conf_int()"
   ]
  },
  {
   "cell_type": "code",
   "execution_count": 40,
   "metadata": {},
   "outputs": [
    {
     "data": {
      "text/plain": [
       "Intercept    6.369904e-22\n",
       "TV           6.960144e-85\n",
       "Radio        3.849279e-62\n",
       "dtype: float64"
      ]
     },
     "execution_count": 40,
     "metadata": {},
     "output_type": "execute_result"
    }
   ],
   "source": [
    "# Verifying parameter significance\n",
    "lm.pvalues"
   ]
  },
  {
   "cell_type": "code",
   "execution_count": 41,
   "metadata": {},
   "outputs": [
    {
     "data": {
      "text/plain": [
       "0.9051018203011454"
      ]
     },
     "execution_count": 41,
     "metadata": {},
     "output_type": "execute_result"
    }
   ],
   "source": [
    "lm.rsquared"
   ]
  },
  {
   "cell_type": "code",
   "execution_count": 42,
   "metadata": {},
   "outputs": [
    {
     "data": {
      "text/plain": [
       "0    20.509818\n",
       "1    12.423503\n",
       "2    12.432040\n",
       "3    17.623297\n",
       "4    13.216837\n",
       "5    12.612167\n",
       "6    11.789012\n",
       "7    12.137135\n",
       "8     3.819256\n",
       "9    12.533627\n",
       "dtype: float64"
      ]
     },
     "execution_count": 42,
     "metadata": {},
     "output_type": "execute_result"
    }
   ],
   "source": [
    "lmpredict = lm.predict( {'TV': advt.TV ,'Radio':advt.Radio} )\n",
    "lmpredict[0:10]"
   ]
  },
  {
   "cell_type": "code",
   "execution_count": 43,
   "metadata": {},
   "outputs": [
    {
     "data": {
      "text/plain": [
       "2.4974594216362"
      ]
     },
     "execution_count": 43,
     "metadata": {},
     "output_type": "execute_result"
    }
   ],
   "source": [
    "mse = metrics.mean_squared_error( advt.Sales, lmpredict )\n",
    "mse"
   ]
  },
  {
   "cell_type": "code",
   "execution_count": 44,
   "metadata": {},
   "outputs": [
    {
     "data": {
      "text/plain": [
       "1.5803352244496103"
      ]
     },
     "execution_count": 44,
     "metadata": {},
     "output_type": "execute_result"
    }
   ],
   "source": [
    "rmse = np.sqrt( mse )\n",
    "rmse"
   ]
  },
  {
   "cell_type": "code",
   "execution_count": 45,
   "metadata": {},
   "outputs": [
    {
     "data": {
      "text/plain": [
       "1   -2.023503\n",
       "2   -3.132040\n",
       "3    0.876703\n",
       "4   -0.316837\n",
       "5   -5.412167\n",
       "6    0.010988\n",
       "7    1.062865\n",
       "8    0.980744\n",
       "9   -1.933627\n",
       "dtype: float64"
      ]
     },
     "execution_count": 45,
     "metadata": {},
     "output_type": "execute_result"
    }
   ],
   "source": [
    "lm.resid[1:10]"
   ]
  },
  {
   "cell_type": "code",
   "execution_count": 46,
   "metadata": {},
   "outputs": [
    {
     "data": {
      "text/plain": [
       "<seaborn.axisgrid.JointGrid at 0x1fb9b067c88>"
      ]
     },
     "execution_count": 46,
     "metadata": {},
     "output_type": "execute_result"
    },
    {
     "data": {
      "image/png": "[encoded data removed]",
      "text/plain": [
       "<Figure size 432x432 with 3 Axes>"
      ]
     },
     "metadata": {
      "needs_background": "light"
     },
     "output_type": "display_data"
    }
   ],
   "source": [
    "sns.jointplot(  advt.Sales, lm.resid )b"
   ]
  },
  {
   "cell_type": "code",
   "execution_count": null,
   "metadata": {},
   "outputs": [],
   "source": [
    "#the residuals are normally distributed i.e. they are random.\n",
    "#The residuals plotted against the response variable does not show any pattern"
   ]
  },
  {
   "cell_type": "markdown",
   "metadata": {},
   "source": [
    "#### Parameters estimated are considered to be significant if p-value is less than 0.05. This indicates intercept ,TV and Radio are significant parameters.\n",
    "#### So, the linear model is Sales=3.037164+ 0.045086∗TV+ 0.187786∗Radio"
   ]
  },
  {
   "cell_type": "markdown",
   "metadata": {},
   "source": [
    "## Using sklearn Library to build the model"
   ]
  },
  {
   "cell_type": "code",
   "execution_count": 47,
   "metadata": {},
   "outputs": [],
   "source": [
    "from sklearn.linear_model import LinearRegression"
   ]
  },
  {
   "cell_type": "code",
   "execution_count": 48,
   "metadata": {},
   "outputs": [],
   "source": [
    "from sklearn.model_selection import train_test_split"
   ]
  },
  {
   "cell_type": "code",
   "execution_count": 49,
   "metadata": {},
   "outputs": [],
   "source": [
    "X_train, X_test, y_train, y_test = train_test_split(\n",
    "  advt[[\"TV\", \"Radio\", \"Newspaper\"]],\n",
    "  advt.Sales,\n",
    "  test_size=0.3,\n",
    "  random_state = 42 )"
   ]
  },
  {
   "cell_type": "code",
   "execution_count": 50,
   "metadata": {},
   "outputs": [
    {
     "name": "stdout",
     "output_type": "stream",
     "text": [
      "140\n",
      "60\n"
     ]
    }
   ],
   "source": [
    "print(len( X_train))\n",
    "print(len( X_test))"
   ]
  },
  {
   "cell_type": "code",
   "execution_count": 51,
   "metadata": {},
   "outputs": [],
   "source": [
    "linreg = LinearRegression()\n",
    "linreg.fit( X_train, y_train )\n",
    "y_pred = linreg.predict( X_test )"
   ]
  },
  {
   "cell_type": "code",
   "execution_count": 52,
   "metadata": {},
   "outputs": [
    {
     "data": {
      "text/plain": [
       "array([0.0430393 , 0.20033812, 0.00417882])"
      ]
     },
     "execution_count": 52,
     "metadata": {},
     "output_type": "execute_result"
    }
   ],
   "source": [
    "linreg.coef_"
   ]
  },
  {
   "cell_type": "code",
   "execution_count": 53,
   "metadata": {},
   "outputs": [
    {
     "data": {
      "text/plain": [
       "1.9555014830178585"
      ]
     },
     "execution_count": 53,
     "metadata": {},
     "output_type": "execute_result"
    }
   ],
   "source": [
    "from sklearn import metrics\n",
    "rmse = np.sqrt( metrics.mean_squared_error( y_test, y_pred ) )\n",
    "rmse"
   ]
  },
  {
   "cell_type": "code",
   "execution_count": 54,
   "metadata": {},
   "outputs": [
    {
     "data": {
      "text/plain": [
       "1.4344122789633453"
      ]
     },
     "execution_count": 54,
     "metadata": {},
     "output_type": "execute_result"
    }
   ],
   "source": [
    "y_pred_t = linreg.predict(X_train)\n",
    "rmse_t = np.sqrt( metrics.mean_squared_error( y_train, y_pred_t) )\n",
    "rmse_t"
   ]
  },
  {
   "cell_type": "code",
   "execution_count": 55,
   "metadata": {},
   "outputs": [
    {
     "data": {
      "text/plain": [
       "0.9181096723941515"
      ]
     },
     "execution_count": 55,
     "metadata": {},
     "output_type": "execute_result"
    }
   ],
   "source": [
    "metrics.r2_score( y_train, y_pred_t )"
   ]
  },
  {
   "cell_type": "code",
   "execution_count": 56,
   "metadata": {},
   "outputs": [
    {
     "data": {
      "text/plain": [
       "0.8599508916809204"
      ]
     },
     "execution_count": 56,
     "metadata": {},
     "output_type": "execute_result"
    }
   ],
   "source": [
    "metrics.r2_score( y_test, y_pred )"
   ]
  },
  {
   "cell_type": "code",
   "execution_count": 57,
   "metadata": {},
   "outputs": [
    {
     "data": {
      "text/plain": [
       "[('TV', 0.043039300349941585),\n",
       " ('Radio', 0.20033812183662097),\n",
       " ('Newspaper', 0.0041788227946051165)]"
      ]
     },
     "execution_count": 57,
     "metadata": {},
     "output_type": "execute_result"
    }
   ],
   "source": [
    "list( zip( [\"TV\", \"Radio\", \"Newspaper\"], list( linreg.coef_ ) ) )"
   ]
  },
  {
   "cell_type": "code",
   "execution_count": 58,
   "metadata": {},
   "outputs": [
    {
     "data": {
      "text/plain": [
       "95     0.375428\n",
       "15     1.268423\n",
       "30    -0.000815\n",
       "158   -3.729429\n",
       "128    2.443992\n",
       "115   -0.808819\n",
       "69     1.116062\n",
       "170    0.902713\n",
       "174   -1.752342\n",
       "45    -0.219932\n",
       "Name: Sales, dtype: float64"
      ]
     },
     "execution_count": 58,
     "metadata": {},
     "output_type": "execute_result"
    }
   ],
   "source": [
    "residuals = y_test - y_pred\n",
    "residuals[0:10]"
   ]
  },
  {
   "cell_type": "code",
   "execution_count": 61,
   "metadata": {},
   "outputs": [
    {
     "data": {
      "text/plain": [
       "<seaborn.axisgrid.JointGrid at 0x1fb9b1af7b8>"
      ]
     },
     "execution_count": 61,
     "metadata": {},
     "output_type": "execute_result"
    },
    {
     "data": {
      "image/png": "[encoded data removed]",
      "text/plain": [
       "<Figure size 432x432 with 3 Axes>"
      ]
     },
     "metadata": {
      "needs_background": "light"
     },
     "output_type": "display_data"
    }
   ],
   "source": [
    "sns.jointplot( y_test,residuals)"
   ]
  },
  {
   "cell_type": "code",
   "execution_count": 62,
   "metadata": {},
   "outputs": [
    {
     "data": {
      "text/plain": [
       "<matplotlib.axes._subplots.AxesSubplot at 0x1fb9c7b7898>"
      ]
     },
     "execution_count": 62,
     "metadata": {},
     "output_type": "execute_result"
    },
    {
     "data": {
      "image/png": "[encoded data removed]",
      "text/plain": [
       "<Figure size 432x288 with 1 Axes>"
      ]
     },
     "metadata": {
      "needs_background": "light"
     },
     "output_type": "display_data"
    }
   ],
   "source": [
    "sns.distplot( residuals )"
   ]
  },
  {
   "cell_type": "code",
   "execution_count": 63,
   "metadata": {},
   "outputs": [
    {
     "data": {
      "image/png": "[encoded data removed]",
      "text/plain": [
       "<Figure size 432x288 with 1 Axes>"
      ]
     },
     "metadata": {
      "needs_background": "light"
     },
     "output_type": "display_data"
    }
   ],
   "source": [
    "from scipy import stats\n",
    "import pylab\n",
    "\n",
    "stats.probplot( residuals, dist=\"norm\", plot=pylab )\n",
    "pylab.show()"
   ]
  },
  {
   "cell_type": "code",
   "execution_count": null,
   "metadata": {},
   "outputs": [],
   "source": [
    "#The residuals are randomly distributed. There are no visible relationship. The model can be assumed to be correct"
   ]
  },
  {
   "cell_type": "code",
   "execution_count": 64,
   "metadata": {},
   "outputs": [],
   "source": [
    "### K-FOLD CROSS VALIDATION\n",
    "from sklearn.model_selection import cross_val_score"
   ]
  },
  {
   "cell_type": "code",
   "execution_count": 65,
   "metadata": {},
   "outputs": [],
   "source": [
    "linreg = LinearRegression()"
   ]
  },
  {
   "cell_type": "code",
   "execution_count": 66,
   "metadata": {},
   "outputs": [
    {
     "data": {
      "text/plain": [
       "array([0.81281544, 0.86934902, 0.95082325, 0.92403931, 0.94066325,\n",
       "       0.91266428, 0.85995506, 0.95645737, 0.76575913, 0.90226452])"
      ]
     },
     "execution_count": 66,
     "metadata": {},
     "output_type": "execute_result"
    }
   ],
   "source": [
    "cross_val_score( linreg, X_train, y_train, scoring = 'r2', cv = 10 )"
   ]
  },
  {
   "cell_type": "code",
   "execution_count": 67,
   "metadata": {},
   "outputs": [
    {
     "data": {
      "text/plain": [
       "0.89"
      ]
     },
     "execution_count": 67,
     "metadata": {},
     "output_type": "execute_result"
    }
   ],
   "source": [
    "round( np.mean( cross_val_score( linreg,\n",
    "                              X_train,\n",
    "                              y_train,\n",
    "                              scoring = 'r2',\n",
    "                              cv = 10 ) ), 2 )"
   ]
  },
  {
   "cell_type": "code",
   "execution_count": 68,
   "metadata": {},
   "outputs": [],
   "source": [
    "# Feature Selection based on importance\n",
    "from sklearn.feature_selection import f_regression"
   ]
  },
  {
   "cell_type": "code",
   "execution_count": 69,
   "metadata": {},
   "outputs": [
    {
     "data": {
      "text/plain": [
       "array([185.0114304 ,  93.76524204,   8.44029735])"
      ]
     },
     "execution_count": 69,
     "metadata": {},
     "output_type": "execute_result"
    }
   ],
   "source": [
    "F_values, p_values  = f_regression(  X_train, y_train )\n",
    "F_values"
   ]
  },
  {
   "cell_type": "code",
   "execution_count": 70,
   "metadata": {},
   "outputs": [
    {
     "data": {
      "text/plain": [
       "['0.000', '0.000', '0.004']"
      ]
     },
     "execution_count": 70,
     "metadata": {},
     "output_type": "execute_result"
    }
   ],
   "source": [
    "['%.3f' % p for p in p_values]"
   ]
  },
  {
   "cell_type": "code",
   "execution_count": null,
   "metadata": {},
   "outputs": [],
   "source": [
    "#As p - values are less than 5% - the variables are siginificant in the regression equation."
   ]
  },
  {
   "cell_type": "code",
   "execution_count": 71,
   "metadata": {},
   "outputs": [],
   "source": [
    "### Exporting and importing the model\n",
    "import pickle"
   ]
  },
  {
   "cell_type": "code",
   "execution_count": 72,
   "metadata": {},
   "outputs": [
    {
     "data": {
      "text/plain": [
       "['lin_model.pkl']"
      ]
     },
     "execution_count": 72,
     "metadata": {},
     "output_type": "execute_result"
    }
   ],
   "source": [
    "from sklearn.externals import joblib\n",
    "joblib.dump(linreg, 'lin_model.pkl', compress=9)"
   ]
  },
  {
   "cell_type": "code",
   "execution_count": 73,
   "metadata": {},
   "outputs": [],
   "source": [
    "model_clone = joblib.load('lin_model.pkl')"
   ]
  },
  {
   "cell_type": "code",
   "execution_count": 74,
   "metadata": {},
   "outputs": [
    {
     "data": {
      "text/plain": [
       "LinearRegression(copy_X=True, fit_intercept=True, n_jobs=None,\n",
       "         normalize=False)"
      ]
     },
     "execution_count": 74,
     "metadata": {},
     "output_type": "execute_result"
    }
   ],
   "source": [
    "model_clone"
   ]
  },
  {
   "cell_type": "code",
   "execution_count": null,
   "metadata": {},
   "outputs": [],
   "source": []
  }
 ],
 "metadata": {
  "kernelspec": {
   "display_name": "Python 3",
   "language": "python",
   "name": "python3"
  },
  "language_info": {
   "codemirror_mode": {
    "name": "ipython",
    "version": 3
   },
   "file_extension": ".py",
   "mimetype": "text/x-python",
   "name": "python",
   "nbconvert_exporter": "python",
   "pygments_lexer": "ipython3",
   "version": "3.7.1"
  }
 },
 "nbformat": 4,
 "nbformat_minor": 2
}
